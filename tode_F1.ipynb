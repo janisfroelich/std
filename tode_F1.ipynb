{
 "cells": [
  {
   "cell_type": "code",
   "execution_count": 6,
   "metadata": {},
   "outputs": [
    {
     "data": {
      "text/html": [
       "<div>\n",
       "<style scoped>\n",
       "    .dataframe tbody tr th:only-of-type {\n",
       "        vertical-align: middle;\n",
       "    }\n",
       "\n",
       "    .dataframe tbody tr th {\n",
       "        vertical-align: top;\n",
       "    }\n",
       "\n",
       "    .dataframe thead th {\n",
       "        text-align: right;\n",
       "    }\n",
       "</style>\n",
       "<table border=\"1\" class=\"dataframe\">\n",
       "  <thead>\n",
       "    <tr style=\"text-align: right;\">\n",
       "      <th></th>\n",
       "      <th>Driver</th>\n",
       "      <th>Age</th>\n",
       "      <th>Date Of Accident</th>\n",
       "      <th>Event</th>\n",
       "      <th>Car</th>\n",
       "      <th>Session</th>\n",
       "      <th>Year</th>\n",
       "    </tr>\n",
       "  </thead>\n",
       "  <tbody>\n",
       "    <tr>\n",
       "      <th>0</th>\n",
       "      <td>Onofre Marimón</td>\n",
       "      <td>30.0</td>\n",
       "      <td>July 31, 1954</td>\n",
       "      <td>1954 German Grand Prix</td>\n",
       "      <td>Maserati</td>\n",
       "      <td>Practice</td>\n",
       "      <td>1954</td>\n",
       "    </tr>\n",
       "    <tr>\n",
       "      <th>1</th>\n",
       "      <td>Brian McGuire</td>\n",
       "      <td>31.0</td>\n",
       "      <td>August 29, 1977</td>\n",
       "      <td>1977 Shellsport Championship</td>\n",
       "      <td>McGuire</td>\n",
       "      <td>Practice</td>\n",
       "      <td>1977</td>\n",
       "    </tr>\n",
       "    <tr>\n",
       "      <th>2</th>\n",
       "      <td>Fritz Glatz</td>\n",
       "      <td>58.0</td>\n",
       "      <td>July 14, 2002</td>\n",
       "      <td>2002 EuroBOSS Series Season</td>\n",
       "      <td>Footwork</td>\n",
       "      <td>Race</td>\n",
       "      <td>2002</td>\n",
       "    </tr>\n",
       "    <tr>\n",
       "      <th>3</th>\n",
       "      <td>Helmuth Koinigg</td>\n",
       "      <td>25.0</td>\n",
       "      <td>October 6, 1974</td>\n",
       "      <td>1974 United States Grand Prix</td>\n",
       "      <td>Surtees</td>\n",
       "      <td>Race</td>\n",
       "      <td>1974</td>\n",
       "    </tr>\n",
       "    <tr>\n",
       "      <th>4</th>\n",
       "      <td>Jochen Rindt</td>\n",
       "      <td>28.0</td>\n",
       "      <td>September 5, 1970</td>\n",
       "      <td>1970 Italian Grand Prix</td>\n",
       "      <td>Lotus</td>\n",
       "      <td>Qualifying</td>\n",
       "      <td>1970</td>\n",
       "    </tr>\n",
       "  </tbody>\n",
       "</table>\n",
       "</div>"
      ],
      "text/plain": [
       "            Driver   Age   Date Of Accident                          Event  \\\n",
       "0   Onofre Marimón  30.0      July 31, 1954         1954 German Grand Prix   \n",
       "1    Brian McGuire  31.0    August 29, 1977   1977 Shellsport Championship   \n",
       "2      Fritz Glatz  58.0      July 14, 2002    2002 EuroBOSS Series Season   \n",
       "3  Helmuth Koinigg  25.0    October 6, 1974  1974 United States Grand Prix   \n",
       "4     Jochen Rindt  28.0  September 5, 1970        1970 Italian Grand Prix   \n",
       "\n",
       "        Car     Session  Year  \n",
       "0  Maserati    Practice  1954  \n",
       "1   McGuire    Practice  1977  \n",
       "2  Footwork        Race  2002  \n",
       "3   Surtees        Race  1974  \n",
       "4     Lotus  Qualifying  1970  "
      ]
     },
     "execution_count": 6,
     "metadata": {},
     "output_type": "execute_result"
    }
   ],
   "source": [
    "import pandas as pd\n",
    "\n",
    "# Define the data from the table\n",
    "data = {\n",
    "    \"Driver\": [\n",
    "        \"Onofre Marimón\", \"Brian McGuire\", \"Fritz Glatz\", \"Helmuth Koinigg\", \"Jochen Rindt\", \n",
    "        \"Roland Ratzenberger\", \"Charles de Tornaco\", \"Ayrton Senna\", \"Gilles Villeneuve\", \n",
    "        \"François Cevert\", \"Jo Schlesser\", \"Jules Bianchi\", \"Patrick Depailler\", \"Gerhard Mitter\", \n",
    "        \"Wolfgang von Trips\", \"Elio de Angelis\", \"Eugenio Castellotti\", \"Giulio Cabianca\", \n",
    "        \"Lorenzo Bandini\", \"Luigi Musso\", \"Mario Alborghetti\", \"Riccardo Paletti\", \"Ricardo Rodríguez\", \n",
    "        \"Carel Godin de Beaufort\", \"Gary Hocking\", \"Ronnie Peterson\", \"Jo Siffert\", \"Alan Stacey\", \n",
    "        \"Bob Anderson\", \"Cameron Earl\", \"Chris Bristow\", \"John Dawson-Damer\", \"John Taylor\", \n",
    "        \"Martin Brain\", \"Peter Collins\", \"Piers Courage\", \"Roger Williamson\", \"Shane Summers\", \n",
    "        \"Stuart Lewis-Evans\", \"Tom Pryce\", \"Bill Vukovich\", \"Bob Cortner\", \"Chet Miller\", \n",
    "        \"Harry Schell\", \"Jerry Unser Jr.\", \"Keith Andrews\", \"Manny Ayulo\", \"Mark Donohue\", \n",
    "        \"Pat O'Connor\", \"Peter Revson\"\n",
    "    ],\n",
    "    \"Age\": [\n",
    "        30, 31, 58, 25, 28, 33, 26, 34, 32, 29, 40, 25, 35, 33, 33, 28, 26, 38, 31, 33, 26, 23, 20, 30, 25, 34, 35, 26, 36, 29, 22, 59, 33, None, 26, 28, 25, 24, 28, 27, 36, 32, 50, 38, 26, 36, 33, 38, 29, 35\n",
    "    ],\n",
    "    \"Date Of Accident\": [\n",
    "        \"July 31, 1954\", \"August 29, 1977\", \"July 14, 2002\", \"October 6, 1974\", \"September 5, 1970\",\n",
    "        \"April 30, 1994\", \"September 18, 1953\", \"May 1, 1994\", \"May 8, 1982\", \"October 6, 1973\",\n",
    "        \"July 7, 1968\", \"October 5, 2014\", \"August 1, 1980\", \"August 2, 1969\", \"September 10, 1961\",\n",
    "        \"May 15, 1986\", \"March 14, 1957\", \"June 15, 1961\", \"May 7, 1967\", \"July 6, 1958\", \n",
    "        \"April 11, 1955\", \"June 13, 1982\", \"November 1, 1962\", \"August 2, 1964\", \"December 21, 1962\", \n",
    "        \"September 10, 1978\", \"October 24, 1971\", \"June 19, 1960\", \"August 14, 1967\", \"June 18, 1952\", \n",
    "        \"June 19, 1960\", \"June 24, 2000\", \"August 7, 1966\", \"May 25, 1970\", \"August 3, 1958\", \n",
    "        \"June 7, 1970\", \"July 29, 1973\", \"June 1, 1961\", \"September 19, 1958\", \"March 5, 1977\", \n",
    "        \"May 30, 1955\", \"May 19, 1959\", \"May 15, 1953\", \"May 13, 1960\", \"May 17, 1959\", \n",
    "        \"May 15, 1957\", \"May 16, 1955\", \"August 19, 1975\", \"May 30, 1958\", \"March 22, 1974\"\n",
    "    ],\n",
    "    \"Event\": [\n",
    "        \"1954 German Grand Prix\", \"1977 Shellsport Championship\", \"2002 EuroBOSS Series Season\", \n",
    "        \"1974 United States Grand Prix\", \"1970 Italian Grand Prix\", \"1994 San Marino Grand Prix\", \n",
    "        \"1953 Modena Grand Prix\", \"1994 San Marino Grand Prix\", \"1982 Belgian Grand Prix\", \n",
    "        \"1973 United States Grand Prix\", \"1968 French Grand Prix\", \"2014 Japanese Grand Prix\", \n",
    "        \"N/A\", \"1969 German Grand Prix\", \"1961 Italian Grand Prix\", \"N/A\", \"N/A\", \"N/A\", \n",
    "        \"1967 Monaco Grand Prix\", \"1958 French Grand Prix\", \"1955 Pau Grand Prix\", \n",
    "        \"1982 Canadian Grand Prix\", \"1962 Mexican Grand Prix\", \"1964 German Grand Prix\", \n",
    "        \"1962 Natal Grand Prix\", \"1978 Italian Grand Prix\", \"1971 World Championship Victory Race\", \n",
    "        \"1960 Belgian Grand Prix\", \"N/A\", \"N/A\", \"1960 Belgian Grand Prix\", \n",
    "        \"2000 Goodwood Festival of Speed\", \"1966 German Grand Prix\", \"Nottingham Sportscar Club Meeting\", \n",
    "        \"1958 German Grand Prix\", \"1970 Dutch Grand Prix\", \"1973 Dutch Grand Prix\", \"1961 Silver City Trophy\", \n",
    "        \"1958 Moroccan Grand Prix\", \"1977 South African Grand Prix\", \"1955 Indianapolis 500\", \n",
    "        \"1959 Indianapolis 500\", \"1953 Indianapolis 500\", \"1960 BRDC International Trophy\", \n",
    "        \"1959 Indianapolis 500\", \"1957 Indianapolis 500\", \"1955 Indianapolis 500\", \n",
    "        \"1975 Austrian Grand Prix\", \"1958 Indianapolis 500\", \"1974 South African Grand Prix\"\n",
    "    ],\n",
    "    \"Car\": [\n",
    "        \"Maserati\", \"McGuire\", \"Footwork\", \"Surtees\", \"Lotus\", \"Simtek\", \"Ferrari\", \"Williams\", \n",
    "        \"Ferrari\", \"Tyrrell\", \"Honda\", \"Marussia\", \"Alfa Romeo\", \"BMW\", \"Ferrari\", \"Brabham\", \n",
    "        \"Ferrari\", \"Cooper\", \"Ferrari\", \"Ferrari\", \"Maserati\", \"Osella\", \"Lotus\", \"Porsche\", \n",
    "        \"Lotus\", \"Lotus\", \"BRM\", \"Lotus\", \"Brabham\", \"ERA\", \"Cooper\", \"Lotus\", \"Brabham\", \n",
    "        \"Cooper\", \"Ferrari\", \"De Tomaso\", \"March\", \"Cooper\", \"Vanwall\", \"Shadow\", \"Kurtis Kraft\", \n",
    "        \"Cornis\", \"Kurtis Kraft\", \"Cooper\", \"Kurtis Kraft\", \"Kurtis Kraft\", \"Kuzma\", \"Penske\", \n",
    "        \"Kurtis Kraft\", \"Shadow\"\n",
    "    ],\n",
    "    \"Session\": [\n",
    "        \"Practice\", \"Practice\", \"Race\", \"Race\", \"Qualifying\", \"Qualifying\", \"Practice\", \"Race\", \n",
    "        \"Qualifying\", \"Qualifying\", \"Race\", \"Race\", \"Test\", \"Practice\", \"Race\", \"Test\", \"Test\", \n",
    "        \"Test\", \"Race\", \"Race\", \"Race\", \"Race\", \"Practice\", \"Practice\", \"Practice\", \"Race\", \n",
    "        \"Race\", \"Race\", \"Test\", \"Test\", \"Race\", \"Demonstration\", \"Race\", \"Race\", \"Race\", \n",
    "        \"Race\", \"Race\", \"Practice\", \"Race\", \"Race\", \"Pre-race test\", \"Practice\", \"Practice\", \n",
    "        \"Pre-race test\", \"Practice\", \"Practice\", \"Practice\", \"Practice\", \"Race\", \"Pre-race test\"\n",
    "    ]\n",
    "}\n",
    "\n",
    "# Create the DataFrame\n",
    "df = pd.DataFrame(data)\n",
    "\n",
    "# Extract year from \"Date Of Accident\" column\n",
    "df['Year'] = pd.to_datetime(df['Date Of Accident']).dt.year\n",
    "\n",
    "df.head()\n"
   ]
  },
  {
   "cell_type": "code",
   "execution_count": 7,
   "metadata": {},
   "outputs": [
    {
     "data": {
      "image/png": "[encoded data removed]",
      "text/plain": [
       "<Figure size 1400x700 with 1 Axes>"
      ]
     },
     "metadata": {},
     "output_type": "display_data"
    }
   ],
   "source": [
    "import matplotlib.pyplot as plt\n",
    "\n",
    "# Define the safety technologies and the years they were introduced\n",
    "safety_technologies = {\n",
    "    1950: \"Streckenposten\",\n",
    "    1952: \"Helme\",\n",
    "    1975: \"Feuerfeste Rennanzüge\",\n",
    "    1981: \"Überlebenszelle\",\n",
    "    1983: \"Boden-Effekt verboten\",\n",
    "    1993: \"Safety Car\",\n",
    "    1994: [\"Geschwindigkeitsbegrenzung in der Boxengasse\", \"Umfassende Sicherheitsänderungen an Autos, Barrieren und Auslaufzonen verbessert\"],\n",
    "    1996: \"Nackenstütze\",\n",
    "    1997: \"Unfalldatenrecorder\",\n",
    "    1999: \"Radaufhängungen\",\n",
    "    2003: \"HANS-Gerät\",\n",
    "    2010: \"Wiedereinführung des Nachtankverbots\",\n",
    "    2014: \"Beschleunigungsmesser\",\n",
    "    2015: \"Virtuelles Safety Car\",\n",
    "    2016: \"Fahrergerichtete Kamera eingeführt, Superlizenz überarbeitet\",\n",
    "    2018: \"Halo\"\n",
    "}\n",
    "\n",
    "\n",
    "# Create a line chart with whole numbers on the y-axis and include years up to the present\n",
    "current_year = 2024\n",
    "years = list(range(df['Year'].min(), current_year + 1))\n",
    "\n",
    "# Count the number of deaths per year\n",
    "deaths_per_year = df['Year'].value_counts().sort_index()\n",
    "\n",
    "# Update the deaths_per_year Series to include all years up to the current year\n",
    "deaths_per_year = deaths_per_year.reindex(years, fill_value=0)\n",
    "\n",
    "# Create the plot\n",
    "plt.figure(figsize=(14, 7))\n",
    "plt.plot(deaths_per_year.index, deaths_per_year.values, marker='o', color='blue')\n",
    "plt.title('Number of F1 Driver Deaths Per Year')\n",
    "plt.xlabel('Year')\n",
    "plt.ylabel('Number of Deaths')\n",
    "plt.xticks(range(df['Year'].min(), current_year + 1, 5), rotation=45)\n",
    "plt.yticks(range(0, deaths_per_year.max() + 1))\n",
    "plt.grid(False)  # Disable the grid lines\n",
    "\n",
    "# Add the safety technology lines and annotations\n",
    "for year, technology in safety_technologies.items():\n",
    "    plt.axvline(x=year, color='red', linestyle='--', linewidth=0.8)\n",
    "    if isinstance(technology, list):\n",
    "        for i, tech in enumerate(technology):\n",
    "            plt.text(year, deaths_per_year.max() - (i * 0.5), f'{year}: {tech}', rotation=90, verticalalignment='bottom', color='red', fontsize=8)\n",
    "    else:\n",
    "        plt.text(year, deaths_per_year.max(), f'{year}: {technology}', rotation=90, verticalalignment='bottom', color='red', fontsize=8)\n",
    "\n",
    "plt.show()\n"
   ]
  },
  {
   "cell_type": "code",
   "execution_count": 15,
   "metadata": {},
   "outputs": [
    {
     "data": {
      "application/vnd.plotly.v1+json": {
       "config": {
        "plotlyServerURL": "https://plot.ly"
       },
       "data": [
        {
         "hoverinfo": "x+y",
         "line": {
          "color": "blue"
         },
         "marker": {
          "size": 6
         },
         "mode": "lines+markers",
         "name": "Deaths",
         "type": "scatter",
         "x": [
          1952,
          1953,
          1954,
          1955,
          1956,
          1957,
          1958,
          1959,
          1960,
          1961,
          1962,
          1963,
          1964,
          1965,
          1966,
          1967,
          1968,
          1969,
          1970,
          1971,
          1972,
          1973,
          1974,
          1975,
          1976,
          1977,
          1978,
          1979,
          1980,
          1981,
          1982,
          1983,
          1984,
          1985,
          1986,
          1987,
          1988,
          1989,
          1990,
          1991,
          1992,
          1993,
          1994,
          1995,
          1996,
          1997,
          1998,
          1999,
          2000,
          2001,
          2002,
          2003,
          2004,
          2005,
          2006,
          2007,
          2008,
          2009,
          2010,
          2011,
          2012,
          2013,
          2014,
          2015,
          2016,
          2017,
          2018,
          2019,
          2020,
          2021,
          2022,
          2023,
          2024
         ],
         "y": [
          1,
          2,
          1,
          3,
          0,
          2,
          4,
          2,
          3,
          3,
          2,
          0,
          1,
          0,
          1,
          2,
          1,
          1,
          3,
          1,
          0,
          2,
          2,
          1,
          0,
          2,
          1,
          0,
          1,
          0,
          2,
          0,
          0,
          0,
          1,
          0,
          0,
          0,
          0,
          0,
          0,
          0,
          2,
          0,
          0,
          0,
          0,
          0,
          1,
          0,
          1,
          0,
          0,
          0,
          0,
          0,
          0,
          0,
          0,
          0,
          0,
          0,
          1,
          0,
          0,
          0,
          0,
          0,
          0,
          0,
          0,
          0,
          0
         ]
        },
        {
         "hoverinfo": "text",
         "line": {
          "color": "red",
          "dash": "dash"
         },
         "mode": "lines",
         "name": "1950: Streckenposten",
         "text": [
          "1950: Streckenposten, die den Fahrern helfen und Unfälle melden.",
          "1950: Streckenposten, die den Fahrern helfen und Unfälle melden."
         ],
         "type": "scatter",
         "x": [
          1950,
          1950
         ],
         "y": [
          0,
          4
         ]
        },
        {
         "hoverinfo": "text",
         "line": {
          "color": "red",
          "dash": "dash"
         },
         "mode": "lines",
         "name": "1952: Helme",
         "text": [
          "1952: Einführung von Helmen zur Verbesserung der Fahrersicherheit.",
          "1952: Einführung von Helmen zur Verbesserung der Fahrersicherheit."
         ],
         "type": "scatter",
         "x": [
          1952,
          1952
         ],
         "y": [
          0,
          4
         ]
        },
        {
         "hoverinfo": "text",
         "line": {
          "color": "red",
          "dash": "dash"
         },
         "mode": "lines",
         "name": "1975: Feuerfeste Rennanzüge",
         "text": [
          "1975: Feuerfeste Anzüge, die Fahrer vor Bränden schützen.",
          "1975: Feuerfeste Anzüge, die Fahrer vor Bränden schützen."
         ],
         "type": "scatter",
         "x": [
          1975,
          1975
         ],
         "y": [
          0,
          4
         ]
        },
        {
         "hoverinfo": "text",
         "line": {
          "color": "red",
          "dash": "dash"
         },
         "mode": "lines",
         "name": "1981: Überlebenszelle",
         "text": [
          "1981: Einführung der Überlebenszelle zum Schutz des Fahrers bei Unfällen.",
          "1981: Einführung der Überlebenszelle zum Schutz des Fahrers bei Unfällen."
         ],
         "type": "scatter",
         "x": [
          1981,
          1981
         ],
         "y": [
          0,
          4
         ]
        },
        {
         "hoverinfo": "text",
         "line": {
          "color": "red",
          "dash": "dash"
         },
         "mode": "lines",
         "name": "1983: Boden-Effekt verboten",
         "text": [
          "1983: Verbot des Bodeneffekts zur Reduzierung der Fahrzeuggeschwindigkeit.",
          "1983: Verbot des Bodeneffekts zur Reduzierung der Fahrzeuggeschwindigkeit."
         ],
         "type": "scatter",
         "x": [
          1983,
          1983
         ],
         "y": [
          0,
          4
         ]
        },
        {
         "hoverinfo": "text",
         "line": {
          "color": "red",
          "dash": "dash"
         },
         "mode": "lines",
         "name": "1993: Safety Car",
         "text": [
          "1993: Einführung des Safety Cars zur Erhöhung der Sicherheit auf der Strecke.",
          "1993: Einführung des Safety Cars zur Erhöhung der Sicherheit auf der Strecke."
         ],
         "type": "scatter",
         "x": [
          1993,
          1993
         ],
         "y": [
          0,
          4
         ]
        },
        {
         "hoverinfo": "text",
         "line": {
          "color": "red",
          "dash": "dash"
         },
         "mode": "lines",
         "name": "1994: Geschwindigkeitsbegrenzung in der Boxengasse",
         "text": [
          "1994: Begrenzung der Geschwindigkeit in der Boxengasseb nach tödlichen Unfällen.",
          "1994: Begrenzung der Geschwindigkeit in der Boxengasseb nach tödlichen Unfällen."
         ],
         "type": "scatter",
         "x": [
          1994,
          1994
         ],
         "y": [
          0,
          4
         ]
        },
        {
         "hoverinfo": "text",
         "line": {
          "color": "red",
          "dash": "dash"
         },
         "mode": "lines",
         "name": "1995: Umfassende Sicherheitsänderungen an:<br>   \t- Autos<br>   \t- Barrieren<br>   \t- Auslaufzonen verbessert",
         "text": [
          "1995: Umfassende Sicherheitsänderungen an Autos, Barrieren und Auslaufzonen zur Erhöhung der Sicherheit.",
          "1995: Umfassende Sicherheitsänderungen an Autos, Barrieren und Auslaufzonen zur Erhöhung der Sicherheit."
         ],
         "type": "scatter",
         "x": [
          1995,
          1995
         ],
         "y": [
          0,
          4
         ]
        },
        {
         "hoverinfo": "text",
         "line": {
          "color": "red",
          "dash": "dash"
         },
         "mode": "lines",
         "name": "1996: Nackenstütze",
         "text": [
          "1996: Einführung der Nackenstütze zum Schutz des Kopfes und Nackens.",
          "1996: Einführung der Nackenstütze zum Schutz des Kopfes und Nackens."
         ],
         "type": "scatter",
         "x": [
          1996,
          1996
         ],
         "y": [
          0,
          4
         ]
        },
        {
         "hoverinfo": "text",
         "line": {
          "color": "red",
          "dash": "dash"
         },
         "mode": "lines",
         "name": "1997: Unfalldatenrecorder",
         "text": [
          "1997: Installation von Unfalldatenrecordern zur Analyse von Unfällen.",
          "1997: Installation von Unfalldatenrecordern zur Analyse von Unfällen."
         ],
         "type": "scatter",
         "x": [
          1997,
          1997
         ],
         "y": [
          0,
          4
         ]
        },
        {
         "hoverinfo": "text",
         "line": {
          "color": "red",
          "dash": "dash"
         },
         "mode": "lines",
         "name": "1999: Radaufhängungen",
         "text": [
          "1999: Einführung von Radaufhängungen zur Verhinderung von herumfliegenden Reifen.",
          "1999: Einführung von Radaufhängungen zur Verhinderung von herumfliegenden Reifen."
         ],
         "type": "scatter",
         "x": [
          1999,
          1999
         ],
         "y": [
          0,
          4
         ]
        },
        {
         "hoverinfo": "text",
         "line": {
          "color": "red",
          "dash": "dash"
         },
         "mode": "lines",
         "name": "2003: HANS-Gerät",
         "text": [
          "2003: Einführung des HANS-Geräts zur Verhinderung von Kopf- und Nackenverletzungen.",
          "2003: Einführung des HANS-Geräts zur Verhinderung von Kopf- und Nackenverletzungen."
         ],
         "type": "scatter",
         "x": [
          2003,
          2003
         ],
         "y": [
          0,
          4
         ]
        },
        {
         "hoverinfo": "text",
         "line": {
          "color": "red",
          "dash": "dash"
         },
         "mode": "lines",
         "name": "2010: Wiedereinführung des Nachtankverbots",
         "text": [
          "2010: Verbot des Nachtankens während des Rennens zur Erhöhung der Sicherheit.",
          "2010: Verbot des Nachtankens während des Rennens zur Erhöhung der Sicherheit."
         ],
         "type": "scatter",
         "x": [
          2010,
          2010
         ],
         "y": [
          0,
          4
         ]
        },
        {
         "hoverinfo": "text",
         "line": {
          "color": "red",
          "dash": "dash"
         },
         "mode": "lines",
         "name": "2014: Beschleunigungsmesser",
         "text": [
          "2014: Einbau von Beschleunigungsmessern zur Überwachung der Kräfte auf den Fahrer.",
          "2014: Einbau von Beschleunigungsmessern zur Überwachung der Kräfte auf den Fahrer."
         ],
         "type": "scatter",
         "x": [
          2014,
          2014
         ],
         "y": [
          0,
          4
         ]
        },
        {
         "hoverinfo": "text",
         "line": {
          "color": "red",
          "dash": "dash"
         },
         "mode": "lines",
         "name": "2015: Virtuelles Safety Car",
         "text": [
          "2015: Einführung des virtuellen Safety Cars zur Kontrolle der Geschwindigkeit ohne physisches Safety Car.",
          "2015: Einführung des virtuellen Safety Cars zur Kontrolle der Geschwindigkeit ohne physisches Safety Car."
         ],
         "type": "scatter",
         "x": [
          2015,
          2015
         ],
         "y": [
          0,
          4
         ]
        },
        {
         "hoverinfo": "text",
         "line": {
          "color": "red",
          "dash": "dash"
         },
         "mode": "lines",
         "name": "2016: Fahrergerichtete Kamera eingeführt, Superlizenz überarbeitet",
         "text": [
          "2016: Einführung einer fahrergerichteten Kamera und Überarbeitung der Superlizenzanforderungen.",
          "2016: Einführung einer fahrergerichteten Kamera und Überarbeitung der Superlizenzanforderungen."
         ],
         "type": "scatter",
         "x": [
          2016,
          2016
         ],
         "y": [
          0,
          4
         ]
        },
        {
         "hoverinfo": "text",
         "line": {
          "color": "red",
          "dash": "dash"
         },
         "mode": "lines",
         "name": "2018: Halo",
         "text": [
          "2018: Einführung des Halo-Systems zum Schutz des Fahrers vor herumfliegenden Trümmern.",
          "2018: Einführung des Halo-Systems zum Schutz des Fahrers vor herumfliegenden Trümmern."
         ],
         "type": "scatter",
         "x": [
          2018,
          2018
         ],
         "y": [
          0,
          4
         ]
        }
       ],
       "layout": {
        "hovermode": "closest",
        "template": {
         "data": {
          "bar": [
           {
            "error_x": {
             "color": "#2a3f5f"
            },
            "error_y": {
             "color": "#2a3f5f"
            },
            "marker": {
             "line": {
              "color": "#E5ECF6",
              "width": 0.5
             },
             "pattern": {
              "fillmode": "overlay",
              "size": 10,
              "solidity": 0.2
             }
            },
            "type": "bar"
           }
          ],
          "barpolar": [
           {
            "marker": {
             "line": {
              "color": "#E5ECF6",
              "width": 0.5
             },
             "pattern": {
              "fillmode": "overlay",
              "size": 10,
              "solidity": 0.2
             }
            },
            "type": "barpolar"
           }
          ],
          "carpet": [
           {
            "aaxis": {
             "endlinecolor": "#2a3f5f",
             "gridcolor": "white",
             "linecolor": "white",
             "minorgridcolor": "white",
             "startlinecolor": "#2a3f5f"
            },
            "baxis": {
             "endlinecolor": "#2a3f5f",
             "gridcolor": "white",
             "linecolor": "white",
             "minorgridcolor": "white",
             "startlinecolor": "#2a3f5f"
            },
            "type": "carpet"
           }
          ],
          "choropleth": [
           {
            "colorbar": {
             "outlinewidth": 0,
             "ticks": ""
            },
            "type": "choropleth"
           }
          ],
          "contour": [
           {
            "colorbar": {
             "outlinewidth": 0,
             "ticks": ""
            },
            "colorscale": [
             [
              0,
              "#0d0887"
             ],
             [
              0.1111111111111111,
              "#46039f"
             ],
             [
              0.2222222222222222,
              "#7201a8"
             ],
             [
              0.3333333333333333,
              "#9c179e"
             ],
             [
              0.4444444444444444,
              "#bd3786"
             ],
             [
              0.5555555555555556,
              "#d8576b"
             ],
             [
              0.6666666666666666,
              "#ed7953"
             ],
             [
              0.7777777777777778,
              "#fb9f3a"
             ],
             [
              0.8888888888888888,
              "#fdca26"
             ],
             [
              1,
              "#f0f921"
             ]
            ],
            "type": "contour"
           }
          ],
          "contourcarpet": [
           {
            "colorbar": {
             "outlinewidth": 0,
             "ticks": ""
            },
            "type": "contourcarpet"
           }
          ],
          "heatmap": [
           {
            "colorbar": {
             "outlinewidth": 0,
             "ticks": ""
            },
            "colorscale": [
             [
              0,
              "#0d0887"
             ],
             [
              0.1111111111111111,
              "#46039f"
             ],
             [
              0.2222222222222222,
              "#7201a8"
             ],
             [
              0.3333333333333333,
              "#9c179e"
             ],
             [
              0.4444444444444444,
              "#bd3786"
             ],
             [
              0.5555555555555556,
              "#d8576b"
             ],
             [
              0.6666666666666666,
              "#ed7953"
             ],
             [
              0.7777777777777778,
              "#fb9f3a"
             ],
             [
              0.8888888888888888,
              "#fdca26"
             ],
             [
              1,
              "#f0f921"
             ]
            ],
            "type": "heatmap"
           }
          ],
          "heatmapgl": [
           {
            "colorbar": {
             "outlinewidth": 0,
             "ticks": ""
            },
            "colorscale": [
             [
              0,
              "#0d0887"
             ],
             [
              0.1111111111111111,
              "#46039f"
             ],
             [
              0.2222222222222222,
              "#7201a8"
             ],
             [
              0.3333333333333333,
              "#9c179e"
             ],
             [
              0.4444444444444444,
              "#bd3786"
             ],
             [
              0.5555555555555556,
              "#d8576b"
             ],
             [
              0.6666666666666666,
              "#ed7953"
             ],
             [
              0.7777777777777778,
              "#fb9f3a"
             ],
             [
              0.8888888888888888,
              "#fdca26"
             ],
             [
              1,
              "#f0f921"
             ]
            ],
            "type": "heatmapgl"
           }
          ],
          "histogram": [
           {
            "marker": {
             "pattern": {
              "fillmode": "overlay",
              "size": 10,
              "solidity": 0.2
             }
            },
            "type": "histogram"
           }
          ],
          "histogram2d": [
           {
            "colorbar": {
             "outlinewidth": 0,
             "ticks": ""
            },
            "colorscale": [
             [
              0,
              "#0d0887"
             ],
             [
              0.1111111111111111,
              "#46039f"
             ],
             [
              0.2222222222222222,
              "#7201a8"
             ],
             [
              0.3333333333333333,
              "#9c179e"
             ],
             [
              0.4444444444444444,
              "#bd3786"
             ],
             [
              0.5555555555555556,
              "#d8576b"
             ],
             [
              0.6666666666666666,
              "#ed7953"
             ],
             [
              0.7777777777777778,
              "#fb9f3a"
             ],
             [
              0.8888888888888888,
              "#fdca26"
             ],
             [
              1,
              "#f0f921"
             ]
            ],
            "type": "histogram2d"
           }
          ],
          "histogram2dcontour": [
           {
            "colorbar": {
             "outlinewidth": 0,
             "ticks": ""
            },
            "colorscale": [
             [
              0,
              "#0d0887"
             ],
             [
              0.1111111111111111,
              "#46039f"
             ],
             [
              0.2222222222222222,
              "#7201a8"
             ],
             [
              0.3333333333333333,
              "#9c179e"
             ],
             [
              0.4444444444444444,
              "#bd3786"
             ],
             [
              0.5555555555555556,
              "#d8576b"
             ],
             [
              0.6666666666666666,
              "#ed7953"
             ],
             [
              0.7777777777777778,
              "#fb9f3a"
             ],
             [
              0.8888888888888888,
              "#fdca26"
             ],
             [
              1,
              "#f0f921"
             ]
            ],
            "type": "histogram2dcontour"
           }
          ],
          "mesh3d": [
           {
            "colorbar": {
             "outlinewidth": 0,
             "ticks": ""
            },
            "type": "mesh3d"
           }
          ],
          "parcoords": [
           {
            "line": {
             "colorbar": {
              "outlinewidth": 0,
              "ticks": ""
             }
            },
            "type": "parcoords"
           }
          ],
          "pie": [
           {
            "automargin": true,
            "type": "pie"
           }
          ],
          "scatter": [
           {
            "marker": {
             "colorbar": {
              "outlinewidth": 0,
              "ticks": ""
             }
            },
            "type": "scatter"
           }
          ],
          "scatter3d": [
           {
            "line": {
             "colorbar": {
              "outlinewidth": 0,
              "ticks": ""
             }
            },
            "marker": {
             "colorbar": {
              "outlinewidth": 0,
              "ticks": ""
             }
            },
            "type": "scatter3d"
           }
          ],
          "scattercarpet": [
           {
            "marker": {
             "colorbar": {
              "outlinewidth": 0,
              "ticks": ""
             }
            },
            "type": "scattercarpet"
           }
          ],
          "scattergeo": [
           {
            "marker": {
             "colorbar": {
              "outlinewidth": 0,
              "ticks": ""
             }
            },
            "type": "scattergeo"
           }
          ],
          "scattergl": [
           {
            "marker": {
             "colorbar": {
              "outlinewidth": 0,
              "ticks": ""
             }
            },
            "type": "scattergl"
           }
          ],
          "scattermapbox": [
           {
            "marker": {
             "colorbar": {
              "outlinewidth": 0,
              "ticks": ""
             }
            },
            "type": "scattermapbox"
           }
          ],
          "scatterpolar": [
           {
            "marker": {
             "colorbar": {
              "outlinewidth": 0,
              "ticks": ""
             }
            },
            "type": "scatterpolar"
           }
          ],
          "scatterpolargl": [
           {
            "marker": {
             "colorbar": {
              "outlinewidth": 0,
              "ticks": ""
             }
            },
            "type": "scatterpolargl"
           }
          ],
          "scatterternary": [
           {
            "marker": {
             "colorbar": {
              "outlinewidth": 0,
              "ticks": ""
             }
            },
            "type": "scatterternary"
           }
          ],
          "surface": [
           {
            "colorbar": {
             "outlinewidth": 0,
             "ticks": ""
            },
            "colorscale": [
             [
              0,
              "#0d0887"
             ],
             [
              0.1111111111111111,
              "#46039f"
             ],
             [
              0.2222222222222222,
              "#7201a8"
             ],
             [
              0.3333333333333333,
              "#9c179e"
             ],
             [
              0.4444444444444444,
              "#bd3786"
             ],
             [
              0.5555555555555556,
              "#d8576b"
             ],
             [
              0.6666666666666666,
              "#ed7953"
             ],
             [
              0.7777777777777778,
              "#fb9f3a"
             ],
             [
              0.8888888888888888,
              "#fdca26"
             ],
             [
              1,
              "#f0f921"
             ]
            ],
            "type": "surface"
           }
          ],
          "table": [
           {
            "cells": {
             "fill": {
              "color": "#EBF0F8"
             },
             "line": {
              "color": "white"
             }
            },
            "header": {
             "fill": {
              "color": "#C8D4E3"
             },
             "line": {
              "color": "white"
             }
            },
            "type": "table"
           }
          ]
         },
         "layout": {
          "annotationdefaults": {
           "arrowcolor": "#2a3f5f",
           "arrowhead": 0,
           "arrowwidth": 1
          },
          "autotypenumbers": "strict",
          "coloraxis": {
           "colorbar": {
            "outlinewidth": 0,
            "ticks": ""
           }
          },
          "colorscale": {
           "diverging": [
            [
             0,
             "#8e0152"
            ],
            [
             0.1,
             "#c51b7d"
            ],
            [
             0.2,
             "#de77ae"
            ],
            [
             0.3,
             "#f1b6da"
            ],
            [
             0.4,
             "#fde0ef"
            ],
            [
             0.5,
             "#f7f7f7"
            ],
            [
             0.6,
             "#e6f5d0"
            ],
            [
             0.7,
             "#b8e186"
            ],
            [
             0.8,
             "#7fbc41"
            ],
            [
             0.9,
             "#4d9221"
            ],
            [
             1,
             "#276419"
            ]
           ],
           "sequential": [
            [
             0,
             "#0d0887"
            ],
            [
             0.1111111111111111,
             "#46039f"
            ],
            [
             0.2222222222222222,
             "#7201a8"
            ],
            [
             0.3333333333333333,
             "#9c179e"
            ],
            [
             0.4444444444444444,
             "#bd3786"
            ],
            [
             0.5555555555555556,
             "#d8576b"
            ],
            [
             0.6666666666666666,
             "#ed7953"
            ],
            [
             0.7777777777777778,
             "#fb9f3a"
            ],
            [
             0.8888888888888888,
             "#fdca26"
            ],
            [
             1,
             "#f0f921"
            ]
           ],
           "sequentialminus": [
            [
             0,
             "#0d0887"
            ],
            [
             0.1111111111111111,
             "#46039f"
            ],
            [
             0.2222222222222222,
             "#7201a8"
            ],
            [
             0.3333333333333333,
             "#9c179e"
            ],
            [
             0.4444444444444444,
             "#bd3786"
            ],
            [
             0.5555555555555556,
             "#d8576b"
            ],
            [
             0.6666666666666666,
             "#ed7953"
            ],
            [
             0.7777777777777778,
             "#fb9f3a"
            ],
            [
             0.8888888888888888,
             "#fdca26"
            ],
            [
             1,
             "#f0f921"
            ]
           ]
          },
          "colorway": [
           "#636efa",
           "#EF553B",
           "#00cc96",
           "#ab63fa",
           "#FFA15A",
           "#19d3f3",
           "#FF6692",
           "#B6E880",
           "#FF97FF",
           "#FECB52"
          ],
          "font": {
           "color": "#2a3f5f"
          },
          "geo": {
           "bgcolor": "white",
           "lakecolor": "white",
           "landcolor": "#E5ECF6",
           "showlakes": true,
           "showland": true,
           "subunitcolor": "white"
          },
          "hoverlabel": {
           "align": "left"
          },
          "hovermode": "closest",
          "mapbox": {
           "style": "light"
          },
          "paper_bgcolor": "white",
          "plot_bgcolor": "#E5ECF6",
          "polar": {
           "angularaxis": {
            "gridcolor": "white",
            "linecolor": "white",
            "ticks": ""
           },
           "bgcolor": "#E5ECF6",
           "radialaxis": {
            "gridcolor": "white",
            "linecolor": "white",
            "ticks": ""
           }
          },
          "scene": {
           "xaxis": {
            "backgroundcolor": "#E5ECF6",
            "gridcolor": "white",
            "gridwidth": 2,
            "linecolor": "white",
            "showbackground": true,
            "ticks": "",
            "zerolinecolor": "white"
           },
           "yaxis": {
            "backgroundcolor": "#E5ECF6",
            "gridcolor": "white",
            "gridwidth": 2,
            "linecolor": "white",
            "showbackground": true,
            "ticks": "",
            "zerolinecolor": "white"
           },
           "zaxis": {
            "backgroundcolor": "#E5ECF6",
            "gridcolor": "white",
            "gridwidth": 2,
            "linecolor": "white",
            "showbackground": true,
            "ticks": "",
            "zerolinecolor": "white"
           }
          },
          "shapedefaults": {
           "line": {
            "color": "#2a3f5f"
           }
          },
          "ternary": {
           "aaxis": {
            "gridcolor": "white",
            "linecolor": "white",
            "ticks": ""
           },
           "baxis": {
            "gridcolor": "white",
            "linecolor": "white",
            "ticks": ""
           },
           "bgcolor": "#E5ECF6",
           "caxis": {
            "gridcolor": "white",
            "linecolor": "white",
            "ticks": ""
           }
          },
          "title": {
           "x": 0.05
          },
          "xaxis": {
           "automargin": true,
           "gridcolor": "white",
           "linecolor": "white",
           "ticks": "",
           "title": {
            "standoff": 15
           },
           "zerolinecolor": "white",
           "zerolinewidth": 2
          },
          "yaxis": {
           "automargin": true,
           "gridcolor": "white",
           "linecolor": "white",
           "ticks": "",
           "title": {
            "standoff": 15
           },
           "zerolinecolor": "white",
           "zerolinewidth": 2
          }
         }
        },
        "title": {
         "text": "Anzahl Todesfälle von F1-Fahrer pro Jahr"
        },
        "xaxis": {
         "dtick": 5,
         "tick0": 1952,
         "tickmode": "linear",
         "title": {
          "text": "Year"
         }
        },
        "yaxis": {
         "tickformat": ",d",
         "title": {
          "text": "Number of Deaths"
         }
        }
       }
      }
     },
     "metadata": {},
     "output_type": "display_data"
    }
   ],
   "source": [
    "import plotly.graph_objects as go\n",
    "import plotly.io as pio\n",
    "\n",
    "safety_technologies = {\n",
    "    1950: {\"short\": \"Streckenposten\", \"detail\": \"Streckenposten, die den Fahrern helfen und Unfälle melden.\"},\n",
    "    1952: {\"short\": \"Helme\", \"detail\": \"Einführung von Helmen zur Verbesserung der Fahrersicherheit.\"},\n",
    "    1975: {\"short\": \"Feuerfeste Rennanzüge\", \"detail\": \"Feuerfeste Anzüge, die Fahrer vor Bränden schützen.\"},\n",
    "    1981: {\"short\": \"Überlebenszelle\", \"detail\": \"Einführung der Überlebenszelle zum Schutz des Fahrers bei Unfällen.\"},\n",
    "    1983: {\"short\": \"Boden-Effekt verboten\", \"detail\": \"Verbot des Bodeneffekts zur Reduzierung der Fahrzeuggeschwindigkeit.\"},\n",
    "    1993: {\"short\": \"Safety Car\", \"detail\": \"Einführung des Safety Cars zur Erhöhung der Sicherheit auf der Strecke.\"},\n",
    "    1994: {\"short\": \"Geschwindigkeitsbegrenzung in der Boxengasse\", \"detail\": \"Begrenzung der Geschwindigkeit in der Boxengasseb nach tödlichen Unfällen.\"},\n",
    "    1995: {\"short\": (\"\"\"Umfassende Sicherheitsänderungen an:<br>   \\t- Autos<br>   \\t- Barrieren<br>   \\t- Auslaufzonen verbessert\"\"\"), \"detail\": \"Umfassende Sicherheitsänderungen an Autos, Barrieren und Auslaufzonen zur Erhöhung der Sicherheit.\"},\n",
    "    1996: {\"short\": \"Nackenstütze\", \"detail\": \"Einführung der Nackenstütze zum Schutz des Kopfes und Nackens.\"},\n",
    "    1997: {\"short\": \"Unfalldatenrecorder\", \"detail\": \"Installation von Unfalldatenrecordern zur Analyse von Unfällen.\"},\n",
    "    1999: {\"short\": \"Radaufhängungen\", \"detail\": \"Einführung von Radaufhängungen zur Verhinderung von herumfliegenden Reifen.\"},\n",
    "    2003: {\"short\": \"HANS-Gerät\", \"detail\": \"Einführung des HANS-Geräts zur Verhinderung von Kopf- und Nackenverletzungen.\"},\n",
    "    2010: {\"short\": \"Wiedereinführung des Nachtankverbots\", \"detail\": \"Verbot des Nachtankens während des Rennens zur Erhöhung der Sicherheit.\"},\n",
    "    2014: {\"short\": \"Beschleunigungsmesser\", \"detail\": \"Einbau von Beschleunigungsmessern zur Überwachung der Kräfte auf den Fahrer.\"},\n",
    "    2015: {\"short\": \"Virtuelles Safety Car\", \"detail\": \"Einführung des virtuellen Safety Cars zur Kontrolle der Geschwindigkeit ohne physisches Safety Car.\"},\n",
    "    2016: {\"short\": \"Fahrergerichtete Kamera eingeführt, Superlizenz überarbeitet\", \"detail\": \"Einführung einer fahrergerichteten Kamera und Überarbeitung der Superlizenzanforderungen.\"},\n",
    "    2018: {\"short\": \"Halo\", \"detail\": \"Einführung des Halo-Systems zum Schutz des Fahrers vor herumfliegenden Trümmern.\"}\n",
    "}\n",
    "\n",
    "\n",
    "# Create the plotly figure\n",
    "fig = go.Figure()\n",
    "\n",
    "# Add the deaths per year as a scatter plot\n",
    "fig.add_trace(go.Scatter(\n",
    "    x=deaths_per_year.index,\n",
    "    y=deaths_per_year.values,\n",
    "    mode='lines+markers',\n",
    "    name='Deaths',\n",
    "    line=dict(color='blue'),\n",
    "    marker=dict(size=6),\n",
    "    hoverinfo='x+y'\n",
    "))\n",
    "\n",
    "# Add vertical lines and annotations for each safety technology\n",
    "for year, tech in safety_technologies.items():\n",
    "    short_description = tech[\"short\"]\n",
    "    detailed_description = tech[\"detail\"]\n",
    "    if isinstance(short_description, list):\n",
    "        short_description = \", \".join(short_description)\n",
    "    fig.add_trace(go.Scatter(\n",
    "        x=[year, year],\n",
    "        y=[0, deaths_per_year.max()],\n",
    "        mode='lines',\n",
    "        line=dict(color='red', dash='dash'),\n",
    "        name=f'{year}: {short_description}',\n",
    "        hoverinfo='text',\n",
    "        text=[f'{year}: {detailed_description}' for _ in range(2)]\n",
    "    ))\n",
    "\n",
    "# Update the layout of the figure\n",
    "fig.update_layout(\n",
    "    title='Anzahl Todesfälle von F1-Fahrer pro Jahr',\n",
    "    xaxis_title='Year',\n",
    "    yaxis_title='Number of Deaths',\n",
    "    xaxis=dict(tickmode='linear', tick0=df['Year'].min(), dtick=5),\n",
    "    yaxis=dict(tickformat=',d'),\n",
    "    hovermode='closest'\n",
    ")\n",
    "\n",
    "# Show the figure\n",
    "fig.show()\n",
    "\n",
    "# Save the figure as an HTML file\n",
    "pio.write_html(fig, file='f1_driver_deaths_per_year.html', auto_open=True)"
   ]
  }
 ],
 "metadata": {
  "kernelspec": {
   "display_name": "Python 3",
   "language": "python",
   "name": "python3"
  },
  "language_info": {
   "codemirror_mode": {
    "name": "ipython",
    "version": 3
   },
   "file_extension": ".py",
   "mimetype": "text/x-python",
   "name": "python",
   "nbconvert_exporter": "python",
   "pygments_lexer": "ipython3",
   "version": "3.10.6"
  }
 },
 "nbformat": 4,
 "nbformat_minor": 2
}
