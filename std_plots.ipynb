{
 "cells": [
  {
   "cell_type": "code",
   "execution_count": 2,
   "metadata": {},
   "outputs": [
    {
     "name": "stderr",
     "output_type": "stream",
     "text": [
      "/var/folders/f0/pqy2clvx0nv38xm_npv8fklm0000gn/T/ipykernel_15230/2054862573.py:6: DeprecationWarning:\n",
      "\n",
      "Importing display from IPython.core.display is deprecated since IPython 7.14, please import from IPython display\n",
      "\n"
     ]
    }
   ],
   "source": [
    "import pandas as pd\n",
    "import matplotlib.pyplot as plt\n",
    "import plotly.express as px\n",
    "import plotly.graph_objects as go\n",
    "import mpld3\n",
    "from IPython.core.display import display, HTML\n",
    "import base64\n",
    "import plotly"
   ]
  },
  {
   "cell_type": "code",
   "execution_count": 3,
   "metadata": {},
   "outputs": [],
   "source": [
    "df_drivers = pd.read_csv(\"drivers.csv\")\n",
    "df_fastest_laps = pd.read_csv(\"fastest_laps.csv\")\n",
    "df_winners = pd.read_csv(\"winners.csv\")\n",
    "df_teams = pd.read_csv(\"teams.csv\")"
   ]
  },
  {
   "cell_type": "code",
   "execution_count": 4,
   "metadata": {},
   "outputs": [],
   "source": [
    "# drop all Nan  values\n",
    "df_drivers = df_drivers.dropna()"
   ]
  },
  {
   "cell_type": "code",
   "execution_count": 5,
   "metadata": {},
   "outputs": [],
   "source": [
    "df_winners\n",
    "\n",
    "# create a new column for the year of the Date\n",
    "df_winners['Year'] = pd.DatetimeIndex(df_winners['Date']).year\n",
    "\n",
    "# keep only rows where Year < 2020\n",
    "df_winners = df_winners[df_winners['Year'] < 2020]"
   ]
  },
  {
   "cell_type": "code",
   "execution_count": 6,
   "metadata": {},
   "outputs": [],
   "source": [
    "\n",
    "\n",
    "# create a new dataframe in which you group the winners by year and count the number of wins\n",
    "df_winners_grouped_car = df_winners.groupby(['Year', 'Car']).size().reset_index(name='Wins')\n",
    "df_winners_grouped_car = df_winners_grouped_car.sort_values(by=['Year', 'Wins'], ascending=True)\n",
    "\n",
    "# create a new dataframe in which you group the winners by year and count the number of wins\n",
    "df_winners_grouped_winner = df_winners.groupby(['Year', 'Winner', 'Car']).size().reset_index(name='Wins')\n",
    "df_winners_grouped_winner = df_winners_grouped_winner.sort_values(by=['Year', 'Wins'], ascending=True)"
   ]
  },
  {
   "cell_type": "markdown",
   "metadata": {},
   "source": [
    "# Berechnung der Dominanz innerhalb von 10 Jahre\n",
    "- Zähle Anzahl Rennen innerhalb dieser 10 Jahre\n",
    "- Zähle Anzahl Siege pro Team innerhalb dieser 10 Jahre\n",
    "- Berechne Dominanz als Anzahl Siege / Anzahl Rennen\n",
    "\n",
    "# Darstellung der Dominanz innerhalb von 10 Jahren\n",
    "- Erstelle ein Barplot mit Dominanz pro Team innerhalb dieser 10 Jahre\n",
    "- Auf der Y-Achse sollen die Jahre dargestellt werden\n",
    "- Auf der X-Achse soll der Dominanzwert dargestellt werden"
   ]
  },
  {
   "cell_type": "code",
   "execution_count": 7,
   "metadata": {},
   "outputs": [
    {
     "data": {
      "text/html": [
       "<div>\n",
       "<style scoped>\n",
       "    .dataframe tbody tr th:only-of-type {\n",
       "        vertical-align: middle;\n",
       "    }\n",
       "\n",
       "    .dataframe tbody tr th {\n",
       "        vertical-align: top;\n",
       "    }\n",
       "\n",
       "    .dataframe thead th {\n",
       "        text-align: right;\n",
       "    }\n",
       "</style>\n",
       "<table border=\"1\" class=\"dataframe\">\n",
       "  <thead>\n",
       "    <tr style=\"text-align: right;\">\n",
       "      <th></th>\n",
       "      <th>Year</th>\n",
       "      <th>Car</th>\n",
       "      <th>Wins</th>\n",
       "    </tr>\n",
       "  </thead>\n",
       "  <tbody>\n",
       "    <tr>\n",
       "      <th>1</th>\n",
       "      <td>1950</td>\n",
       "      <td>Kurtis Kraft Offenhauser</td>\n",
       "      <td>1</td>\n",
       "    </tr>\n",
       "    <tr>\n",
       "      <th>0</th>\n",
       "      <td>1950</td>\n",
       "      <td>Alfa Romeo</td>\n",
       "      <td>6</td>\n",
       "    </tr>\n",
       "    <tr>\n",
       "      <th>4</th>\n",
       "      <td>1951</td>\n",
       "      <td>Kurtis Kraft Offenhauser</td>\n",
       "      <td>1</td>\n",
       "    </tr>\n",
       "    <tr>\n",
       "      <th>3</th>\n",
       "      <td>1951</td>\n",
       "      <td>Ferrari</td>\n",
       "      <td>3</td>\n",
       "    </tr>\n",
       "    <tr>\n",
       "      <th>2</th>\n",
       "      <td>1951</td>\n",
       "      <td>Alfa Romeo</td>\n",
       "      <td>5</td>\n",
       "    </tr>\n",
       "    <tr>\n",
       "      <th>6</th>\n",
       "      <td>1952</td>\n",
       "      <td>Kuzma Offenhauser</td>\n",
       "      <td>1</td>\n",
       "    </tr>\n",
       "    <tr>\n",
       "      <th>5</th>\n",
       "      <td>1952</td>\n",
       "      <td>Ferrari</td>\n",
       "      <td>7</td>\n",
       "    </tr>\n",
       "    <tr>\n",
       "      <th>8</th>\n",
       "      <td>1953</td>\n",
       "      <td>Kurtis Kraft Offenhauser</td>\n",
       "      <td>1</td>\n",
       "    </tr>\n",
       "    <tr>\n",
       "      <th>9</th>\n",
       "      <td>1953</td>\n",
       "      <td>Maserati</td>\n",
       "      <td>1</td>\n",
       "    </tr>\n",
       "    <tr>\n",
       "      <th>7</th>\n",
       "      <td>1953</td>\n",
       "      <td>Ferrari</td>\n",
       "      <td>7</td>\n",
       "    </tr>\n",
       "  </tbody>\n",
       "</table>\n",
       "</div>"
      ],
      "text/plain": [
       "   Year                       Car  Wins\n",
       "1  1950  Kurtis Kraft Offenhauser     1\n",
       "0  1950                Alfa Romeo     6\n",
       "4  1951  Kurtis Kraft Offenhauser     1\n",
       "3  1951                   Ferrari     3\n",
       "2  1951                Alfa Romeo     5\n",
       "6  1952         Kuzma Offenhauser     1\n",
       "5  1952                   Ferrari     7\n",
       "8  1953  Kurtis Kraft Offenhauser     1\n",
       "9  1953                  Maserati     1\n",
       "7  1953                   Ferrari     7"
      ]
     },
     "execution_count": 7,
     "metadata": {},
     "output_type": "execute_result"
    }
   ],
   "source": [
    "df_winners_grouped_car.head(10)"
   ]
  },
  {
   "cell_type": "code",
   "execution_count": 8,
   "metadata": {},
   "outputs": [],
   "source": [
    "# Zuordnung der Teamnamen\n",
    "team_mapping = {\n",
    "    'Mercedes-Benz': 'Mercedes',\n",
    "    'Brabham Climax': 'Brabham',\n",
    "    'Brabham Ford': 'Brabham',\n",
    "    'Brabham Repco': 'Brabham',\n",
    "    'Brabham Alfa Romeo': 'Alfa Romeo',\n",
    "    'Brabham BMW': 'Brabham',\n",
    "    'McLaren Honda': 'McLaren',\n",
    "    'Lotus Honda': 'Lotus',\n",
    "    'Williams Honda': 'Williams',\n",
    "    'Jordan Mugen Honda': 'Jordan',\n",
    "    'Ligier Mugen Honda': 'Ligier',\n",
    "    'Brawn Mercedes': 'Brawn',\n",
    "    'Lotus BRM': 'Lotus',\n",
    "    'Lotus Climax': 'Lotus',\n",
    "    'Lotus Ford': 'Lotus',\n",
    "    'Lotus Renault': 'Lotus',\n",
    "    'McLaren Ford': 'McLaren',\n",
    "    'McLaren TAG': 'McLaren',\n",
    "    'McLaren Mercedes': 'Mercedes',\n",
    "    'Benetton Renault': 'Renault',\n",
    "    'Lotus Renault': 'Renault',\n",
    "    'Williams Renault': 'Renault',\n",
    "    'Alpine Renault': 'Renault',\n",
    "    'Benetton BMW': 'Benetton',\n",
    "    'Benetton Ford': 'Benetton',\n",
    "    'RBR Renault': 'Red Bull Racing',\n",
    "    'Red Bull Racing Renault': 'Red Bull Racing',\n",
    "    'Red Bull Racing TAG Heuer': 'Red Bull Racing',\n",
    "    'Red Bull Racing Honda': 'Red Bull Racing',\n",
    "    'Red Bull Racing Honda RBPT': 'Red Bull Racing',\n",
    "    'Red Bull Racing RBPT': 'Red Bull Racing',\n",
    "    'Epperly Offenhauser': 'Offenhauser',\n",
    "    'Kuzma Offenhauser': 'Offenhauser',\n",
    "    'Watson Offenhauser': 'Offenhauser',\n",
    "    'Kurtis Kraft Offenhauser': 'Offenhauser',\n",
    "    'Sauber BMW': 'Sauber',\n",
    "    'STR Ferrari': 'Ferrari',\n",
    "    'Brawn Mercedes': 'Mercedes',\n",
    "    \n",
    "}\n",
    "\n",
    "# Anwenden der Zuordnung\n",
    "df_winners_grouped_car['Car'] = df_winners_grouped_car['Car'].replace(team_mapping)\n"
   ]
  },
  {
   "cell_type": "code",
   "execution_count": 9,
   "metadata": {},
   "outputs": [],
   "source": [
    "# Dekade erstellen\n",
    "df_winners_grouped_car['Decade'] = (df_winners_grouped_car['Year'] // 10) * 10\n",
    "\n",
    "# Siege pro Dekade aggregieren\n",
    "decade_wins_total = df_winners_grouped_car.groupby(['Decade', 'Car'])['Wins'].sum().reset_index()\n",
    "\n",
    "\n",
    "# Anzahl Rennen pro Dekade aggregieren\n",
    "decade_wins_total['Total'] = decade_wins_total.groupby(['Decade'])['Wins'].transform('sum')\n",
    "\n",
    "# Anzahl Siege pro Dekade / Wins pro Car\n",
    "decade_wins_total[\"Dominanz\"] = decade_wins_total['Wins'] / decade_wins_total['Total']\n",
    "\n",
    "# sortieren\n",
    "decade_wins_total.sort_values(by=['Decade', 'Dominanz'], ascending=False)\n",
    "\n",
    "# keep only the highest value per decade\n",
    "decade_wins_total = decade_wins_total.loc[decade_wins_total.groupby('Decade')['Dominanz'].idxmax()]\n",
    "\n",
    "decade_wins_total[\"Bar\"] = 10"
   ]
  },
  {
   "cell_type": "code",
   "execution_count": 10,
   "metadata": {},
   "outputs": [
    {
     "data": {
      "text/html": [
       "<div>\n",
       "<style scoped>\n",
       "    .dataframe tbody tr th:only-of-type {\n",
       "        vertical-align: middle;\n",
       "    }\n",
       "\n",
       "    .dataframe tbody tr th {\n",
       "        vertical-align: top;\n",
       "    }\n",
       "\n",
       "    .dataframe thead th {\n",
       "        text-align: right;\n",
       "    }\n",
       "</style>\n",
       "<table border=\"1\" class=\"dataframe\">\n",
       "  <thead>\n",
       "    <tr style=\"text-align: right;\">\n",
       "      <th></th>\n",
       "      <th>Decade</th>\n",
       "      <th>Car</th>\n",
       "      <th>Wins</th>\n",
       "      <th>Total</th>\n",
       "      <th>Dominanz</th>\n",
       "      <th>Bar</th>\n",
       "    </tr>\n",
       "  </thead>\n",
       "  <tbody>\n",
       "    <tr>\n",
       "      <th>3</th>\n",
       "      <td>1950</td>\n",
       "      <td>Ferrari</td>\n",
       "      <td>30</td>\n",
       "      <td>87</td>\n",
       "      <td>0.344828</td>\n",
       "      <td>10</td>\n",
       "    </tr>\n",
       "    <tr>\n",
       "      <th>15</th>\n",
       "      <td>1960</td>\n",
       "      <td>Lotus</td>\n",
       "      <td>36</td>\n",
       "      <td>100</td>\n",
       "      <td>0.360000</td>\n",
       "      <td>10</td>\n",
       "    </tr>\n",
       "    <tr>\n",
       "      <th>23</th>\n",
       "      <td>1970</td>\n",
       "      <td>Ferrari</td>\n",
       "      <td>37</td>\n",
       "      <td>144</td>\n",
       "      <td>0.256944</td>\n",
       "      <td>10</td>\n",
       "    </tr>\n",
       "    <tr>\n",
       "      <th>42</th>\n",
       "      <td>1980</td>\n",
       "      <td>McLaren</td>\n",
       "      <td>56</td>\n",
       "      <td>156</td>\n",
       "      <td>0.358974</td>\n",
       "      <td>10</td>\n",
       "    </tr>\n",
       "    <tr>\n",
       "      <th>53</th>\n",
       "      <td>1990</td>\n",
       "      <td>Renault</td>\n",
       "      <td>73</td>\n",
       "      <td>162</td>\n",
       "      <td>0.450617</td>\n",
       "      <td>10</td>\n",
       "    </tr>\n",
       "    <tr>\n",
       "      <th>55</th>\n",
       "      <td>2000</td>\n",
       "      <td>Ferrari</td>\n",
       "      <td>86</td>\n",
       "      <td>174</td>\n",
       "      <td>0.494253</td>\n",
       "      <td>10</td>\n",
       "    </tr>\n",
       "    <tr>\n",
       "      <th>64</th>\n",
       "      <td>2010</td>\n",
       "      <td>Mercedes</td>\n",
       "      <td>111</td>\n",
       "      <td>198</td>\n",
       "      <td>0.560606</td>\n",
       "      <td>10</td>\n",
       "    </tr>\n",
       "  </tbody>\n",
       "</table>\n",
       "</div>"
      ],
      "text/plain": [
       "    Decade       Car  Wins  Total  Dominanz  Bar\n",
       "3     1950   Ferrari    30     87  0.344828   10\n",
       "15    1960     Lotus    36    100  0.360000   10\n",
       "23    1970   Ferrari    37    144  0.256944   10\n",
       "42    1980   McLaren    56    156  0.358974   10\n",
       "53    1990   Renault    73    162  0.450617   10\n",
       "55    2000   Ferrari    86    174  0.494253   10\n",
       "64    2010  Mercedes   111    198  0.560606   10"
      ]
     },
     "execution_count": 10,
     "metadata": {},
     "output_type": "execute_result"
    }
   ],
   "source": [
    "decade_wins_total"
   ]
  },
  {
   "cell_type": "code",
   "execution_count": 11,
   "metadata": {},
   "outputs": [
    {
     "data": {
      "image/png": "[encoded data removed]",
      "text/plain": [
       "<Figure size 800x600 with 1 Axes>"
      ]
     },
     "metadata": {},
     "output_type": "display_data"
    }
   ],
   "source": [
    "# Visualisierung\n",
    "fig, ax = plt.subplots(figsize=(8, 6))\n",
    "\n",
    "# Bars für jedes Team in jeder Dekade\n",
    "for idx, row in decade_wins_total.iterrows():\n",
    "    ax.barh(row['Car'], row['Bar'], left=row['Decade'], height=0.8)\n",
    "\n",
    "# Achsenbeschriftungen und Titel\n",
    "ax.set_xlabel('Dekade')\n",
    "ax.set_ylabel('Teams')\n",
    "ax.set_title('Dominante Teams pro Dekade in der Formel 1')\n",
    "ax.set_xticks(decade_wins_total['Decade'] + 5)  # Position der X-Achsenbeschriftungen in der Mitte der Dekade\n",
    "ax.set_xticklabels([f\"{int(decade)}s\" for decade in decade_wins_total['Decade']])\n",
    "ax.invert_yaxis()  # Die Teams von oben nach unten anzeigen\n",
    "\n",
    "# Anzeige der Gesamtanzahl der Siege pro Dekade als Text\n",
    "for idx, row in decade_wins_total.iterrows():\n",
    "    ax.text((row['Decade'] + 5), row['Car'], f\"Siege:{row['Wins']}\", va='center', ha='center', color='black', fontsize=10)\n",
    "\n",
    "plt.show()\n",
    "\n",
    "# Speichern des Diagramms als HTML-Datei\n",
    "html_Dekade_teams = mpld3.fig_to_html(fig)\n",
    "with open(\"dominante_teams_pro_dekade.html\", \"w\") as file:\n",
    "    file.write(html_Dekade_teams)"
   ]
  },
  {
   "cell_type": "markdown",
   "metadata": {},
   "source": [
    "# Erstelle eine Karte mit einem Slider in welchem man die Verteilung der Rennen auf dem Globus sehen kann\n",
    "- Feature Dekade erstellen\n",
    "- Alle Rennen einem Land zuordnen\n",
    "\n",
    "# Erstelle eine Karte mit einem Slider"
   ]
  },
  {
   "cell_type": "code",
   "execution_count": 12,
   "metadata": {},
   "outputs": [
    {
     "data": {
      "text/html": [
       "<div>\n",
       "<style scoped>\n",
       "    .dataframe tbody tr th:only-of-type {\n",
       "        vertical-align: middle;\n",
       "    }\n",
       "\n",
       "    .dataframe tbody tr th {\n",
       "        vertical-align: top;\n",
       "    }\n",
       "\n",
       "    .dataframe thead th {\n",
       "        text-align: right;\n",
       "    }\n",
       "</style>\n",
       "<table border=\"1\" class=\"dataframe\">\n",
       "  <thead>\n",
       "    <tr style=\"text-align: right;\">\n",
       "      <th></th>\n",
       "      <th>Grand Prix</th>\n",
       "      <th>Date</th>\n",
       "      <th>Winner</th>\n",
       "      <th>Car</th>\n",
       "      <th>Laps</th>\n",
       "      <th>Time</th>\n",
       "      <th>Name Code</th>\n",
       "      <th>Year</th>\n",
       "    </tr>\n",
       "  </thead>\n",
       "  <tbody>\n",
       "    <tr>\n",
       "      <th>0</th>\n",
       "      <td>Great Britain</td>\n",
       "      <td>1950-05-13</td>\n",
       "      <td>Nino  Farina</td>\n",
       "      <td>Alfa Romeo</td>\n",
       "      <td>70.0</td>\n",
       "      <td>2:13:23.600</td>\n",
       "      <td>FAR</td>\n",
       "      <td>1950</td>\n",
       "    </tr>\n",
       "    <tr>\n",
       "      <th>1</th>\n",
       "      <td>Monaco</td>\n",
       "      <td>1950-05-21</td>\n",
       "      <td>Juan Manuel  Fangio</td>\n",
       "      <td>Alfa Romeo</td>\n",
       "      <td>100.0</td>\n",
       "      <td>3:13:18.700</td>\n",
       "      <td>FAN</td>\n",
       "      <td>1950</td>\n",
       "    </tr>\n",
       "    <tr>\n",
       "      <th>2</th>\n",
       "      <td>Indianapolis 500</td>\n",
       "      <td>1950-05-30</td>\n",
       "      <td>Johnnie Parsons</td>\n",
       "      <td>Kurtis Kraft Offenhauser</td>\n",
       "      <td>138.0</td>\n",
       "      <td>2:46:55.970</td>\n",
       "      <td>PAR</td>\n",
       "      <td>1950</td>\n",
       "    </tr>\n",
       "    <tr>\n",
       "      <th>3</th>\n",
       "      <td>Switzerland</td>\n",
       "      <td>1950-06-04</td>\n",
       "      <td>Nino  Farina</td>\n",
       "      <td>Alfa Romeo</td>\n",
       "      <td>42.0</td>\n",
       "      <td>2:02:53.700</td>\n",
       "      <td>FAR</td>\n",
       "      <td>1950</td>\n",
       "    </tr>\n",
       "    <tr>\n",
       "      <th>4</th>\n",
       "      <td>Belgium</td>\n",
       "      <td>1950-06-18</td>\n",
       "      <td>Juan Manuel  Fangio</td>\n",
       "      <td>Alfa Romeo</td>\n",
       "      <td>35.0</td>\n",
       "      <td>2:47:26.000</td>\n",
       "      <td>FAN</td>\n",
       "      <td>1950</td>\n",
       "    </tr>\n",
       "    <tr>\n",
       "      <th>...</th>\n",
       "      <td>...</td>\n",
       "      <td>...</td>\n",
       "      <td>...</td>\n",
       "      <td>...</td>\n",
       "      <td>...</td>\n",
       "      <td>...</td>\n",
       "      <td>...</td>\n",
       "      <td>...</td>\n",
       "    </tr>\n",
       "    <tr>\n",
       "      <th>1016</th>\n",
       "      <td>Japan</td>\n",
       "      <td>2019-10-13</td>\n",
       "      <td>Valtteri  Bottas</td>\n",
       "      <td>Mercedes</td>\n",
       "      <td>52.0</td>\n",
       "      <td>1:21:46.755</td>\n",
       "      <td>BOT</td>\n",
       "      <td>2019</td>\n",
       "    </tr>\n",
       "    <tr>\n",
       "      <th>1017</th>\n",
       "      <td>Mexico</td>\n",
       "      <td>2019-10-27</td>\n",
       "      <td>Lewis  Hamilton</td>\n",
       "      <td>Mercedes</td>\n",
       "      <td>71.0</td>\n",
       "      <td>1:36:48.904</td>\n",
       "      <td>HAM</td>\n",
       "      <td>2019</td>\n",
       "    </tr>\n",
       "    <tr>\n",
       "      <th>1018</th>\n",
       "      <td>United States</td>\n",
       "      <td>2019-11-03</td>\n",
       "      <td>Valtteri  Bottas</td>\n",
       "      <td>Mercedes</td>\n",
       "      <td>56.0</td>\n",
       "      <td>1:33:55.653</td>\n",
       "      <td>BOT</td>\n",
       "      <td>2019</td>\n",
       "    </tr>\n",
       "    <tr>\n",
       "      <th>1019</th>\n",
       "      <td>Brazil</td>\n",
       "      <td>2019-11-17</td>\n",
       "      <td>Max  Verstappen</td>\n",
       "      <td>Red Bull Racing Honda</td>\n",
       "      <td>71.0</td>\n",
       "      <td>1:33:14.678</td>\n",
       "      <td>VER</td>\n",
       "      <td>2019</td>\n",
       "    </tr>\n",
       "    <tr>\n",
       "      <th>1020</th>\n",
       "      <td>Abu Dhabi</td>\n",
       "      <td>2019-12-01</td>\n",
       "      <td>Lewis  Hamilton</td>\n",
       "      <td>Mercedes</td>\n",
       "      <td>55.0</td>\n",
       "      <td>1:34:05.715</td>\n",
       "      <td>HAM</td>\n",
       "      <td>2019</td>\n",
       "    </tr>\n",
       "  </tbody>\n",
       "</table>\n",
       "<p>1021 rows × 8 columns</p>\n",
       "</div>"
      ],
      "text/plain": [
       "            Grand Prix        Date                Winner  \\\n",
       "0        Great Britain  1950-05-13         Nino  Farina    \n",
       "1               Monaco  1950-05-21  Juan Manuel  Fangio    \n",
       "2     Indianapolis 500  1950-05-30      Johnnie Parsons    \n",
       "3          Switzerland  1950-06-04         Nino  Farina    \n",
       "4              Belgium  1950-06-18  Juan Manuel  Fangio    \n",
       "...                ...         ...                   ...   \n",
       "1016             Japan  2019-10-13     Valtteri  Bottas    \n",
       "1017            Mexico  2019-10-27      Lewis  Hamilton    \n",
       "1018     United States  2019-11-03     Valtteri  Bottas    \n",
       "1019            Brazil  2019-11-17      Max  Verstappen    \n",
       "1020         Abu Dhabi  2019-12-01      Lewis  Hamilton    \n",
       "\n",
       "                           Car   Laps         Time Name Code  Year  \n",
       "0                   Alfa Romeo   70.0  2:13:23.600       FAR  1950  \n",
       "1                   Alfa Romeo  100.0  3:13:18.700       FAN  1950  \n",
       "2     Kurtis Kraft Offenhauser  138.0  2:46:55.970       PAR  1950  \n",
       "3                   Alfa Romeo   42.0  2:02:53.700       FAR  1950  \n",
       "4                   Alfa Romeo   35.0  2:47:26.000       FAN  1950  \n",
       "...                        ...    ...          ...       ...   ...  \n",
       "1016                  Mercedes   52.0  1:21:46.755       BOT  2019  \n",
       "1017                  Mercedes   71.0  1:36:48.904       HAM  2019  \n",
       "1018                  Mercedes   56.0  1:33:55.653       BOT  2019  \n",
       "1019     Red Bull Racing Honda   71.0  1:33:14.678       VER  2019  \n",
       "1020                  Mercedes   55.0  1:34:05.715       HAM  2019  \n",
       "\n",
       "[1021 rows x 8 columns]"
      ]
     },
     "execution_count": 12,
     "metadata": {},
     "output_type": "execute_result"
    }
   ],
   "source": [
    "df_winners"
   ]
  },
  {
   "cell_type": "code",
   "execution_count": 13,
   "metadata": {},
   "outputs": [],
   "source": [
    "df_winners_map = df_winners.copy()\n",
    "\n",
    "# Dekade erstellen\n",
    "df_winners_map['Decade'] = (df_winners['Year'] // 10) * 10\n",
    "\n",
    "# Mapping-Tabelle erstellen\n",
    "race_to_country = {\n",
    "    'Great Britain': 'United Kingdom',\n",
    "    'Monaco': 'Monaco',\n",
    "    'Indianapolis 500': 'United States',\n",
    "    'Switzerland': 'Switzerland',\n",
    "    'Belgium': 'Belgium',\n",
    "    'France': 'France',\n",
    "    'Italy': 'Italy',\n",
    "    'Germany': 'Germany',\n",
    "    'Spain': 'Spain',\n",
    "    'Netherlands': 'Netherlands',\n",
    "    'Argentina': 'Argentina',\n",
    "    'Pescara': 'Italy',\n",
    "    'Portugal': 'Portugal',\n",
    "    'Morocco': 'Morocco',\n",
    "    'United States': 'United States',\n",
    "    'South Africa': 'South Africa',\n",
    "    'Mexico': 'Mexico',\n",
    "    'Austria': 'Austria',\n",
    "    'Canada': 'Canada',\n",
    "    'Brazil': 'Brazil',\n",
    "    'Sweden': 'Sweden',\n",
    "    'USA West': 'United States',\n",
    "    'USA East': 'United States',\n",
    "    'Japan': 'Japan',\n",
    "    'San Marino': 'Italy',\n",
    "    \"Caesar's Palace\": 'United States',\n",
    "    'Detroit': 'United States',\n",
    "    'Europe': 'Varies',\n",
    "    'Dallas': 'United States',\n",
    "    'Australia': 'Australia',\n",
    "    'Hungary': 'Hungary',\n",
    "    'Pacific': 'Japan',\n",
    "    'Luxembourg': 'Luxembourg',\n",
    "    'Malaysia': 'Malaysia',\n",
    "    'Bahrain': 'Bahrain',\n",
    "    'China': 'China',\n",
    "    'Turkey': 'Turkey',\n",
    "    'Singapore': 'Singapore',\n",
    "    'Abu Dhabi': 'United Arab Emirates',\n",
    "    'South Korea': 'South Korea',\n",
    "    'India': 'India',\n",
    "    'Russia': 'Russia',\n",
    "    'Azerbaijan': 'Azerbaijan',\n",
    "    'Styria': 'Austria',\n",
    "    '70th Anniversary': 'United Kingdom',\n",
    "    'Tuscany': 'Italy',\n",
    "    'Eifel': 'Germany',\n",
    "    'Emilia Romagna': 'Italy',\n",
    "    'Sakhir': 'Bahrain',\n",
    "    'Qatar': 'Qatar',\n",
    "    'Saudi Arabia': 'Saudi Arabia',\n",
    "    'Miami': 'United States',\n",
    "    'Las Vegas': 'United States'\n",
    "}\n",
    "\n",
    "df_winners_map['Country'] = df_winners_map['Grand Prix'].map(race_to_country)\n",
    "\n",
    "df_winners_map_grouped = df_winners_map.groupby(['Decade', 'Country'])[\"Winner\"].count().reset_index()"
   ]
  },
  {
   "cell_type": "code",
   "execution_count": 14,
   "metadata": {},
   "outputs": [],
   "source": [
    "# Koordinaten für die Länder\n",
    "country_coords = {\n",
    "    'United Kingdom': {'Latitude': 55.3781, 'Longitude': -3.4360},\n",
    "    'Monaco': {'Latitude': 43.7384, 'Longitude': 7.4246},\n",
    "    'United States': {'Latitude': 37.0902, 'Longitude': -95.7129},\n",
    "    'Switzerland': {'Latitude': 46.8182, 'Longitude': 8.2275},\n",
    "    'Belgium': {'Latitude': 50.5039, 'Longitude': 4.4699},\n",
    "    'France': {'Latitude': 46.6034, 'Longitude': 1.8883},\n",
    "    'Italy': {'Latitude': 41.8719, 'Longitude': 12.5674},\n",
    "    'Germany': {'Latitude': 51.1657, 'Longitude': 10.4515},\n",
    "    'Spain': {'Latitude': 40.4637, 'Longitude': -3.7492},\n",
    "    'Netherlands': {'Latitude': 52.1326, 'Longitude': 5.2913},\n",
    "    'Argentina': {'Latitude': -38.4161, 'Longitude': -63.6167},\n",
    "    'Portugal': {'Latitude': 39.3999, 'Longitude': -8.2245},\n",
    "    'Morocco': {'Latitude': 31.7917, 'Longitude': -7.0926},\n",
    "    'South Africa': {'Latitude': -30.5595, 'Longitude': 22.9375},\n",
    "    'Mexico': {'Latitude': 23.6345, 'Longitude': -102.5528},\n",
    "    'Austria': {'Latitude': 47.5162, 'Longitude': 14.5501},\n",
    "    'Canada': {'Latitude': 56.1304, 'Longitude': -106.3468},\n",
    "    'Brazil': {'Latitude': -14.2350, 'Longitude': -51.9253},\n",
    "    'Sweden': {'Latitude': 60.1282, 'Longitude': 18.6435},\n",
    "    'Japan': {'Latitude': 36.2048, 'Longitude': 138.2529},\n",
    "    'Luxembourg': {'Latitude': 49.8153, 'Longitude': 6.1296},\n",
    "    'Malaysia': {'Latitude': 4.2105, 'Longitude': 101.9758},\n",
    "    'Bahrain': {'Latitude': 26.0667, 'Longitude': 50.5577},\n",
    "    'China': {'Latitude': 35.8617, 'Longitude': 104.1954},\n",
    "    'Turkey': {'Latitude': 38.9637, 'Longitude': 35.2433},\n",
    "    'Singapore': {'Latitude': 1.3521, 'Longitude': 103.8198},\n",
    "    'United Arab Emirates': {'Latitude': 23.4241, 'Longitude': 53.8478},\n",
    "    'South Korea': {'Latitude': 35.9078, 'Longitude': 127.7669},\n",
    "    'India': {'Latitude': 20.5937, 'Longitude': 78.9629},\n",
    "    'Russia': {'Latitude': 61.5240, 'Longitude': 105.3188},\n",
    "    'Azerbaijan': {'Latitude': 40.1431, 'Longitude': 47.5769},\n",
    "    'Qatar': {'Latitude': 25.3548, 'Longitude': 51.1839},\n",
    "    'Saudi Arabia': {'Latitude': 23.8859, 'Longitude': 45.0792},\n",
    "    'Australia': {'Latitude': -25.2744, 'Longitude': 133.7751},\n",
    "    'Hungary': {'Latitude': 47.1625, 'Longitude': 19.5033},\n",
    "    'Varies': {'Latitude': 0, 'Longitude': 0}\n",
    "}\n",
    "\n",
    "# Koordinaten hinzufügen\n",
    "df_winners_map_grouped['Latitude'] = df_winners_map_grouped['Country'].map(lambda x: country_coords[x]['Latitude'])\n",
    "df_winners_map_grouped['Longitude'] = df_winners_map_grouped['Country'].map(lambda x: country_coords[x]['Longitude'])\n",
    "\n",
    "# rename Winner to Races\n",
    "df_winners_map_grouped = df_winners_map_grouped.rename(columns={'Winner':'Races'})"
   ]
  },
  {
   "cell_type": "code",
   "execution_count": 15,
   "metadata": {},
   "outputs": [
    {
     "name": "stderr",
     "output_type": "stream",
     "text": [
      "/Library/Frameworks/Python.framework/Versions/3.10/lib/python3.10/site-packages/plotly/express/_core.py:1988: FutureWarning:\n",
      "\n",
      "When grouping with a length-1 list-like, you will need to pass a length-1 tuple to get_group in a future version of pandas. Pass `(name,)` instead of `name` to silence this warning.\n",
      "\n",
      "/Library/Frameworks/Python.framework/Versions/3.10/lib/python3.10/site-packages/plotly/express/_core.py:1988: FutureWarning:\n",
      "\n",
      "When grouping with a length-1 list-like, you will need to pass a length-1 tuple to get_group in a future version of pandas. Pass `(name,)` instead of `name` to silence this warning.\n",
      "\n",
      "/Library/Frameworks/Python.framework/Versions/3.10/lib/python3.10/site-packages/plotly/express/_core.py:1988: FutureWarning:\n",
      "\n",
      "When grouping with a length-1 list-like, you will need to pass a length-1 tuple to get_group in a future version of pandas. Pass `(name,)` instead of `name` to silence this warning.\n",
      "\n",
      "/Library/Frameworks/Python.framework/Versions/3.10/lib/python3.10/site-packages/plotly/express/_core.py:1988: FutureWarning:\n",
      "\n",
      "When grouping with a length-1 list-like, you will need to pass a length-1 tuple to get_group in a future version of pandas. Pass `(name,)` instead of `name` to silence this warning.\n",
      "\n",
      "/Library/Frameworks/Python.framework/Versions/3.10/lib/python3.10/site-packages/plotly/express/_core.py:1988: FutureWarning:\n",
      "\n",
      "When grouping with a length-1 list-like, you will need to pass a length-1 tuple to get_group in a future version of pandas. Pass `(name,)` instead of `name` to silence this warning.\n",
      "\n",
      "/Library/Frameworks/Python.framework/Versions/3.10/lib/python3.10/site-packages/plotly/express/_core.py:1988: FutureWarning:\n",
      "\n",
      "When grouping with a length-1 list-like, you will need to pass a length-1 tuple to get_group in a future version of pandas. Pass `(name,)` instead of `name` to silence this warning.\n",
      "\n",
      "/Library/Frameworks/Python.framework/Versions/3.10/lib/python3.10/site-packages/plotly/express/_core.py:1988: FutureWarning:\n",
      "\n",
      "When grouping with a length-1 list-like, you will need to pass a length-1 tuple to get_group in a future version of pandas. Pass `(name,)` instead of `name` to silence this warning.\n",
      "\n"
     ]
    },
    {
     "data": {
      "application/vnd.plotly.v1+json": {
       "config": {
        "plotlyServerURL": "https://plot.ly"
       },
       "data": [
        {
         "customdata": [
          [
           7,
           -38.4161,
           -63.6167
          ],
          [
           8,
           50.5039,
           4.4699
          ],
          [
           10,
           46.6034,
           1.8883
          ],
          [
           8,
           51.1657,
           10.4515
          ],
          [
           11,
           41.8719,
           12.5674
          ],
          [
           6,
           43.7384,
           7.4246
          ],
          [
           1,
           31.7917,
           -7.0926
          ],
          [
           5,
           52.1326,
           5.2913
          ],
          [
           2,
           39.3999,
           -8.2245
          ],
          [
           2,
           40.4637,
           -3.7492
          ],
          [
           5,
           46.8182,
           8.2275
          ],
          [
           11,
           55.3781,
           -3.436
          ],
          [
           11,
           37.0902,
           -95.7129
          ]
         ],
         "hovertemplate": "<b>%{hovertext}</b><br><br>Races=%{marker.color}<extra></extra>",
         "hovertext": [
          "Argentina",
          "Belgium",
          "France",
          "Germany",
          "Italy",
          "Monaco",
          "Morocco",
          "Netherlands",
          "Portugal",
          "Spain",
          "Switzerland",
          "United Kingdom",
          "United States"
         ],
         "lat": [
          -38.4161,
          50.5039,
          46.6034,
          51.1657,
          41.8719,
          43.7384,
          31.7917,
          52.1326,
          39.3999,
          40.4637,
          46.8182,
          55.3781,
          37.0902
         ],
         "legendgroup": "",
         "lon": [
          -63.6167,
          4.4699,
          1.8883,
          10.4515,
          12.5674,
          7.4246,
          -7.0926,
          5.2913,
          -8.2245,
          -3.7492,
          8.2275,
          -3.436,
          -95.7129
         ],
         "marker": {
          "color": [
           7,
           8,
           10,
           8,
           11,
           6,
           1,
           5,
           2,
           2,
           5,
           11,
           11
          ],
          "coloraxis": "coloraxis",
          "size": [
           7,
           8,
           10,
           8,
           11,
           6,
           1,
           5,
           2,
           2,
           5,
           11,
           11
          ],
          "sizemode": "area",
          "sizeref": 0.04888888888888889
         },
         "mode": "markers",
         "name": "",
         "showlegend": false,
         "subplot": "mapbox",
         "type": "scattermapbox"
        }
       ],
       "frames": [
        {
         "data": [
          {
           "customdata": [
            [
             7,
             -38.4161,
             -63.6167
            ],
            [
             8,
             50.5039,
             4.4699
            ],
            [
             10,
             46.6034,
             1.8883
            ],
            [
             8,
             51.1657,
             10.4515
            ],
            [
             11,
             41.8719,
             12.5674
            ],
            [
             6,
             43.7384,
             7.4246
            ],
            [
             1,
             31.7917,
             -7.0926
            ],
            [
             5,
             52.1326,
             5.2913
            ],
            [
             2,
             39.3999,
             -8.2245
            ],
            [
             2,
             40.4637,
             -3.7492
            ],
            [
             5,
             46.8182,
             8.2275
            ],
            [
             11,
             55.3781,
             -3.436
            ],
            [
             11,
             37.0902,
             -95.7129
            ]
           ],
           "hovertemplate": "<b>%{hovertext}</b><br><br>Races=%{marker.color}<extra></extra>",
           "hovertext": [
            "Argentina",
            "Belgium",
            "France",
            "Germany",
            "Italy",
            "Monaco",
            "Morocco",
            "Netherlands",
            "Portugal",
            "Spain",
            "Switzerland",
            "United Kingdom",
            "United States"
           ],
           "lat": [
            -38.4161,
            50.5039,
            46.6034,
            51.1657,
            41.8719,
            43.7384,
            31.7917,
            52.1326,
            39.3999,
            40.4637,
            46.8182,
            55.3781,
            37.0902
           ],
           "legendgroup": "",
           "lon": [
            -63.6167,
            4.4699,
            1.8883,
            10.4515,
            12.5674,
            7.4246,
            -7.0926,
            5.2913,
            -8.2245,
            -3.7492,
            8.2275,
            -3.436,
            -95.7129
           ],
           "marker": {
            "color": [
             7,
             8,
             10,
             8,
             11,
             6,
             1,
             5,
             2,
             2,
             5,
             11,
             11
            ],
            "coloraxis": "coloraxis",
            "size": [
             7,
             8,
             10,
             8,
             11,
             6,
             1,
             5,
             2,
             2,
             5,
             11,
             11
            ],
            "sizemode": "area",
            "sizeref": 0.04888888888888889
           },
           "mode": "markers",
           "name": "",
           "showlegend": false,
           "subplot": "mapbox",
           "type": "scattermapbox"
          }
         ],
         "name": "1950"
        },
        {
         "data": [
          {
           "customdata": [
            [
             1,
             -38.4161,
             -63.6167
            ],
            [
             1,
             47.5162,
             14.5501
            ],
            [
             9,
             50.5039,
             4.4699
            ],
            [
             3,
             56.1304,
             -106.3468
            ],
            [
             10,
             46.6034,
             1.8883
            ],
            [
             9,
             51.1657,
             10.4515
            ],
            [
             10,
             41.8719,
             12.5674
            ],
            [
             7,
             23.6345,
             -102.5528
            ],
            [
             10,
             43.7384,
             7.4246
            ],
            [
             10,
             52.1326,
             5.2913
            ],
            [
             1,
             39.3999,
             -8.2245
            ],
            [
             6,
             -30.5595,
             22.9375
            ],
            [
             2,
             40.4637,
             -3.7492
            ],
            [
             10,
             55.3781,
             -3.436
            ],
            [
             11,
             37.0902,
             -95.7129
            ]
           ],
           "hovertemplate": "<b>%{hovertext}</b><br><br>Races=%{marker.color}<extra></extra>",
           "hovertext": [
            "Argentina",
            "Austria",
            "Belgium",
            "Canada",
            "France",
            "Germany",
            "Italy",
            "Mexico",
            "Monaco",
            "Netherlands",
            "Portugal",
            "South Africa",
            "Spain",
            "United Kingdom",
            "United States"
           ],
           "lat": [
            -38.4161,
            47.5162,
            50.5039,
            56.1304,
            46.6034,
            51.1657,
            41.8719,
            23.6345,
            43.7384,
            52.1326,
            39.3999,
            -30.5595,
            40.4637,
            55.3781,
            37.0902
           ],
           "legendgroup": "",
           "lon": [
            -63.6167,
            14.5501,
            4.4699,
            -106.3468,
            1.8883,
            10.4515,
            12.5674,
            -102.5528,
            7.4246,
            5.2913,
            -8.2245,
            22.9375,
            -3.7492,
            -3.436,
            -95.7129
           ],
           "marker": {
            "color": [
             1,
             1,
             9,
             3,
             10,
             9,
             10,
             7,
             10,
             10,
             1,
             6,
             2,
             10,
             11
            ],
            "coloraxis": "coloraxis",
            "size": [
             1,
             1,
             9,
             3,
             10,
             9,
             10,
             7,
             10,
             10,
             1,
             6,
             2,
             10,
             11
            ],
            "sizemode": "area",
            "sizeref": 0.04888888888888889
           },
           "mode": "markers",
           "name": "",
           "showlegend": false,
           "subplot": "mapbox",
           "type": "scattermapbox"
          }
         ],
         "name": "1960"
        },
        {
         "data": [
          {
           "customdata": [
            [
             7,
             -38.4161,
             -63.6167
            ],
            [
             10,
             47.5162,
             14.5501
            ],
            [
             9,
             50.5039,
             4.4699
            ],
            [
             7,
             -14.235,
             -51.9253
            ],
            [
             9,
             56.1304,
             -106.3468
            ],
            [
             10,
             46.6034,
             1.8883
            ],
            [
             10,
             51.1657,
             10.4515
            ],
            [
             10,
             41.8719,
             12.5674
            ],
            [
             2,
             36.2048,
             138.2529
            ],
            [
             1,
             23.6345,
             -102.5528
            ],
            [
             10,
             43.7384,
             7.4246
            ],
            [
             9,
             52.1326,
             5.2913
            ],
            [
             10,
             -30.5595,
             22.9375
            ],
            [
             10,
             40.4637,
             -3.7492
            ],
            [
             6,
             60.1282,
             18.6435
            ],
            [
             10,
             55.3781,
             -3.436
            ],
            [
             14,
             37.0902,
             -95.7129
            ]
           ],
           "hovertemplate": "<b>%{hovertext}</b><br><br>Races=%{marker.color}<extra></extra>",
           "hovertext": [
            "Argentina",
            "Austria",
            "Belgium",
            "Brazil",
            "Canada",
            "France",
            "Germany",
            "Italy",
            "Japan",
            "Mexico",
            "Monaco",
            "Netherlands",
            "South Africa",
            "Spain",
            "Sweden",
            "United Kingdom",
            "United States"
           ],
           "lat": [
            -38.4161,
            47.5162,
            50.5039,
            -14.235,
            56.1304,
            46.6034,
            51.1657,
            41.8719,
            36.2048,
            23.6345,
            43.7384,
            52.1326,
            -30.5595,
            40.4637,
            60.1282,
            55.3781,
            37.0902
           ],
           "legendgroup": "",
           "lon": [
            -63.6167,
            14.5501,
            4.4699,
            -51.9253,
            -106.3468,
            1.8883,
            10.4515,
            12.5674,
            138.2529,
            -102.5528,
            7.4246,
            5.2913,
            22.9375,
            -3.7492,
            18.6435,
            -3.436,
            -95.7129
           ],
           "marker": {
            "color": [
             7,
             10,
             9,
             7,
             9,
             10,
             10,
             10,
             2,
             1,
             10,
             9,
             10,
             10,
             6,
             10,
             14
            ],
            "coloraxis": "coloraxis",
            "size": [
             7,
             10,
             9,
             7,
             9,
             10,
             10,
             10,
             2,
             1,
             10,
             9,
             10,
             10,
             6,
             10,
             14
            ],
            "sizemode": "area",
            "sizeref": 0.06222222222222222
           },
           "mode": "markers",
           "name": "",
           "showlegend": false,
           "subplot": "mapbox",
           "type": "scattermapbox"
          }
         ],
         "name": "1970"
        },
        {
         "data": [
          {
           "customdata": [
            [
             2,
             -38.4161,
             -63.6167
            ],
            [
             5,
             -25.2744,
             133.7751
            ],
            [
             8,
             47.5162,
             14.5501
            ],
            [
             10,
             50.5039,
             4.4699
            ],
            [
             10,
             -14.235,
             -51.9253
            ],
            [
             9,
             56.1304,
             -106.3468
            ],
            [
             10,
             46.6034,
             1.8883
            ],
            [
             10,
             51.1657,
             10.4515
            ],
            [
             4,
             47.1625,
             19.5033
            ],
            [
             19,
             41.8719,
             12.5674
            ],
            [
             3,
             36.2048,
             138.2529
            ],
            [
             4,
             23.6345,
             -102.5528
            ],
            [
             10,
             43.7384,
             7.4246
            ],
            [
             6,
             52.1326,
             5.2913
            ],
            [
             6,
             39.3999,
             -8.2245
            ],
            [
             5,
             -30.5595,
             22.9375
            ],
            [
             5,
             40.4637,
             -3.7492
            ],
            [
             1,
             46.8182,
             8.2275
            ],
            [
             10,
             55.3781,
             -3.436
            ],
            [
             16,
             37.0902,
             -95.7129
            ],
            [
             3,
             0,
             0
            ]
           ],
           "hovertemplate": "<b>%{hovertext}</b><br><br>Races=%{marker.color}<extra></extra>",
           "hovertext": [
            "Argentina",
            "Australia",
            "Austria",
            "Belgium",
            "Brazil",
            "Canada",
            "France",
            "Germany",
            "Hungary",
            "Italy",
            "Japan",
            "Mexico",
            "Monaco",
            "Netherlands",
            "Portugal",
            "South Africa",
            "Spain",
            "Switzerland",
            "United Kingdom",
            "United States",
            "Varies"
           ],
           "lat": [
            -38.4161,
            -25.2744,
            47.5162,
            50.5039,
            -14.235,
            56.1304,
            46.6034,
            51.1657,
            47.1625,
            41.8719,
            36.2048,
            23.6345,
            43.7384,
            52.1326,
            39.3999,
            -30.5595,
            40.4637,
            46.8182,
            55.3781,
            37.0902,
            0
           ],
           "legendgroup": "",
           "lon": [
            -63.6167,
            133.7751,
            14.5501,
            4.4699,
            -51.9253,
            -106.3468,
            1.8883,
            10.4515,
            19.5033,
            12.5674,
            138.2529,
            -102.5528,
            7.4246,
            5.2913,
            -8.2245,
            22.9375,
            -3.7492,
            8.2275,
            -3.436,
            -95.7129,
            0
           ],
           "marker": {
            "color": [
             2,
             5,
             8,
             10,
             10,
             9,
             10,
             10,
             4,
             19,
             3,
             4,
             10,
             6,
             6,
             5,
             5,
             1,
             10,
             16,
             3
            ],
            "coloraxis": "coloraxis",
            "size": [
             2,
             5,
             8,
             10,
             10,
             9,
             10,
             10,
             4,
             19,
             3,
             4,
             10,
             6,
             6,
             5,
             5,
             1,
             10,
             16,
             3
            ],
            "sizemode": "area",
            "sizeref": 0.08444444444444445
           },
           "mode": "markers",
           "name": "",
           "showlegend": false,
           "subplot": "mapbox",
           "type": "scattermapbox"
          }
         ],
         "name": "1980"
        },
        {
         "data": [
          {
           "customdata": [
            [
             4,
             -38.4161,
             -63.6167
            ],
            [
             10,
             -25.2744,
             133.7751
            ],
            [
             3,
             47.5162,
             14.5501
            ],
            [
             10,
             50.5039,
             4.4699
            ],
            [
             10,
             -14.235,
             -51.9253
            ],
            [
             10,
             56.1304,
             -106.3468
            ],
            [
             10,
             46.6034,
             1.8883
            ],
            [
             10,
             51.1657,
             10.4515
            ],
            [
             10,
             47.1625,
             19.5033
            ],
            [
             20,
             41.8719,
             12.5674
            ],
            [
             12,
             36.2048,
             138.2529
            ],
            [
             2,
             49.8153,
             6.1296
            ],
            [
             1,
             4.2105,
             101.9758
            ],
            [
             3,
             23.6345,
             -102.5528
            ],
            [
             10,
             43.7384,
             7.4246
            ],
            [
             7,
             39.3999,
             -8.2245
            ],
            [
             2,
             -30.5595,
             22.9375
            ],
            [
             10,
             40.4637,
             -3.7492
            ],
            [
             10,
             55.3781,
             -3.436
            ],
            [
             2,
             37.0902,
             -95.7129
            ],
            [
             6,
             0,
             0
            ]
           ],
           "hovertemplate": "<b>%{hovertext}</b><br><br>Races=%{marker.color}<extra></extra>",
           "hovertext": [
            "Argentina",
            "Australia",
            "Austria",
            "Belgium",
            "Brazil",
            "Canada",
            "France",
            "Germany",
            "Hungary",
            "Italy",
            "Japan",
            "Luxembourg",
            "Malaysia",
            "Mexico",
            "Monaco",
            "Portugal",
            "South Africa",
            "Spain",
            "United Kingdom",
            "United States",
            "Varies"
           ],
           "lat": [
            -38.4161,
            -25.2744,
            47.5162,
            50.5039,
            -14.235,
            56.1304,
            46.6034,
            51.1657,
            47.1625,
            41.8719,
            36.2048,
            49.8153,
            4.2105,
            23.6345,
            43.7384,
            39.3999,
            -30.5595,
            40.4637,
            55.3781,
            37.0902,
            0
           ],
           "legendgroup": "",
           "lon": [
            -63.6167,
            133.7751,
            14.5501,
            4.4699,
            -51.9253,
            -106.3468,
            1.8883,
            10.4515,
            19.5033,
            12.5674,
            138.2529,
            6.1296,
            101.9758,
            -102.5528,
            7.4246,
            -8.2245,
            22.9375,
            -3.7492,
            -3.436,
            -95.7129,
            0
           ],
           "marker": {
            "color": [
             4,
             10,
             3,
             10,
             10,
             10,
             10,
             10,
             10,
             20,
             12,
             2,
             1,
             3,
             10,
             7,
             2,
             10,
             10,
             2,
             6
            ],
            "coloraxis": "coloraxis",
            "size": [
             4,
             10,
             3,
             10,
             10,
             10,
             10,
             10,
             10,
             20,
             12,
             2,
             1,
             3,
             10,
             7,
             2,
             10,
             10,
             2,
             6
            ],
            "sizemode": "area",
            "sizeref": 0.08888888888888889
           },
           "mode": "markers",
           "name": "",
           "showlegend": false,
           "subplot": "mapbox",
           "type": "scattermapbox"
          }
         ],
         "name": "1990"
        },
        {
         "data": [
          {
           "customdata": [
            [
             10,
             -25.2744,
             133.7751
            ],
            [
             4,
             47.5162,
             14.5501
            ],
            [
             6,
             26.0667,
             50.5577
            ],
            [
             8,
             50.5039,
             4.4699
            ],
            [
             10,
             -14.235,
             -51.9253
            ],
            [
             9,
             56.1304,
             -106.3468
            ],
            [
             6,
             35.8617,
             104.1954
            ],
            [
             9,
             46.6034,
             1.8883
            ],
            [
             9,
             51.1657,
             10.4515
            ],
            [
             10,
             47.1625,
             19.5033
            ],
            [
             17,
             41.8719,
             12.5674
            ],
            [
             10,
             36.2048,
             138.2529
            ],
            [
             10,
             4.2105,
             101.9758
            ],
            [
             10,
             43.7384,
             7.4246
            ],
            [
             2,
             1.3521,
             103.8198
            ],
            [
             10,
             40.4637,
             -3.7492
            ],
            [
             5,
             38.9637,
             35.2433
            ],
            [
             1,
             23.4241,
             53.8478
            ],
            [
             10,
             55.3781,
             -3.436
            ],
            [
             8,
             37.0902,
             -95.7129
            ],
            [
             10,
             0,
             0
            ]
           ],
           "hovertemplate": "<b>%{hovertext}</b><br><br>Races=%{marker.color}<extra></extra>",
           "hovertext": [
            "Australia",
            "Austria",
            "Bahrain",
            "Belgium",
            "Brazil",
            "Canada",
            "China",
            "France",
            "Germany",
            "Hungary",
            "Italy",
            "Japan",
            "Malaysia",
            "Monaco",
            "Singapore",
            "Spain",
            "Turkey",
            "United Arab Emirates",
            "United Kingdom",
            "United States",
            "Varies"
           ],
           "lat": [
            -25.2744,
            47.5162,
            26.0667,
            50.5039,
            -14.235,
            56.1304,
            35.8617,
            46.6034,
            51.1657,
            47.1625,
            41.8719,
            36.2048,
            4.2105,
            43.7384,
            1.3521,
            40.4637,
            38.9637,
            23.4241,
            55.3781,
            37.0902,
            0
           ],
           "legendgroup": "",
           "lon": [
            133.7751,
            14.5501,
            50.5577,
            4.4699,
            -51.9253,
            -106.3468,
            104.1954,
            1.8883,
            10.4515,
            19.5033,
            12.5674,
            138.2529,
            101.9758,
            7.4246,
            103.8198,
            -3.7492,
            35.2433,
            53.8478,
            -3.436,
            -95.7129,
            0
           ],
           "marker": {
            "color": [
             10,
             4,
             6,
             8,
             10,
             9,
             6,
             9,
             9,
             10,
             17,
             10,
             10,
             10,
             2,
             10,
             5,
             1,
             10,
             8,
             10
            ],
            "coloraxis": "coloraxis",
            "size": [
             10,
             4,
             6,
             8,
             10,
             9,
             6,
             9,
             9,
             10,
             17,
             10,
             10,
             10,
             2,
             10,
             5,
             1,
             10,
             8,
             10
            ],
            "sizemode": "area",
            "sizeref": 0.07555555555555556
           },
           "mode": "markers",
           "name": "",
           "showlegend": false,
           "subplot": "mapbox",
           "type": "scattermapbox"
          }
         ],
         "name": "2000"
        },
        {
         "data": [
          {
           "customdata": [
            [
             10,
             -25.2744,
             133.7751
            ],
            [
             6,
             47.5162,
             14.5501
            ],
            [
             3,
             40.1431,
             47.5769
            ],
            [
             9,
             26.0667,
             50.5577
            ],
            [
             10,
             50.5039,
             4.4699
            ],
            [
             10,
             -14.235,
             -51.9253
            ],
            [
             10,
             56.1304,
             -106.3468
            ],
            [
             10,
             35.8617,
             104.1954
            ],
            [
             2,
             46.6034,
             1.8883
            ],
            [
             8,
             51.1657,
             10.4515
            ],
            [
             10,
             47.1625,
             19.5033
            ],
            [
             3,
             20.5937,
             78.9629
            ],
            [
             10,
             41.8719,
             12.5674
            ],
            [
             10,
             36.2048,
             138.2529
            ],
            [
             8,
             4.2105,
             101.9758
            ],
            [
             5,
             23.6345,
             -102.5528
            ],
            [
             10,
             43.7384,
             7.4246
            ],
            [
             6,
             61.524,
             105.3188
            ],
            [
             10,
             1.3521,
             103.8198
            ],
            [
             4,
             35.9078,
             127.7669
            ],
            [
             10,
             40.4637,
             -3.7492
            ],
            [
             2,
             38.9637,
             35.2433
            ],
            [
             10,
             23.4241,
             53.8478
            ],
            [
             10,
             55.3781,
             -3.436
            ],
            [
             8,
             37.0902,
             -95.7129
            ],
            [
             4,
             0,
             0
            ]
           ],
           "hovertemplate": "<b>%{hovertext}</b><br><br>Races=%{marker.color}<extra></extra>",
           "hovertext": [
            "Australia",
            "Austria",
            "Azerbaijan",
            "Bahrain",
            "Belgium",
            "Brazil",
            "Canada",
            "China",
            "France",
            "Germany",
            "Hungary",
            "India",
            "Italy",
            "Japan",
            "Malaysia",
            "Mexico",
            "Monaco",
            "Russia",
            "Singapore",
            "South Korea",
            "Spain",
            "Turkey",
            "United Arab Emirates",
            "United Kingdom",
            "United States",
            "Varies"
           ],
           "lat": [
            -25.2744,
            47.5162,
            40.1431,
            26.0667,
            50.5039,
            -14.235,
            56.1304,
            35.8617,
            46.6034,
            51.1657,
            47.1625,
            20.5937,
            41.8719,
            36.2048,
            4.2105,
            23.6345,
            43.7384,
            61.524,
            1.3521,
            35.9078,
            40.4637,
            38.9637,
            23.4241,
            55.3781,
            37.0902,
            0
           ],
           "legendgroup": "",
           "lon": [
            133.7751,
            14.5501,
            47.5769,
            50.5577,
            4.4699,
            -51.9253,
            -106.3468,
            104.1954,
            1.8883,
            10.4515,
            19.5033,
            78.9629,
            12.5674,
            138.2529,
            101.9758,
            -102.5528,
            7.4246,
            105.3188,
            103.8198,
            127.7669,
            -3.7492,
            35.2433,
            53.8478,
            -3.436,
            -95.7129,
            0
           ],
           "marker": {
            "color": [
             10,
             6,
             3,
             9,
             10,
             10,
             10,
             10,
             2,
             8,
             10,
             3,
             10,
             10,
             8,
             5,
             10,
             6,
             10,
             4,
             10,
             2,
             10,
             10,
             8,
             4
            ],
            "coloraxis": "coloraxis",
            "size": [
             10,
             6,
             3,
             9,
             10,
             10,
             10,
             10,
             2,
             8,
             10,
             3,
             10,
             10,
             8,
             5,
             10,
             6,
             10,
             4,
             10,
             2,
             10,
             10,
             8,
             4
            ],
            "sizemode": "area",
            "sizeref": 0.044444444444444446
           },
           "mode": "markers",
           "name": "",
           "showlegend": false,
           "subplot": "mapbox",
           "type": "scattermapbox"
          }
         ],
         "name": "2010"
        }
       ],
       "layout": {
        "coloraxis": {
         "colorbar": {
          "title": {
           "text": "Races"
          }
         },
         "colorscale": [
          [
           0,
           "#000000"
          ],
          [
           0.0625,
           "#001f4d"
          ],
          [
           0.125,
           "#003786"
          ],
          [
           0.1875,
           "#0e58a8"
          ],
          [
           0.25,
           "#217eb8"
          ],
          [
           0.3125,
           "#30a4ca"
          ],
          [
           0.375,
           "#54c8df"
          ],
          [
           0.4375,
           "#9be4ef"
          ],
          [
           0.5,
           "#e1e9d1"
          ],
          [
           0.5625,
           "#f3d573"
          ],
          [
           0.625,
           "#e7b000"
          ],
          [
           0.6875,
           "#da8200"
          ],
          [
           0.75,
           "#c65400"
          ],
          [
           0.8125,
           "#ac2301"
          ],
          [
           0.875,
           "#820000"
          ],
          [
           0.9375,
           "#4c0000"
          ],
          [
           1,
           "#000000"
          ]
         ]
        },
        "dragmode": false,
        "height": 800,
        "legend": {
         "itemsizing": "constant",
         "tracegroupgap": 0
        },
        "mapbox": {
         "center": {
          "lat": 38.349353846153846,
          "lon": -10.11626153846154
         },
         "domain": {
          "x": [
           0,
           1
          ],
          "y": [
           0,
           1
          ]
         },
         "style": "open-street-map",
         "zoom": 1
        },
        "margin": {
         "b": 200,
         "l": 0,
         "r": 0,
         "t": 100
        },
        "sliders": [
         {
          "active": 0,
          "currentvalue": {
           "prefix": "Decade: "
          },
          "pad": {
           "t": 50
          },
          "steps": [
           {
            "args": [
             [
              1950
             ],
             {
              "frame": {
               "duration": 300,
               "redraw": true
              },
              "mode": "immediate",
              "transition": {
               "duration": 0
              }
             }
            ],
            "label": "1950",
            "method": "animate"
           },
           {
            "args": [
             [
              1960
             ],
             {
              "frame": {
               "duration": 300,
               "redraw": true
              },
              "mode": "immediate",
              "transition": {
               "duration": 0
              }
             }
            ],
            "label": "1960",
            "method": "animate"
           },
           {
            "args": [
             [
              1970
             ],
             {
              "frame": {
               "duration": 300,
               "redraw": true
              },
              "mode": "immediate",
              "transition": {
               "duration": 0
              }
             }
            ],
            "label": "1970",
            "method": "animate"
           },
           {
            "args": [
             [
              1980
             ],
             {
              "frame": {
               "duration": 300,
               "redraw": true
              },
              "mode": "immediate",
              "transition": {
               "duration": 0
              }
             }
            ],
            "label": "1980",
            "method": "animate"
           },
           {
            "args": [
             [
              1990
             ],
             {
              "frame": {
               "duration": 300,
               "redraw": true
              },
              "mode": "immediate",
              "transition": {
               "duration": 0
              }
             }
            ],
            "label": "1990",
            "method": "animate"
           },
           {
            "args": [
             [
              2000
             ],
             {
              "frame": {
               "duration": 300,
               "redraw": true
              },
              "mode": "immediate",
              "transition": {
               "duration": 0
              }
             }
            ],
            "label": "2000",
            "method": "animate"
           },
           {
            "args": [
             [
              2010
             ],
             {
              "frame": {
               "duration": 300,
               "redraw": true
              },
              "mode": "immediate",
              "transition": {
               "duration": 0
              }
             }
            ],
            "label": "2010",
            "method": "animate"
           }
          ],
          "x": 0.04,
          "y": -0.1
         }
        ],
        "template": {
         "data": {
          "bar": [
           {
            "error_x": {
             "color": "#2a3f5f"
            },
            "error_y": {
             "color": "#2a3f5f"
            },
            "marker": {
             "line": {
              "color": "#E5ECF6",
              "width": 0.5
             },
             "pattern": {
              "fillmode": "overlay",
              "size": 10,
              "solidity": 0.2
             }
            },
            "type": "bar"
           }
          ],
          "barpolar": [
           {
            "marker": {
             "line": {
              "color": "#E5ECF6",
              "width": 0.5
             },
             "pattern": {
              "fillmode": "overlay",
              "size": 10,
              "solidity": 0.2
             }
            },
            "type": "barpolar"
           }
          ],
          "carpet": [
           {
            "aaxis": {
             "endlinecolor": "#2a3f5f",
             "gridcolor": "white",
             "linecolor": "white",
             "minorgridcolor": "white",
             "startlinecolor": "#2a3f5f"
            },
            "baxis": {
             "endlinecolor": "#2a3f5f",
             "gridcolor": "white",
             "linecolor": "white",
             "minorgridcolor": "white",
             "startlinecolor": "#2a3f5f"
            },
            "type": "carpet"
           }
          ],
          "choropleth": [
           {
            "colorbar": {
             "outlinewidth": 0,
             "ticks": ""
            },
            "type": "choropleth"
           }
          ],
          "contour": [
           {
            "colorbar": {
             "outlinewidth": 0,
             "ticks": ""
            },
            "colorscale": [
             [
              0,
              "#0d0887"
             ],
             [
              0.1111111111111111,
              "#46039f"
             ],
             [
              0.2222222222222222,
              "#7201a8"
             ],
             [
              0.3333333333333333,
              "#9c179e"
             ],
             [
              0.4444444444444444,
              "#bd3786"
             ],
             [
              0.5555555555555556,
              "#d8576b"
             ],
             [
              0.6666666666666666,
              "#ed7953"
             ],
             [
              0.7777777777777778,
              "#fb9f3a"
             ],
             [
              0.8888888888888888,
              "#fdca26"
             ],
             [
              1,
              "#f0f921"
             ]
            ],
            "type": "contour"
           }
          ],
          "contourcarpet": [
           {
            "colorbar": {
             "outlinewidth": 0,
             "ticks": ""
            },
            "type": "contourcarpet"
           }
          ],
          "heatmap": [
           {
            "colorbar": {
             "outlinewidth": 0,
             "ticks": ""
            },
            "colorscale": [
             [
              0,
              "#0d0887"
             ],
             [
              0.1111111111111111,
              "#46039f"
             ],
             [
              0.2222222222222222,
              "#7201a8"
             ],
             [
              0.3333333333333333,
              "#9c179e"
             ],
             [
              0.4444444444444444,
              "#bd3786"
             ],
             [
              0.5555555555555556,
              "#d8576b"
             ],
             [
              0.6666666666666666,
              "#ed7953"
             ],
             [
              0.7777777777777778,
              "#fb9f3a"
             ],
             [
              0.8888888888888888,
              "#fdca26"
             ],
             [
              1,
              "#f0f921"
             ]
            ],
            "type": "heatmap"
           }
          ],
          "heatmapgl": [
           {
            "colorbar": {
             "outlinewidth": 0,
             "ticks": ""
            },
            "colorscale": [
             [
              0,
              "#0d0887"
             ],
             [
              0.1111111111111111,
              "#46039f"
             ],
             [
              0.2222222222222222,
              "#7201a8"
             ],
             [
              0.3333333333333333,
              "#9c179e"
             ],
             [
              0.4444444444444444,
              "#bd3786"
             ],
             [
              0.5555555555555556,
              "#d8576b"
             ],
             [
              0.6666666666666666,
              "#ed7953"
             ],
             [
              0.7777777777777778,
              "#fb9f3a"
             ],
             [
              0.8888888888888888,
              "#fdca26"
             ],
             [
              1,
              "#f0f921"
             ]
            ],
            "type": "heatmapgl"
           }
          ],
          "histogram": [
           {
            "marker": {
             "pattern": {
              "fillmode": "overlay",
              "size": 10,
              "solidity": 0.2
             }
            },
            "type": "histogram"
           }
          ],
          "histogram2d": [
           {
            "colorbar": {
             "outlinewidth": 0,
             "ticks": ""
            },
            "colorscale": [
             [
              0,
              "#0d0887"
             ],
             [
              0.1111111111111111,
              "#46039f"
             ],
             [
              0.2222222222222222,
              "#7201a8"
             ],
             [
              0.3333333333333333,
              "#9c179e"
             ],
             [
              0.4444444444444444,
              "#bd3786"
             ],
             [
              0.5555555555555556,
              "#d8576b"
             ],
             [
              0.6666666666666666,
              "#ed7953"
             ],
             [
              0.7777777777777778,
              "#fb9f3a"
             ],
             [
              0.8888888888888888,
              "#fdca26"
             ],
             [
              1,
              "#f0f921"
             ]
            ],
            "type": "histogram2d"
           }
          ],
          "histogram2dcontour": [
           {
            "colorbar": {
             "outlinewidth": 0,
             "ticks": ""
            },
            "colorscale": [
             [
              0,
              "#0d0887"
             ],
             [
              0.1111111111111111,
              "#46039f"
             ],
             [
              0.2222222222222222,
              "#7201a8"
             ],
             [
              0.3333333333333333,
              "#9c179e"
             ],
             [
              0.4444444444444444,
              "#bd3786"
             ],
             [
              0.5555555555555556,
              "#d8576b"
             ],
             [
              0.6666666666666666,
              "#ed7953"
             ],
             [
              0.7777777777777778,
              "#fb9f3a"
             ],
             [
              0.8888888888888888,
              "#fdca26"
             ],
             [
              1,
              "#f0f921"
             ]
            ],
            "type": "histogram2dcontour"
           }
          ],
          "mesh3d": [
           {
            "colorbar": {
             "outlinewidth": 0,
             "ticks": ""
            },
            "type": "mesh3d"
           }
          ],
          "parcoords": [
           {
            "line": {
             "colorbar": {
              "outlinewidth": 0,
              "ticks": ""
             }
            },
            "type": "parcoords"
           }
          ],
          "pie": [
           {
            "automargin": true,
            "type": "pie"
           }
          ],
          "scatter": [
           {
            "marker": {
             "colorbar": {
              "outlinewidth": 0,
              "ticks": ""
             }
            },
            "type": "scatter"
           }
          ],
          "scatter3d": [
           {
            "line": {
             "colorbar": {
              "outlinewidth": 0,
              "ticks": ""
             }
            },
            "marker": {
             "colorbar": {
              "outlinewidth": 0,
              "ticks": ""
             }
            },
            "type": "scatter3d"
           }
          ],
          "scattercarpet": [
           {
            "marker": {
             "colorbar": {
              "outlinewidth": 0,
              "ticks": ""
             }
            },
            "type": "scattercarpet"
           }
          ],
          "scattergeo": [
           {
            "marker": {
             "colorbar": {
              "outlinewidth": 0,
              "ticks": ""
             }
            },
            "type": "scattergeo"
           }
          ],
          "scattergl": [
           {
            "marker": {
             "colorbar": {
              "outlinewidth": 0,
              "ticks": ""
             }
            },
            "type": "scattergl"
           }
          ],
          "scattermapbox": [
           {
            "marker": {
             "colorbar": {
              "outlinewidth": 0,
              "ticks": ""
             }
            },
            "type": "scattermapbox"
           }
          ],
          "scatterpolar": [
           {
            "marker": {
             "colorbar": {
              "outlinewidth": 0,
              "ticks": ""
             }
            },
            "type": "scatterpolar"
           }
          ],
          "scatterpolargl": [
           {
            "marker": {
             "colorbar": {
              "outlinewidth": 0,
              "ticks": ""
             }
            },
            "type": "scatterpolargl"
           }
          ],
          "scatterternary": [
           {
            "marker": {
             "colorbar": {
              "outlinewidth": 0,
              "ticks": ""
             }
            },
            "type": "scatterternary"
           }
          ],
          "surface": [
           {
            "colorbar": {
             "outlinewidth": 0,
             "ticks": ""
            },
            "colorscale": [
             [
              0,
              "#0d0887"
             ],
             [
              0.1111111111111111,
              "#46039f"
             ],
             [
              0.2222222222222222,
              "#7201a8"
             ],
             [
              0.3333333333333333,
              "#9c179e"
             ],
             [
              0.4444444444444444,
              "#bd3786"
             ],
             [
              0.5555555555555556,
              "#d8576b"
             ],
             [
              0.6666666666666666,
              "#ed7953"
             ],
             [
              0.7777777777777778,
              "#fb9f3a"
             ],
             [
              0.8888888888888888,
              "#fdca26"
             ],
             [
              1,
              "#f0f921"
             ]
            ],
            "type": "surface"
           }
          ],
          "table": [
           {
            "cells": {
             "fill": {
              "color": "#EBF0F8"
             },
             "line": {
              "color": "white"
             }
            },
            "header": {
             "fill": {
              "color": "#C8D4E3"
             },
             "line": {
              "color": "white"
             }
            },
            "type": "table"
           }
          ]
         },
         "layout": {
          "annotationdefaults": {
           "arrowcolor": "#2a3f5f",
           "arrowhead": 0,
           "arrowwidth": 1
          },
          "autotypenumbers": "strict",
          "coloraxis": {
           "colorbar": {
            "outlinewidth": 0,
            "ticks": ""
           }
          },
          "colorscale": {
           "diverging": [
            [
             0,
             "#8e0152"
            ],
            [
             0.1,
             "#c51b7d"
            ],
            [
             0.2,
             "#de77ae"
            ],
            [
             0.3,
             "#f1b6da"
            ],
            [
             0.4,
             "#fde0ef"
            ],
            [
             0.5,
             "#f7f7f7"
            ],
            [
             0.6,
             "#e6f5d0"
            ],
            [
             0.7,
             "#b8e186"
            ],
            [
             0.8,
             "#7fbc41"
            ],
            [
             0.9,
             "#4d9221"
            ],
            [
             1,
             "#276419"
            ]
           ],
           "sequential": [
            [
             0,
             "#0d0887"
            ],
            [
             0.1111111111111111,
             "#46039f"
            ],
            [
             0.2222222222222222,
             "#7201a8"
            ],
            [
             0.3333333333333333,
             "#9c179e"
            ],
            [
             0.4444444444444444,
             "#bd3786"
            ],
            [
             0.5555555555555556,
             "#d8576b"
            ],
            [
             0.6666666666666666,
             "#ed7953"
            ],
            [
             0.7777777777777778,
             "#fb9f3a"
            ],
            [
             0.8888888888888888,
             "#fdca26"
            ],
            [
             1,
             "#f0f921"
            ]
           ],
           "sequentialminus": [
            [
             0,
             "#0d0887"
            ],
            [
             0.1111111111111111,
             "#46039f"
            ],
            [
             0.2222222222222222,
             "#7201a8"
            ],
            [
             0.3333333333333333,
             "#9c179e"
            ],
            [
             0.4444444444444444,
             "#bd3786"
            ],
            [
             0.5555555555555556,
             "#d8576b"
            ],
            [
             0.6666666666666666,
             "#ed7953"
            ],
            [
             0.7777777777777778,
             "#fb9f3a"
            ],
            [
             0.8888888888888888,
             "#fdca26"
            ],
            [
             1,
             "#f0f921"
            ]
           ]
          },
          "colorway": [
           "#636efa",
           "#EF553B",
           "#00cc96",
           "#ab63fa",
           "#FFA15A",
           "#19d3f3",
           "#FF6692",
           "#B6E880",
           "#FF97FF",
           "#FECB52"
          ],
          "font": {
           "color": "#2a3f5f"
          },
          "geo": {
           "bgcolor": "white",
           "lakecolor": "white",
           "landcolor": "#E5ECF6",
           "showlakes": true,
           "showland": true,
           "subunitcolor": "white"
          },
          "hoverlabel": {
           "align": "left"
          },
          "hovermode": "closest",
          "mapbox": {
           "style": "light"
          },
          "paper_bgcolor": "white",
          "plot_bgcolor": "#E5ECF6",
          "polar": {
           "angularaxis": {
            "gridcolor": "white",
            "linecolor": "white",
            "ticks": ""
           },
           "bgcolor": "#E5ECF6",
           "radialaxis": {
            "gridcolor": "white",
            "linecolor": "white",
            "ticks": ""
           }
          },
          "scene": {
           "xaxis": {
            "backgroundcolor": "#E5ECF6",
            "gridcolor": "white",
            "gridwidth": 2,
            "linecolor": "white",
            "showbackground": true,
            "ticks": "",
            "zerolinecolor": "white"
           },
           "yaxis": {
            "backgroundcolor": "#E5ECF6",
            "gridcolor": "white",
            "gridwidth": 2,
            "linecolor": "white",
            "showbackground": true,
            "ticks": "",
            "zerolinecolor": "white"
           },
           "zaxis": {
            "backgroundcolor": "#E5ECF6",
            "gridcolor": "white",
            "gridwidth": 2,
            "linecolor": "white",
            "showbackground": true,
            "ticks": "",
            "zerolinecolor": "white"
           }
          },
          "shapedefaults": {
           "line": {
            "color": "#2a3f5f"
           }
          },
          "ternary": {
           "aaxis": {
            "gridcolor": "white",
            "linecolor": "white",
            "ticks": ""
           },
           "baxis": {
            "gridcolor": "white",
            "linecolor": "white",
            "ticks": ""
           },
           "bgcolor": "#E5ECF6",
           "caxis": {
            "gridcolor": "white",
            "linecolor": "white",
            "ticks": ""
           }
          },
          "title": {
           "x": 0.05
          },
          "xaxis": {
           "automargin": true,
           "gridcolor": "white",
           "linecolor": "white",
           "ticks": "",
           "title": {
            "standoff": 15
           },
           "zerolinecolor": "white",
           "zerolinewidth": 2
          },
          "yaxis": {
           "automargin": true,
           "gridcolor": "white",
           "linecolor": "white",
           "ticks": "",
           "title": {
            "standoff": 15
           },
           "zerolinecolor": "white",
           "zerolinewidth": 2
          }
         }
        },
        "title": {
         "text": "Verteilung der Rennen auf der Erde pro Dekade",
         "x": 0.5,
         "y": 0.95
        },
        "width": 1200
       }
      }
     },
     "metadata": {},
     "output_type": "display_data"
    }
   ],
   "source": [
    "# Funktion zum Erstellen der Karte für eine gegebene Dekade\n",
    "def create_map(decade):\n",
    "    filtered_df = df_winners_map_grouped[df_winners_map_grouped['Decade'] == decade]\n",
    "    fig = px.scatter_mapbox(filtered_df, lat=\"Latitude\", lon=\"Longitude\", hover_name=\"Country\", size=\"Races\",\n",
    "                            color=\"Races\", color_continuous_scale=px.colors.cyclical.IceFire, size_max=15, zoom=1, hover_data={'Races':True, 'Latitude':False, 'Longitude':False}, title=\"Verteilung der Rennen auf der Erde pro Dekade\")\n",
    "    \n",
    "    fig.update_layout(mapbox_style=\"open-street-map\")\n",
    "    fig.update_layout(margin={\"r\":0,\"t\":0,\"l\":0,\"b\":0}, coloraxis_colorbar=dict(title=\"Races\"))\n",
    "    return fig\n",
    "\n",
    "# Erstellen der initialen Daten für jede Dekade\n",
    "maps = {decade: create_map(decade) for decade in df_winners_map_grouped['Decade'].unique()}\n",
    "\n",
    "# Erstellen des initialen Diagramms\n",
    "initial_decade = 1950\n",
    "fig = maps[initial_decade]\n",
    "\n",
    "# Slider hinzufügen\n",
    "steps = []\n",
    "for decade in sorted(df_winners_map_grouped['Decade'].unique()):\n",
    "    step = dict(\n",
    "        method=\"animate\",\n",
    "        args=[[decade], dict(mode=\"immediate\", frame=dict(duration=300, redraw=True), transition=dict(duration=0))],\n",
    "        label=str(decade),\n",
    "    )\n",
    "    steps.append(step)\n",
    "\n",
    "sliders = [dict(\n",
    "    active=0,\n",
    "    currentvalue={\"prefix\": \"Decade: \"},\n",
    "    pad={\"t\": 50},\n",
    "    steps=steps,\n",
    "    \n",
    "    x=0.04,  # Positionierung nach rechts verschieben\n",
    "    y=-0.1  # Positionierung nach oben verschieben\n",
    ")]\n",
    "\n",
    "# Frames erstellen\n",
    "frames = [go.Frame(data=maps[decade].data, name=str(decade)) for decade in df_winners_map_grouped['Decade'].unique()]\n",
    "\n",
    "fig.update(frames=frames)\n",
    "fig.update_layout(\n",
    "    sliders=sliders,\n",
    "    height=800,  # Höhe des Diagramms erhöhen\n",
    "    width=1200,    # Breite des Diagramms reduzieren\n",
    "    dragmode=False,  # Scrollen deaktivieren\n",
    "    title_x=0.5,\n",
    "    title_y=0.95,\n",
    "    margin={\"t\": 100, \"b\": 200}  # Platz hinzufügen oben und unten\n",
    ")\n",
    "\n",
    "# Save the Plotly plot as an HTML file\n",
    "plotly_file_path = 'plotly_races_per_decade.html'\n",
    "plotly.offline.plot(fig, filename=plotly_file_path, auto_open=False)\n",
    "\n",
    "# Anzeige\n",
    "fig.show()"
   ]
  },
  {
   "cell_type": "code",
   "execution_count": 18,
   "metadata": {},
   "outputs": [
    {
     "name": "stderr",
     "output_type": "stream",
     "text": [
      "/Library/Frameworks/Python.framework/Versions/3.10/lib/python3.10/site-packages/plotly/express/_core.py:1988: FutureWarning:\n",
      "\n",
      "When grouping with a length-1 list-like, you will need to pass a length-1 tuple to get_group in a future version of pandas. Pass `(name,)` instead of `name` to silence this warning.\n",
      "\n",
      "/Library/Frameworks/Python.framework/Versions/3.10/lib/python3.10/site-packages/plotly/express/_core.py:1988: FutureWarning:\n",
      "\n",
      "When grouping with a length-1 list-like, you will need to pass a length-1 tuple to get_group in a future version of pandas. Pass `(name,)` instead of `name` to silence this warning.\n",
      "\n",
      "/Library/Frameworks/Python.framework/Versions/3.10/lib/python3.10/site-packages/plotly/express/_core.py:1988: FutureWarning:\n",
      "\n",
      "When grouping with a length-1 list-like, you will need to pass a length-1 tuple to get_group in a future version of pandas. Pass `(name,)` instead of `name` to silence this warning.\n",
      "\n",
      "/Library/Frameworks/Python.framework/Versions/3.10/lib/python3.10/site-packages/plotly/express/_core.py:1988: FutureWarning:\n",
      "\n",
      "When grouping with a length-1 list-like, you will need to pass a length-1 tuple to get_group in a future version of pandas. Pass `(name,)` instead of `name` to silence this warning.\n",
      "\n",
      "/Library/Frameworks/Python.framework/Versions/3.10/lib/python3.10/site-packages/plotly/express/_core.py:1988: FutureWarning:\n",
      "\n",
      "When grouping with a length-1 list-like, you will need to pass a length-1 tuple to get_group in a future version of pandas. Pass `(name,)` instead of `name` to silence this warning.\n",
      "\n",
      "/Library/Frameworks/Python.framework/Versions/3.10/lib/python3.10/site-packages/plotly/express/_core.py:1988: FutureWarning:\n",
      "\n",
      "When grouping with a length-1 list-like, you will need to pass a length-1 tuple to get_group in a future version of pandas. Pass `(name,)` instead of `name` to silence this warning.\n",
      "\n",
      "/Library/Frameworks/Python.framework/Versions/3.10/lib/python3.10/site-packages/plotly/express/_core.py:1988: FutureWarning:\n",
      "\n",
      "When grouping with a length-1 list-like, you will need to pass a length-1 tuple to get_group in a future version of pandas. Pass `(name,)` instead of `name` to silence this warning.\n",
      "\n"
     ]
    },
    {
     "data": {
      "application/vnd.plotly.v1+json": {
       "config": {
        "plotlyServerURL": "https://plot.ly"
       },
       "data": [
        {
         "customdata": [
          [
           7,
           -38.4161,
           -63.6167
          ],
          [
           8,
           50.5039,
           4.4699
          ],
          [
           10,
           46.6034,
           1.8883
          ],
          [
           8,
           51.1657,
           10.4515
          ],
          [
           11,
           41.8719,
           12.5674
          ],
          [
           6,
           43.7384,
           7.4246
          ],
          [
           1,
           31.7917,
           -7.0926
          ],
          [
           5,
           52.1326,
           5.2913
          ],
          [
           2,
           39.3999,
           -8.2245
          ],
          [
           2,
           40.4637,
           -3.7492
          ],
          [
           5,
           46.8182,
           8.2275
          ],
          [
           11,
           55.3781,
           -3.436
          ],
          [
           11,
           37.0902,
           -95.7129
          ]
         ],
         "hovertemplate": "<b>%{hovertext}</b><br><br>Races=%{marker.color}<extra></extra>",
         "hovertext": [
          "Argentina",
          "Belgium",
          "France",
          "Germany",
          "Italy",
          "Monaco",
          "Morocco",
          "Netherlands",
          "Portugal",
          "Spain",
          "Switzerland",
          "United Kingdom",
          "United States"
         ],
         "lat": [
          -38.4161,
          50.5039,
          46.6034,
          51.1657,
          41.8719,
          43.7384,
          31.7917,
          52.1326,
          39.3999,
          40.4637,
          46.8182,
          55.3781,
          37.0902
         ],
         "legendgroup": "",
         "lon": [
          -63.6167,
          4.4699,
          1.8883,
          10.4515,
          12.5674,
          7.4246,
          -7.0926,
          5.2913,
          -8.2245,
          -3.7492,
          8.2275,
          -3.436,
          -95.7129
         ],
         "marker": {
          "color": [
           7,
           8,
           10,
           8,
           11,
           6,
           1,
           5,
           2,
           2,
           5,
           11,
           11
          ],
          "coloraxis": "coloraxis",
          "size": [
           7,
           8,
           10,
           8,
           11,
           6,
           1,
           5,
           2,
           2,
           5,
           11,
           11
          ],
          "sizemode": "area",
          "sizeref": 0.04888888888888889
         },
         "mode": "markers",
         "name": "",
         "showlegend": false,
         "subplot": "mapbox",
         "type": "scattermapbox"
        }
       ],
       "frames": [
        {
         "data": [
          {
           "customdata": [
            [
             7,
             -38.4161,
             -63.6167
            ],
            [
             8,
             50.5039,
             4.4699
            ],
            [
             10,
             46.6034,
             1.8883
            ],
            [
             8,
             51.1657,
             10.4515
            ],
            [
             11,
             41.8719,
             12.5674
            ],
            [
             6,
             43.7384,
             7.4246
            ],
            [
             1,
             31.7917,
             -7.0926
            ],
            [
             5,
             52.1326,
             5.2913
            ],
            [
             2,
             39.3999,
             -8.2245
            ],
            [
             2,
             40.4637,
             -3.7492
            ],
            [
             5,
             46.8182,
             8.2275
            ],
            [
             11,
             55.3781,
             -3.436
            ],
            [
             11,
             37.0902,
             -95.7129
            ]
           ],
           "hovertemplate": "<b>%{hovertext}</b><br><br>Races=%{marker.color}<extra></extra>",
           "hovertext": [
            "Argentina",
            "Belgium",
            "France",
            "Germany",
            "Italy",
            "Monaco",
            "Morocco",
            "Netherlands",
            "Portugal",
            "Spain",
            "Switzerland",
            "United Kingdom",
            "United States"
           ],
           "lat": [
            -38.4161,
            50.5039,
            46.6034,
            51.1657,
            41.8719,
            43.7384,
            31.7917,
            52.1326,
            39.3999,
            40.4637,
            46.8182,
            55.3781,
            37.0902
           ],
           "legendgroup": "",
           "lon": [
            -63.6167,
            4.4699,
            1.8883,
            10.4515,
            12.5674,
            7.4246,
            -7.0926,
            5.2913,
            -8.2245,
            -3.7492,
            8.2275,
            -3.436,
            -95.7129
           ],
           "marker": {
            "color": [
             7,
             8,
             10,
             8,
             11,
             6,
             1,
             5,
             2,
             2,
             5,
             11,
             11
            ],
            "coloraxis": "coloraxis",
            "size": [
             7,
             8,
             10,
             8,
             11,
             6,
             1,
             5,
             2,
             2,
             5,
             11,
             11
            ],
            "sizemode": "area",
            "sizeref": 0.04888888888888889
           },
           "mode": "markers",
           "name": "",
           "showlegend": false,
           "subplot": "mapbox",
           "type": "scattermapbox"
          }
         ],
         "name": "1950"
        },
        {
         "data": [
          {
           "customdata": [
            [
             1,
             -38.4161,
             -63.6167
            ],
            [
             1,
             47.5162,
             14.5501
            ],
            [
             9,
             50.5039,
             4.4699
            ],
            [
             3,
             56.1304,
             -106.3468
            ],
            [
             10,
             46.6034,
             1.8883
            ],
            [
             9,
             51.1657,
             10.4515
            ],
            [
             10,
             41.8719,
             12.5674
            ],
            [
             7,
             23.6345,
             -102.5528
            ],
            [
             10,
             43.7384,
             7.4246
            ],
            [
             10,
             52.1326,
             5.2913
            ],
            [
             1,
             39.3999,
             -8.2245
            ],
            [
             6,
             -30.5595,
             22.9375
            ],
            [
             2,
             40.4637,
             -3.7492
            ],
            [
             10,
             55.3781,
             -3.436
            ],
            [
             11,
             37.0902,
             -95.7129
            ]
           ],
           "hovertemplate": "<b>%{hovertext}</b><br><br>Races=%{marker.color}<extra></extra>",
           "hovertext": [
            "Argentina",
            "Austria",
            "Belgium",
            "Canada",
            "France",
            "Germany",
            "Italy",
            "Mexico",
            "Monaco",
            "Netherlands",
            "Portugal",
            "South Africa",
            "Spain",
            "United Kingdom",
            "United States"
           ],
           "lat": [
            -38.4161,
            47.5162,
            50.5039,
            56.1304,
            46.6034,
            51.1657,
            41.8719,
            23.6345,
            43.7384,
            52.1326,
            39.3999,
            -30.5595,
            40.4637,
            55.3781,
            37.0902
           ],
           "legendgroup": "",
           "lon": [
            -63.6167,
            14.5501,
            4.4699,
            -106.3468,
            1.8883,
            10.4515,
            12.5674,
            -102.5528,
            7.4246,
            5.2913,
            -8.2245,
            22.9375,
            -3.7492,
            -3.436,
            -95.7129
           ],
           "marker": {
            "color": [
             1,
             1,
             9,
             3,
             10,
             9,
             10,
             7,
             10,
             10,
             1,
             6,
             2,
             10,
             11
            ],
            "coloraxis": "coloraxis",
            "size": [
             1,
             1,
             9,
             3,
             10,
             9,
             10,
             7,
             10,
             10,
             1,
             6,
             2,
             10,
             11
            ],
            "sizemode": "area",
            "sizeref": 0.04888888888888889
           },
           "mode": "markers",
           "name": "",
           "showlegend": false,
           "subplot": "mapbox",
           "type": "scattermapbox"
          }
         ],
         "name": "1960"
        },
        {
         "data": [
          {
           "customdata": [
            [
             7,
             -38.4161,
             -63.6167
            ],
            [
             10,
             47.5162,
             14.5501
            ],
            [
             9,
             50.5039,
             4.4699
            ],
            [
             7,
             -14.235,
             -51.9253
            ],
            [
             9,
             56.1304,
             -106.3468
            ],
            [
             10,
             46.6034,
             1.8883
            ],
            [
             10,
             51.1657,
             10.4515
            ],
            [
             10,
             41.8719,
             12.5674
            ],
            [
             2,
             36.2048,
             138.2529
            ],
            [
             1,
             23.6345,
             -102.5528
            ],
            [
             10,
             43.7384,
             7.4246
            ],
            [
             9,
             52.1326,
             5.2913
            ],
            [
             10,
             -30.5595,
             22.9375
            ],
            [
             10,
             40.4637,
             -3.7492
            ],
            [
             6,
             60.1282,
             18.6435
            ],
            [
             10,
             55.3781,
             -3.436
            ],
            [
             14,
             37.0902,
             -95.7129
            ]
           ],
           "hovertemplate": "<b>%{hovertext}</b><br><br>Races=%{marker.color}<extra></extra>",
           "hovertext": [
            "Argentina",
            "Austria",
            "Belgium",
            "Brazil",
            "Canada",
            "France",
            "Germany",
            "Italy",
            "Japan",
            "Mexico",
            "Monaco",
            "Netherlands",
            "South Africa",
            "Spain",
            "Sweden",
            "United Kingdom",
            "United States"
           ],
           "lat": [
            -38.4161,
            47.5162,
            50.5039,
            -14.235,
            56.1304,
            46.6034,
            51.1657,
            41.8719,
            36.2048,
            23.6345,
            43.7384,
            52.1326,
            -30.5595,
            40.4637,
            60.1282,
            55.3781,
            37.0902
           ],
           "legendgroup": "",
           "lon": [
            -63.6167,
            14.5501,
            4.4699,
            -51.9253,
            -106.3468,
            1.8883,
            10.4515,
            12.5674,
            138.2529,
            -102.5528,
            7.4246,
            5.2913,
            22.9375,
            -3.7492,
            18.6435,
            -3.436,
            -95.7129
           ],
           "marker": {
            "color": [
             7,
             10,
             9,
             7,
             9,
             10,
             10,
             10,
             2,
             1,
             10,
             9,
             10,
             10,
             6,
             10,
             14
            ],
            "coloraxis": "coloraxis",
            "size": [
             7,
             10,
             9,
             7,
             9,
             10,
             10,
             10,
             2,
             1,
             10,
             9,
             10,
             10,
             6,
             10,
             14
            ],
            "sizemode": "area",
            "sizeref": 0.06222222222222222
           },
           "mode": "markers",
           "name": "",
           "showlegend": false,
           "subplot": "mapbox",
           "type": "scattermapbox"
          }
         ],
         "name": "1970"
        },
        {
         "data": [
          {
           "customdata": [
            [
             2,
             -38.4161,
             -63.6167
            ],
            [
             5,
             -25.2744,
             133.7751
            ],
            [
             8,
             47.5162,
             14.5501
            ],
            [
             10,
             50.5039,
             4.4699
            ],
            [
             10,
             -14.235,
             -51.9253
            ],
            [
             9,
             56.1304,
             -106.3468
            ],
            [
             10,
             46.6034,
             1.8883
            ],
            [
             10,
             51.1657,
             10.4515
            ],
            [
             4,
             47.1625,
             19.5033
            ],
            [
             19,
             41.8719,
             12.5674
            ],
            [
             3,
             36.2048,
             138.2529
            ],
            [
             4,
             23.6345,
             -102.5528
            ],
            [
             10,
             43.7384,
             7.4246
            ],
            [
             6,
             52.1326,
             5.2913
            ],
            [
             6,
             39.3999,
             -8.2245
            ],
            [
             5,
             -30.5595,
             22.9375
            ],
            [
             5,
             40.4637,
             -3.7492
            ],
            [
             1,
             46.8182,
             8.2275
            ],
            [
             10,
             55.3781,
             -3.436
            ],
            [
             16,
             37.0902,
             -95.7129
            ],
            [
             3,
             0,
             0
            ]
           ],
           "hovertemplate": "<b>%{hovertext}</b><br><br>Races=%{marker.color}<extra></extra>",
           "hovertext": [
            "Argentina",
            "Australia",
            "Austria",
            "Belgium",
            "Brazil",
            "Canada",
            "France",
            "Germany",
            "Hungary",
            "Italy",
            "Japan",
            "Mexico",
            "Monaco",
            "Netherlands",
            "Portugal",
            "South Africa",
            "Spain",
            "Switzerland",
            "United Kingdom",
            "United States",
            "Varies"
           ],
           "lat": [
            -38.4161,
            -25.2744,
            47.5162,
            50.5039,
            -14.235,
            56.1304,
            46.6034,
            51.1657,
            47.1625,
            41.8719,
            36.2048,
            23.6345,
            43.7384,
            52.1326,
            39.3999,
            -30.5595,
            40.4637,
            46.8182,
            55.3781,
            37.0902,
            0
           ],
           "legendgroup": "",
           "lon": [
            -63.6167,
            133.7751,
            14.5501,
            4.4699,
            -51.9253,
            -106.3468,
            1.8883,
            10.4515,
            19.5033,
            12.5674,
            138.2529,
            -102.5528,
            7.4246,
            5.2913,
            -8.2245,
            22.9375,
            -3.7492,
            8.2275,
            -3.436,
            -95.7129,
            0
           ],
           "marker": {
            "color": [
             2,
             5,
             8,
             10,
             10,
             9,
             10,
             10,
             4,
             19,
             3,
             4,
             10,
             6,
             6,
             5,
             5,
             1,
             10,
             16,
             3
            ],
            "coloraxis": "coloraxis",
            "size": [
             2,
             5,
             8,
             10,
             10,
             9,
             10,
             10,
             4,
             19,
             3,
             4,
             10,
             6,
             6,
             5,
             5,
             1,
             10,
             16,
             3
            ],
            "sizemode": "area",
            "sizeref": 0.08444444444444445
           },
           "mode": "markers",
           "name": "",
           "showlegend": false,
           "subplot": "mapbox",
           "type": "scattermapbox"
          }
         ],
         "name": "1980"
        },
        {
         "data": [
          {
           "customdata": [
            [
             4,
             -38.4161,
             -63.6167
            ],
            [
             10,
             -25.2744,
             133.7751
            ],
            [
             3,
             47.5162,
             14.5501
            ],
            [
             10,
             50.5039,
             4.4699
            ],
            [
             10,
             -14.235,
             -51.9253
            ],
            [
             10,
             56.1304,
             -106.3468
            ],
            [
             10,
             46.6034,
             1.8883
            ],
            [
             10,
             51.1657,
             10.4515
            ],
            [
             10,
             47.1625,
             19.5033
            ],
            [
             20,
             41.8719,
             12.5674
            ],
            [
             12,
             36.2048,
             138.2529
            ],
            [
             2,
             49.8153,
             6.1296
            ],
            [
             1,
             4.2105,
             101.9758
            ],
            [
             3,
             23.6345,
             -102.5528
            ],
            [
             10,
             43.7384,
             7.4246
            ],
            [
             7,
             39.3999,
             -8.2245
            ],
            [
             2,
             -30.5595,
             22.9375
            ],
            [
             10,
             40.4637,
             -3.7492
            ],
            [
             10,
             55.3781,
             -3.436
            ],
            [
             2,
             37.0902,
             -95.7129
            ],
            [
             6,
             0,
             0
            ]
           ],
           "hovertemplate": "<b>%{hovertext}</b><br><br>Races=%{marker.color}<extra></extra>",
           "hovertext": [
            "Argentina",
            "Australia",
            "Austria",
            "Belgium",
            "Brazil",
            "Canada",
            "France",
            "Germany",
            "Hungary",
            "Italy",
            "Japan",
            "Luxembourg",
            "Malaysia",
            "Mexico",
            "Monaco",
            "Portugal",
            "South Africa",
            "Spain",
            "United Kingdom",
            "United States",
            "Varies"
           ],
           "lat": [
            -38.4161,
            -25.2744,
            47.5162,
            50.5039,
            -14.235,
            56.1304,
            46.6034,
            51.1657,
            47.1625,
            41.8719,
            36.2048,
            49.8153,
            4.2105,
            23.6345,
            43.7384,
            39.3999,
            -30.5595,
            40.4637,
            55.3781,
            37.0902,
            0
           ],
           "legendgroup": "",
           "lon": [
            -63.6167,
            133.7751,
            14.5501,
            4.4699,
            -51.9253,
            -106.3468,
            1.8883,
            10.4515,
            19.5033,
            12.5674,
            138.2529,
            6.1296,
            101.9758,
            -102.5528,
            7.4246,
            -8.2245,
            22.9375,
            -3.7492,
            -3.436,
            -95.7129,
            0
           ],
           "marker": {
            "color": [
             4,
             10,
             3,
             10,
             10,
             10,
             10,
             10,
             10,
             20,
             12,
             2,
             1,
             3,
             10,
             7,
             2,
             10,
             10,
             2,
             6
            ],
            "coloraxis": "coloraxis",
            "size": [
             4,
             10,
             3,
             10,
             10,
             10,
             10,
             10,
             10,
             20,
             12,
             2,
             1,
             3,
             10,
             7,
             2,
             10,
             10,
             2,
             6
            ],
            "sizemode": "area",
            "sizeref": 0.08888888888888889
           },
           "mode": "markers",
           "name": "",
           "showlegend": false,
           "subplot": "mapbox",
           "type": "scattermapbox"
          }
         ],
         "name": "1990"
        },
        {
         "data": [
          {
           "customdata": [
            [
             10,
             -25.2744,
             133.7751
            ],
            [
             4,
             47.5162,
             14.5501
            ],
            [
             6,
             26.0667,
             50.5577
            ],
            [
             8,
             50.5039,
             4.4699
            ],
            [
             10,
             -14.235,
             -51.9253
            ],
            [
             9,
             56.1304,
             -106.3468
            ],
            [
             6,
             35.8617,
             104.1954
            ],
            [
             9,
             46.6034,
             1.8883
            ],
            [
             9,
             51.1657,
             10.4515
            ],
            [
             10,
             47.1625,
             19.5033
            ],
            [
             17,
             41.8719,
             12.5674
            ],
            [
             10,
             36.2048,
             138.2529
            ],
            [
             10,
             4.2105,
             101.9758
            ],
            [
             10,
             43.7384,
             7.4246
            ],
            [
             2,
             1.3521,
             103.8198
            ],
            [
             10,
             40.4637,
             -3.7492
            ],
            [
             5,
             38.9637,
             35.2433
            ],
            [
             1,
             23.4241,
             53.8478
            ],
            [
             10,
             55.3781,
             -3.436
            ],
            [
             8,
             37.0902,
             -95.7129
            ],
            [
             10,
             0,
             0
            ]
           ],
           "hovertemplate": "<b>%{hovertext}</b><br><br>Races=%{marker.color}<extra></extra>",
           "hovertext": [
            "Australia",
            "Austria",
            "Bahrain",
            "Belgium",
            "Brazil",
            "Canada",
            "China",
            "France",
            "Germany",
            "Hungary",
            "Italy",
            "Japan",
            "Malaysia",
            "Monaco",
            "Singapore",
            "Spain",
            "Turkey",
            "United Arab Emirates",
            "United Kingdom",
            "United States",
            "Varies"
           ],
           "lat": [
            -25.2744,
            47.5162,
            26.0667,
            50.5039,
            -14.235,
            56.1304,
            35.8617,
            46.6034,
            51.1657,
            47.1625,
            41.8719,
            36.2048,
            4.2105,
            43.7384,
            1.3521,
            40.4637,
            38.9637,
            23.4241,
            55.3781,
            37.0902,
            0
           ],
           "legendgroup": "",
           "lon": [
            133.7751,
            14.5501,
            50.5577,
            4.4699,
            -51.9253,
            -106.3468,
            104.1954,
            1.8883,
            10.4515,
            19.5033,
            12.5674,
            138.2529,
            101.9758,
            7.4246,
            103.8198,
            -3.7492,
            35.2433,
            53.8478,
            -3.436,
            -95.7129,
            0
           ],
           "marker": {
            "color": [
             10,
             4,
             6,
             8,
             10,
             9,
             6,
             9,
             9,
             10,
             17,
             10,
             10,
             10,
             2,
             10,
             5,
             1,
             10,
             8,
             10
            ],
            "coloraxis": "coloraxis",
            "size": [
             10,
             4,
             6,
             8,
             10,
             9,
             6,
             9,
             9,
             10,
             17,
             10,
             10,
             10,
             2,
             10,
             5,
             1,
             10,
             8,
             10
            ],
            "sizemode": "area",
            "sizeref": 0.07555555555555556
           },
           "mode": "markers",
           "name": "",
           "showlegend": false,
           "subplot": "mapbox",
           "type": "scattermapbox"
          }
         ],
         "name": "2000"
        },
        {
         "data": [
          {
           "customdata": [
            [
             10,
             -25.2744,
             133.7751
            ],
            [
             6,
             47.5162,
             14.5501
            ],
            [
             3,
             40.1431,
             47.5769
            ],
            [
             9,
             26.0667,
             50.5577
            ],
            [
             10,
             50.5039,
             4.4699
            ],
            [
             10,
             -14.235,
             -51.9253
            ],
            [
             10,
             56.1304,
             -106.3468
            ],
            [
             10,
             35.8617,
             104.1954
            ],
            [
             2,
             46.6034,
             1.8883
            ],
            [
             8,
             51.1657,
             10.4515
            ],
            [
             10,
             47.1625,
             19.5033
            ],
            [
             3,
             20.5937,
             78.9629
            ],
            [
             10,
             41.8719,
             12.5674
            ],
            [
             10,
             36.2048,
             138.2529
            ],
            [
             8,
             4.2105,
             101.9758
            ],
            [
             5,
             23.6345,
             -102.5528
            ],
            [
             10,
             43.7384,
             7.4246
            ],
            [
             6,
             61.524,
             105.3188
            ],
            [
             10,
             1.3521,
             103.8198
            ],
            [
             4,
             35.9078,
             127.7669
            ],
            [
             10,
             40.4637,
             -3.7492
            ],
            [
             2,
             38.9637,
             35.2433
            ],
            [
             10,
             23.4241,
             53.8478
            ],
            [
             10,
             55.3781,
             -3.436
            ],
            [
             8,
             37.0902,
             -95.7129
            ],
            [
             4,
             0,
             0
            ]
           ],
           "hovertemplate": "<b>%{hovertext}</b><br><br>Races=%{marker.color}<extra></extra>",
           "hovertext": [
            "Australia",
            "Austria",
            "Azerbaijan",
            "Bahrain",
            "Belgium",
            "Brazil",
            "Canada",
            "China",
            "France",
            "Germany",
            "Hungary",
            "India",
            "Italy",
            "Japan",
            "Malaysia",
            "Mexico",
            "Monaco",
            "Russia",
            "Singapore",
            "South Korea",
            "Spain",
            "Turkey",
            "United Arab Emirates",
            "United Kingdom",
            "United States",
            "Varies"
           ],
           "lat": [
            -25.2744,
            47.5162,
            40.1431,
            26.0667,
            50.5039,
            -14.235,
            56.1304,
            35.8617,
            46.6034,
            51.1657,
            47.1625,
            20.5937,
            41.8719,
            36.2048,
            4.2105,
            23.6345,
            43.7384,
            61.524,
            1.3521,
            35.9078,
            40.4637,
            38.9637,
            23.4241,
            55.3781,
            37.0902,
            0
           ],
           "legendgroup": "",
           "lon": [
            133.7751,
            14.5501,
            47.5769,
            50.5577,
            4.4699,
            -51.9253,
            -106.3468,
            104.1954,
            1.8883,
            10.4515,
            19.5033,
            78.9629,
            12.5674,
            138.2529,
            101.9758,
            -102.5528,
            7.4246,
            105.3188,
            103.8198,
            127.7669,
            -3.7492,
            35.2433,
            53.8478,
            -3.436,
            -95.7129,
            0
           ],
           "marker": {
            "color": [
             10,
             6,
             3,
             9,
             10,
             10,
             10,
             10,
             2,
             8,
             10,
             3,
             10,
             10,
             8,
             5,
             10,
             6,
             10,
             4,
             10,
             2,
             10,
             10,
             8,
             4
            ],
            "coloraxis": "coloraxis",
            "size": [
             10,
             6,
             3,
             9,
             10,
             10,
             10,
             10,
             2,
             8,
             10,
             3,
             10,
             10,
             8,
             5,
             10,
             6,
             10,
             4,
             10,
             2,
             10,
             10,
             8,
             4
            ],
            "sizemode": "area",
            "sizeref": 0.044444444444444446
           },
           "mode": "markers",
           "name": "",
           "showlegend": false,
           "subplot": "mapbox",
           "type": "scattermapbox"
          }
         ],
         "name": "2010"
        }
       ],
       "layout": {
        "coloraxis": {
         "colorbar": {
          "title": {
           "text": "Races"
          }
         },
         "colorscale": [
          [
           0,
           "#000000"
          ],
          [
           0.0625,
           "#001f4d"
          ],
          [
           0.125,
           "#003786"
          ],
          [
           0.1875,
           "#0e58a8"
          ],
          [
           0.25,
           "#217eb8"
          ],
          [
           0.3125,
           "#30a4ca"
          ],
          [
           0.375,
           "#54c8df"
          ],
          [
           0.4375,
           "#9be4ef"
          ],
          [
           0.5,
           "#e1e9d1"
          ],
          [
           0.5625,
           "#f3d573"
          ],
          [
           0.625,
           "#e7b000"
          ],
          [
           0.6875,
           "#da8200"
          ],
          [
           0.75,
           "#c65400"
          ],
          [
           0.8125,
           "#ac2301"
          ],
          [
           0.875,
           "#820000"
          ],
          [
           0.9375,
           "#4c0000"
          ],
          [
           1,
           "#000000"
          ]
         ]
        },
        "dragmode": false,
        "height": 800,
        "legend": {
         "itemsizing": "constant",
         "tracegroupgap": 0
        },
        "mapbox": {
         "center": {
          "lat": 38.349353846153846,
          "lon": -10.11626153846154
         },
         "domain": {
          "x": [
           0,
           1
          ],
          "y": [
           0,
           1
          ]
         },
         "style": "open-street-map",
         "zoom": 1
        },
        "margin": {
         "b": 200,
         "l": 0,
         "r": 0,
         "t": 100
        },
        "sliders": [
         {
          "active": 0,
          "currentvalue": {
           "prefix": "Decade: "
          },
          "pad": {
           "t": 50
          },
          "steps": [
           {
            "args": [
             [
              "1950"
             ],
             {
              "frame": {
               "duration": 3000,
               "redraw": true
              },
              "mode": "immediate",
              "transition": {
               "duration": 0
              }
             }
            ],
            "label": "1950",
            "method": "animate"
           },
           {
            "args": [
             [
              "1960"
             ],
             {
              "frame": {
               "duration": 3000,
               "redraw": true
              },
              "mode": "immediate",
              "transition": {
               "duration": 0
              }
             }
            ],
            "label": "1960",
            "method": "animate"
           },
           {
            "args": [
             [
              "1970"
             ],
             {
              "frame": {
               "duration": 3000,
               "redraw": true
              },
              "mode": "immediate",
              "transition": {
               "duration": 0
              }
             }
            ],
            "label": "1970",
            "method": "animate"
           },
           {
            "args": [
             [
              "1980"
             ],
             {
              "frame": {
               "duration": 3000,
               "redraw": true
              },
              "mode": "immediate",
              "transition": {
               "duration": 0
              }
             }
            ],
            "label": "1980",
            "method": "animate"
           },
           {
            "args": [
             [
              "1990"
             ],
             {
              "frame": {
               "duration": 3000,
               "redraw": true
              },
              "mode": "immediate",
              "transition": {
               "duration": 0
              }
             }
            ],
            "label": "1990",
            "method": "animate"
           },
           {
            "args": [
             [
              "2000"
             ],
             {
              "frame": {
               "duration": 3000,
               "redraw": true
              },
              "mode": "immediate",
              "transition": {
               "duration": 0
              }
             }
            ],
            "label": "2000",
            "method": "animate"
           },
           {
            "args": [
             [
              "2010"
             ],
             {
              "frame": {
               "duration": 3000,
               "redraw": true
              },
              "mode": "immediate",
              "transition": {
               "duration": 0
              }
             }
            ],
            "label": "2010",
            "method": "animate"
           }
          ],
          "x": 0.04,
          "y": -0.1
         }
        ],
        "template": {
         "data": {
          "bar": [
           {
            "error_x": {
             "color": "#2a3f5f"
            },
            "error_y": {
             "color": "#2a3f5f"
            },
            "marker": {
             "line": {
              "color": "#E5ECF6",
              "width": 0.5
             },
             "pattern": {
              "fillmode": "overlay",
              "size": 10,
              "solidity": 0.2
             }
            },
            "type": "bar"
           }
          ],
          "barpolar": [
           {
            "marker": {
             "line": {
              "color": "#E5ECF6",
              "width": 0.5
             },
             "pattern": {
              "fillmode": "overlay",
              "size": 10,
              "solidity": 0.2
             }
            },
            "type": "barpolar"
           }
          ],
          "carpet": [
           {
            "aaxis": {
             "endlinecolor": "#2a3f5f",
             "gridcolor": "white",
             "linecolor": "white",
             "minorgridcolor": "white",
             "startlinecolor": "#2a3f5f"
            },
            "baxis": {
             "endlinecolor": "#2a3f5f",
             "gridcolor": "white",
             "linecolor": "white",
             "minorgridcolor": "white",
             "startlinecolor": "#2a3f5f"
            },
            "type": "carpet"
           }
          ],
          "choropleth": [
           {
            "colorbar": {
             "outlinewidth": 0,
             "ticks": ""
            },
            "type": "choropleth"
           }
          ],
          "contour": [
           {
            "colorbar": {
             "outlinewidth": 0,
             "ticks": ""
            },
            "colorscale": [
             [
              0,
              "#0d0887"
             ],
             [
              0.1111111111111111,
              "#46039f"
             ],
             [
              0.2222222222222222,
              "#7201a8"
             ],
             [
              0.3333333333333333,
              "#9c179e"
             ],
             [
              0.4444444444444444,
              "#bd3786"
             ],
             [
              0.5555555555555556,
              "#d8576b"
             ],
             [
              0.6666666666666666,
              "#ed7953"
             ],
             [
              0.7777777777777778,
              "#fb9f3a"
             ],
             [
              0.8888888888888888,
              "#fdca26"
             ],
             [
              1,
              "#f0f921"
             ]
            ],
            "type": "contour"
           }
          ],
          "contourcarpet": [
           {
            "colorbar": {
             "outlinewidth": 0,
             "ticks": ""
            },
            "type": "contourcarpet"
           }
          ],
          "heatmap": [
           {
            "colorbar": {
             "outlinewidth": 0,
             "ticks": ""
            },
            "colorscale": [
             [
              0,
              "#0d0887"
             ],
             [
              0.1111111111111111,
              "#46039f"
             ],
             [
              0.2222222222222222,
              "#7201a8"
             ],
             [
              0.3333333333333333,
              "#9c179e"
             ],
             [
              0.4444444444444444,
              "#bd3786"
             ],
             [
              0.5555555555555556,
              "#d8576b"
             ],
             [
              0.6666666666666666,
              "#ed7953"
             ],
             [
              0.7777777777777778,
              "#fb9f3a"
             ],
             [
              0.8888888888888888,
              "#fdca26"
             ],
             [
              1,
              "#f0f921"
             ]
            ],
            "type": "heatmap"
           }
          ],
          "heatmapgl": [
           {
            "colorbar": {
             "outlinewidth": 0,
             "ticks": ""
            },
            "colorscale": [
             [
              0,
              "#0d0887"
             ],
             [
              0.1111111111111111,
              "#46039f"
             ],
             [
              0.2222222222222222,
              "#7201a8"
             ],
             [
              0.3333333333333333,
              "#9c179e"
             ],
             [
              0.4444444444444444,
              "#bd3786"
             ],
             [
              0.5555555555555556,
              "#d8576b"
             ],
             [
              0.6666666666666666,
              "#ed7953"
             ],
             [
              0.7777777777777778,
              "#fb9f3a"
             ],
             [
              0.8888888888888888,
              "#fdca26"
             ],
             [
              1,
              "#f0f921"
             ]
            ],
            "type": "heatmapgl"
           }
          ],
          "histogram": [
           {
            "marker": {
             "pattern": {
              "fillmode": "overlay",
              "size": 10,
              "solidity": 0.2
             }
            },
            "type": "histogram"
           }
          ],
          "histogram2d": [
           {
            "colorbar": {
             "outlinewidth": 0,
             "ticks": ""
            },
            "colorscale": [
             [
              0,
              "#0d0887"
             ],
             [
              0.1111111111111111,
              "#46039f"
             ],
             [
              0.2222222222222222,
              "#7201a8"
             ],
             [
              0.3333333333333333,
              "#9c179e"
             ],
             [
              0.4444444444444444,
              "#bd3786"
             ],
             [
              0.5555555555555556,
              "#d8576b"
             ],
             [
              0.6666666666666666,
              "#ed7953"
             ],
             [
              0.7777777777777778,
              "#fb9f3a"
             ],
             [
              0.8888888888888888,
              "#fdca26"
             ],
             [
              1,
              "#f0f921"
             ]
            ],
            "type": "histogram2d"
           }
          ],
          "histogram2dcontour": [
           {
            "colorbar": {
             "outlinewidth": 0,
             "ticks": ""
            },
            "colorscale": [
             [
              0,
              "#0d0887"
             ],
             [
              0.1111111111111111,
              "#46039f"
             ],
             [
              0.2222222222222222,
              "#7201a8"
             ],
             [
              0.3333333333333333,
              "#9c179e"
             ],
             [
              0.4444444444444444,
              "#bd3786"
             ],
             [
              0.5555555555555556,
              "#d8576b"
             ],
             [
              0.6666666666666666,
              "#ed7953"
             ],
             [
              0.7777777777777778,
              "#fb9f3a"
             ],
             [
              0.8888888888888888,
              "#fdca26"
             ],
             [
              1,
              "#f0f921"
             ]
            ],
            "type": "histogram2dcontour"
           }
          ],
          "mesh3d": [
           {
            "colorbar": {
             "outlinewidth": 0,
             "ticks": ""
            },
            "type": "mesh3d"
           }
          ],
          "parcoords": [
           {
            "line": {
             "colorbar": {
              "outlinewidth": 0,
              "ticks": ""
             }
            },
            "type": "parcoords"
           }
          ],
          "pie": [
           {
            "automargin": true,
            "type": "pie"
           }
          ],
          "scatter": [
           {
            "marker": {
             "colorbar": {
              "outlinewidth": 0,
              "ticks": ""
             }
            },
            "type": "scatter"
           }
          ],
          "scatter3d": [
           {
            "line": {
             "colorbar": {
              "outlinewidth": 0,
              "ticks": ""
             }
            },
            "marker": {
             "colorbar": {
              "outlinewidth": 0,
              "ticks": ""
             }
            },
            "type": "scatter3d"
           }
          ],
          "scattercarpet": [
           {
            "marker": {
             "colorbar": {
              "outlinewidth": 0,
              "ticks": ""
             }
            },
            "type": "scattercarpet"
           }
          ],
          "scattergeo": [
           {
            "marker": {
             "colorbar": {
              "outlinewidth": 0,
              "ticks": ""
             }
            },
            "type": "scattergeo"
           }
          ],
          "scattergl": [
           {
            "marker": {
             "colorbar": {
              "outlinewidth": 0,
              "ticks": ""
             }
            },
            "type": "scattergl"
           }
          ],
          "scattermapbox": [
           {
            "marker": {
             "colorbar": {
              "outlinewidth": 0,
              "ticks": ""
             }
            },
            "type": "scattermapbox"
           }
          ],
          "scatterpolar": [
           {
            "marker": {
             "colorbar": {
              "outlinewidth": 0,
              "ticks": ""
             }
            },
            "type": "scatterpolar"
           }
          ],
          "scatterpolargl": [
           {
            "marker": {
             "colorbar": {
              "outlinewidth": 0,
              "ticks": ""
             }
            },
            "type": "scatterpolargl"
           }
          ],
          "scatterternary": [
           {
            "marker": {
             "colorbar": {
              "outlinewidth": 0,
              "ticks": ""
             }
            },
            "type": "scatterternary"
           }
          ],
          "surface": [
           {
            "colorbar": {
             "outlinewidth": 0,
             "ticks": ""
            },
            "colorscale": [
             [
              0,
              "#0d0887"
             ],
             [
              0.1111111111111111,
              "#46039f"
             ],
             [
              0.2222222222222222,
              "#7201a8"
             ],
             [
              0.3333333333333333,
              "#9c179e"
             ],
             [
              0.4444444444444444,
              "#bd3786"
             ],
             [
              0.5555555555555556,
              "#d8576b"
             ],
             [
              0.6666666666666666,
              "#ed7953"
             ],
             [
              0.7777777777777778,
              "#fb9f3a"
             ],
             [
              0.8888888888888888,
              "#fdca26"
             ],
             [
              1,
              "#f0f921"
             ]
            ],
            "type": "surface"
           }
          ],
          "table": [
           {
            "cells": {
             "fill": {
              "color": "#EBF0F8"
             },
             "line": {
              "color": "white"
             }
            },
            "header": {
             "fill": {
              "color": "#C8D4E3"
             },
             "line": {
              "color": "white"
             }
            },
            "type": "table"
           }
          ]
         },
         "layout": {
          "annotationdefaults": {
           "arrowcolor": "#2a3f5f",
           "arrowhead": 0,
           "arrowwidth": 1
          },
          "autotypenumbers": "strict",
          "coloraxis": {
           "colorbar": {
            "outlinewidth": 0,
            "ticks": ""
           }
          },
          "colorscale": {
           "diverging": [
            [
             0,
             "#8e0152"
            ],
            [
             0.1,
             "#c51b7d"
            ],
            [
             0.2,
             "#de77ae"
            ],
            [
             0.3,
             "#f1b6da"
            ],
            [
             0.4,
             "#fde0ef"
            ],
            [
             0.5,
             "#f7f7f7"
            ],
            [
             0.6,
             "#e6f5d0"
            ],
            [
             0.7,
             "#b8e186"
            ],
            [
             0.8,
             "#7fbc41"
            ],
            [
             0.9,
             "#4d9221"
            ],
            [
             1,
             "#276419"
            ]
           ],
           "sequential": [
            [
             0,
             "#0d0887"
            ],
            [
             0.1111111111111111,
             "#46039f"
            ],
            [
             0.2222222222222222,
             "#7201a8"
            ],
            [
             0.3333333333333333,
             "#9c179e"
            ],
            [
             0.4444444444444444,
             "#bd3786"
            ],
            [
             0.5555555555555556,
             "#d8576b"
            ],
            [
             0.6666666666666666,
             "#ed7953"
            ],
            [
             0.7777777777777778,
             "#fb9f3a"
            ],
            [
             0.8888888888888888,
             "#fdca26"
            ],
            [
             1,
             "#f0f921"
            ]
           ],
           "sequentialminus": [
            [
             0,
             "#0d0887"
            ],
            [
             0.1111111111111111,
             "#46039f"
            ],
            [
             0.2222222222222222,
             "#7201a8"
            ],
            [
             0.3333333333333333,
             "#9c179e"
            ],
            [
             0.4444444444444444,
             "#bd3786"
            ],
            [
             0.5555555555555556,
             "#d8576b"
            ],
            [
             0.6666666666666666,
             "#ed7953"
            ],
            [
             0.7777777777777778,
             "#fb9f3a"
            ],
            [
             0.8888888888888888,
             "#fdca26"
            ],
            [
             1,
             "#f0f921"
            ]
           ]
          },
          "colorway": [
           "#636efa",
           "#EF553B",
           "#00cc96",
           "#ab63fa",
           "#FFA15A",
           "#19d3f3",
           "#FF6692",
           "#B6E880",
           "#FF97FF",
           "#FECB52"
          ],
          "font": {
           "color": "#2a3f5f"
          },
          "geo": {
           "bgcolor": "white",
           "lakecolor": "white",
           "landcolor": "#E5ECF6",
           "showlakes": true,
           "showland": true,
           "subunitcolor": "white"
          },
          "hoverlabel": {
           "align": "left"
          },
          "hovermode": "closest",
          "mapbox": {
           "style": "light"
          },
          "paper_bgcolor": "white",
          "plot_bgcolor": "#E5ECF6",
          "polar": {
           "angularaxis": {
            "gridcolor": "white",
            "linecolor": "white",
            "ticks": ""
           },
           "bgcolor": "#E5ECF6",
           "radialaxis": {
            "gridcolor": "white",
            "linecolor": "white",
            "ticks": ""
           }
          },
          "scene": {
           "xaxis": {
            "backgroundcolor": "#E5ECF6",
            "gridcolor": "white",
            "gridwidth": 2,
            "linecolor": "white",
            "showbackground": true,
            "ticks": "",
            "zerolinecolor": "white"
           },
           "yaxis": {
            "backgroundcolor": "#E5ECF6",
            "gridcolor": "white",
            "gridwidth": 2,
            "linecolor": "white",
            "showbackground": true,
            "ticks": "",
            "zerolinecolor": "white"
           },
           "zaxis": {
            "backgroundcolor": "#E5ECF6",
            "gridcolor": "white",
            "gridwidth": 2,
            "linecolor": "white",
            "showbackground": true,
            "ticks": "",
            "zerolinecolor": "white"
           }
          },
          "shapedefaults": {
           "line": {
            "color": "#2a3f5f"
           }
          },
          "ternary": {
           "aaxis": {
            "gridcolor": "white",
            "linecolor": "white",
            "ticks": ""
           },
           "baxis": {
            "gridcolor": "white",
            "linecolor": "white",
            "ticks": ""
           },
           "bgcolor": "#E5ECF6",
           "caxis": {
            "gridcolor": "white",
            "linecolor": "white",
            "ticks": ""
           }
          },
          "title": {
           "x": 0.05
          },
          "xaxis": {
           "automargin": true,
           "gridcolor": "white",
           "linecolor": "white",
           "ticks": "",
           "title": {
            "standoff": 15
           },
           "zerolinecolor": "white",
           "zerolinewidth": 2
          },
          "yaxis": {
           "automargin": true,
           "gridcolor": "white",
           "linecolor": "white",
           "ticks": "",
           "title": {
            "standoff": 15
           },
           "zerolinecolor": "white",
           "zerolinewidth": 2
          }
         }
        },
        "title": {
         "text": "Verteilung der Rennen auf der Erde pro Dekade",
         "x": 0.5,
         "y": 0.95
        },
        "updatemenus": [
         {
          "buttons": [
           {
            "args": [
             null,
             {
              "frame": {
               "duration": 3000,
               "redraw": true
              },
              "fromcurrent": true,
              "mode": "immediate",
              "transition": {
               "duration": 0
              }
             }
            ],
            "label": "",
            "method": "animate"
           }
          ],
          "showactive": false,
          "type": "buttons"
         }
        ],
        "width": 1200
       }
      }
     },
     "metadata": {},
     "output_type": "display_data"
    }
   ],
   "source": [
    "import plotly.express as px\n",
    "import plotly.graph_objs as go\n",
    "import plotly.offline\n",
    "import time\n",
    "\n",
    "# Function to create the map for a given decade\n",
    "def create_map(decade):\n",
    "    filtered_df = df_winners_map_grouped[df_winners_map_grouped['Decade'] == decade]\n",
    "    fig = px.scatter_mapbox(filtered_df, lat=\"Latitude\", lon=\"Longitude\", hover_name=\"Country\", size=\"Races\",\n",
    "                            color=\"Races\", color_continuous_scale=px.colors.cyclical.IceFire, size_max=15, zoom=1,\n",
    "                            hover_data={'Races': True, 'Latitude': False, 'Longitude': False},\n",
    "                            title=\"Verteilung der Rennen auf der Erde pro Dekade\")\n",
    "    \n",
    "    fig.update_layout(mapbox_style=\"open-street-map\")\n",
    "    fig.update_layout(margin={\"r\": 0, \"t\": 0, \"l\": 0, \"b\": 0}, coloraxis_colorbar=dict(title=\"Races\"))\n",
    "    return fig\n",
    "\n",
    "# Create the initial data for each decade\n",
    "maps = {decade: create_map(decade) for decade in df_winners_map_grouped['Decade'].unique()}\n",
    "\n",
    "# Create the initial plot\n",
    "initial_decade = 1950\n",
    "fig = maps[initial_decade]\n",
    "\n",
    "# Add slider\n",
    "steps = []\n",
    "for decade in sorted(df_winners_map_grouped['Decade'].unique()):\n",
    "    step = dict(\n",
    "        method=\"animate\",\n",
    "        args=[[str(decade)], dict(mode=\"immediate\", frame=dict(duration=3000, redraw=True), transition=dict(duration=0))],\n",
    "        label=str(decade),\n",
    "    )\n",
    "    steps.append(step)\n",
    "\n",
    "sliders = [dict(\n",
    "    active=0,\n",
    "    currentvalue={\"prefix\": \"Decade: \"},\n",
    "    pad={\"t\": 50},\n",
    "    steps=steps,\n",
    "    x=0.04,  # Position to the right\n",
    "    y=-0.1  # Position upwards\n",
    ")]\n",
    "\n",
    "# Create frames\n",
    "frames = [go.Frame(data=maps[decade].data, name=str(decade)) for decade in df_winners_map_grouped['Decade'].unique()]\n",
    "\n",
    "fig.update(frames=frames)\n",
    "fig.update_layout(\n",
    "    sliders=sliders,\n",
    "    height=800,\n",
    "    width=1200,\n",
    "    dragmode=False,\n",
    "    title_x=0.5,\n",
    "    title_y=0.95,\n",
    "    margin={\"t\": 100, \"b\": 200},\n",
    "    updatemenus=[dict(\n",
    "        type=\"buttons\",\n",
    "        showactive=False,\n",
    "        buttons=[dict(label=\"\",\n",
    "                        method=\"animate\",\n",
    "                        args=[None, dict(frame=dict(duration=3000, redraw=True), \n",
    "                                        fromcurrent=True, mode='immediate', transition=dict(duration=0))])]\n",
    "    )]\n",
    ")\n",
    "\n",
    "\n",
    "# Save the Plotly plot as an HTML file\n",
    "plotly_file_path = 'plotly_races_per_decade.html'\n",
    "plotly.offline.plot(fig, filename=plotly_file_path, auto_open=False)\n",
    "\n",
    "# Display\n",
    "fig.show()\n"
   ]
  },
  {
   "cell_type": "code",
   "execution_count": 361,
   "metadata": {},
   "outputs": [
    {
     "data": {
      "image/png": "[encoded data removed]",
      "text/plain": [
       "<Figure size 1000x600 with 1 Axes>"
      ]
     },
     "metadata": {},
     "output_type": "display_data"
    }
   ],
   "source": [
    "df_winners_grouped_races = df_winners_map_grouped.groupby('Decade')[\"Races\"].sum().reset_index()\n",
    "\n",
    "# create a barchart with the decade on the x-axis and the number of Races on the y-axis\n",
    "# use matplotlib to create the plot\n",
    "# Erstellen des Balkendiagramms\n",
    "fig, ax = plt.subplots(figsize=(10, 6))\n",
    "\n",
    "ax.bar(df_winners_grouped_races['Decade'], df_winners_grouped_races['Races'], color='skyblue', width=5)\n",
    "\n",
    "# Achsenbeschriftungen und Titel\n",
    "ax.set_xlabel('Dekade')\n",
    "ax.set_ylabel('Anzahl der Rennen')\n",
    "ax.set_title('Anzahl der Rennen pro Dekade in der Formel 1')\n",
    "\n",
    "\n",
    "# Speichern des Diagramms als HTML-Datei\n",
    "html_anzahl_rennen = mpld3.fig_to_html(fig)\n",
    "with open(\"anzahl_rennen_pro_dekade.html\", \"w\") as file:\n",
    "    file.write(html_anzahl_rennen)\n",
    "\n",
    "# Anzeige des Diagramms\n",
    "plt.show()"
   ]
  },
  {
   "cell_type": "code",
   "execution_count": 362,
   "metadata": {},
   "outputs": [],
   "source": [
    "# Count the amount of wins per Year and add this value to a new column called, Total_wins_per_year\n",
    "df_winners_grouped_car['Total_wins_per_year'] = df_winners_grouped_car.groupby('Year')['Wins'].transform('sum')\n",
    "\n",
    "# create a new column called Dominance in which you divide the amount of wins by the total amount of wins per year\n",
    "df_winners_grouped_car['Dominance'] = df_winners_grouped_car['Wins'] / df_winners_grouped_car['Total_wins_per_year']"
   ]
  },
  {
   "cell_type": "markdown",
   "metadata": {},
   "source": [
    "# Technischer Fortschritt in der Formel 1\n",
    "- Beispielhafte Rennstrecken welche eine lange Historie haben\n",
    "- Wie hat sich die Rundenzeit auf diesen Strecken über die Jahre entwickelt\n",
    "\n",
    "# Visualisiere die Entwicklung der Rundenzeit auf den Rennstrecken"
   ]
  },
  {
   "cell_type": "code",
   "execution_count": 363,
   "metadata": {},
   "outputs": [],
   "source": [
    "df_winners_lap_time = df_winners.copy()\n",
    "\n",
    "# Dekade erstellen\n",
    "df_winners_lap_time['Decade'] = (df_winners_lap_time['Year'] // 10) * 10"
   ]
  },
  {
   "cell_type": "code",
   "execution_count": 364,
   "metadata": {},
   "outputs": [
    {
     "data": {
      "text/html": [
       "<div>\n",
       "<style scoped>\n",
       "    .dataframe tbody tr th:only-of-type {\n",
       "        vertical-align: middle;\n",
       "    }\n",
       "\n",
       "    .dataframe tbody tr th {\n",
       "        vertical-align: top;\n",
       "    }\n",
       "\n",
       "    .dataframe thead th {\n",
       "        text-align: right;\n",
       "    }\n",
       "</style>\n",
       "<table border=\"1\" class=\"dataframe\">\n",
       "  <thead>\n",
       "    <tr style=\"text-align: right;\">\n",
       "      <th></th>\n",
       "      <th>Grand Prix</th>\n",
       "      <th>Date</th>\n",
       "      <th>Winner</th>\n",
       "      <th>Car</th>\n",
       "      <th>Laps</th>\n",
       "      <th>Time</th>\n",
       "      <th>Name Code</th>\n",
       "      <th>Year</th>\n",
       "      <th>Decade</th>\n",
       "    </tr>\n",
       "  </thead>\n",
       "  <tbody>\n",
       "    <tr>\n",
       "      <th>0</th>\n",
       "      <td>Great Britain</td>\n",
       "      <td>1950-05-13</td>\n",
       "      <td>Nino  Farina</td>\n",
       "      <td>Alfa Romeo</td>\n",
       "      <td>70.0</td>\n",
       "      <td>2:13:23.600</td>\n",
       "      <td>FAR</td>\n",
       "      <td>1950</td>\n",
       "      <td>1950</td>\n",
       "    </tr>\n",
       "    <tr>\n",
       "      <th>1</th>\n",
       "      <td>Monaco</td>\n",
       "      <td>1950-05-21</td>\n",
       "      <td>Juan Manuel  Fangio</td>\n",
       "      <td>Alfa Romeo</td>\n",
       "      <td>100.0</td>\n",
       "      <td>3:13:18.700</td>\n",
       "      <td>FAN</td>\n",
       "      <td>1950</td>\n",
       "      <td>1950</td>\n",
       "    </tr>\n",
       "    <tr>\n",
       "      <th>2</th>\n",
       "      <td>Indianapolis 500</td>\n",
       "      <td>1950-05-30</td>\n",
       "      <td>Johnnie Parsons</td>\n",
       "      <td>Kurtis Kraft Offenhauser</td>\n",
       "      <td>138.0</td>\n",
       "      <td>2:46:55.970</td>\n",
       "      <td>PAR</td>\n",
       "      <td>1950</td>\n",
       "      <td>1950</td>\n",
       "    </tr>\n",
       "    <tr>\n",
       "      <th>3</th>\n",
       "      <td>Switzerland</td>\n",
       "      <td>1950-06-04</td>\n",
       "      <td>Nino  Farina</td>\n",
       "      <td>Alfa Romeo</td>\n",
       "      <td>42.0</td>\n",
       "      <td>2:02:53.700</td>\n",
       "      <td>FAR</td>\n",
       "      <td>1950</td>\n",
       "      <td>1950</td>\n",
       "    </tr>\n",
       "    <tr>\n",
       "      <th>4</th>\n",
       "      <td>Belgium</td>\n",
       "      <td>1950-06-18</td>\n",
       "      <td>Juan Manuel  Fangio</td>\n",
       "      <td>Alfa Romeo</td>\n",
       "      <td>35.0</td>\n",
       "      <td>2:47:26.000</td>\n",
       "      <td>FAN</td>\n",
       "      <td>1950</td>\n",
       "      <td>1950</td>\n",
       "    </tr>\n",
       "    <tr>\n",
       "      <th>...</th>\n",
       "      <td>...</td>\n",
       "      <td>...</td>\n",
       "      <td>...</td>\n",
       "      <td>...</td>\n",
       "      <td>...</td>\n",
       "      <td>...</td>\n",
       "      <td>...</td>\n",
       "      <td>...</td>\n",
       "      <td>...</td>\n",
       "    </tr>\n",
       "    <tr>\n",
       "      <th>1016</th>\n",
       "      <td>Japan</td>\n",
       "      <td>2019-10-13</td>\n",
       "      <td>Valtteri  Bottas</td>\n",
       "      <td>Mercedes</td>\n",
       "      <td>52.0</td>\n",
       "      <td>1:21:46.755</td>\n",
       "      <td>BOT</td>\n",
       "      <td>2019</td>\n",
       "      <td>2010</td>\n",
       "    </tr>\n",
       "    <tr>\n",
       "      <th>1017</th>\n",
       "      <td>Mexico</td>\n",
       "      <td>2019-10-27</td>\n",
       "      <td>Lewis  Hamilton</td>\n",
       "      <td>Mercedes</td>\n",
       "      <td>71.0</td>\n",
       "      <td>1:36:48.904</td>\n",
       "      <td>HAM</td>\n",
       "      <td>2019</td>\n",
       "      <td>2010</td>\n",
       "    </tr>\n",
       "    <tr>\n",
       "      <th>1018</th>\n",
       "      <td>United States</td>\n",
       "      <td>2019-11-03</td>\n",
       "      <td>Valtteri  Bottas</td>\n",
       "      <td>Mercedes</td>\n",
       "      <td>56.0</td>\n",
       "      <td>1:33:55.653</td>\n",
       "      <td>BOT</td>\n",
       "      <td>2019</td>\n",
       "      <td>2010</td>\n",
       "    </tr>\n",
       "    <tr>\n",
       "      <th>1019</th>\n",
       "      <td>Brazil</td>\n",
       "      <td>2019-11-17</td>\n",
       "      <td>Max  Verstappen</td>\n",
       "      <td>Red Bull Racing Honda</td>\n",
       "      <td>71.0</td>\n",
       "      <td>1:33:14.678</td>\n",
       "      <td>VER</td>\n",
       "      <td>2019</td>\n",
       "      <td>2010</td>\n",
       "    </tr>\n",
       "    <tr>\n",
       "      <th>1020</th>\n",
       "      <td>Abu Dhabi</td>\n",
       "      <td>2019-12-01</td>\n",
       "      <td>Lewis  Hamilton</td>\n",
       "      <td>Mercedes</td>\n",
       "      <td>55.0</td>\n",
       "      <td>1:34:05.715</td>\n",
       "      <td>HAM</td>\n",
       "      <td>2019</td>\n",
       "      <td>2010</td>\n",
       "    </tr>\n",
       "  </tbody>\n",
       "</table>\n",
       "<p>1021 rows × 9 columns</p>\n",
       "</div>"
      ],
      "text/plain": [
       "            Grand Prix        Date                Winner  \\\n",
       "0        Great Britain  1950-05-13         Nino  Farina    \n",
       "1               Monaco  1950-05-21  Juan Manuel  Fangio    \n",
       "2     Indianapolis 500  1950-05-30      Johnnie Parsons    \n",
       "3          Switzerland  1950-06-04         Nino  Farina    \n",
       "4              Belgium  1950-06-18  Juan Manuel  Fangio    \n",
       "...                ...         ...                   ...   \n",
       "1016             Japan  2019-10-13     Valtteri  Bottas    \n",
       "1017            Mexico  2019-10-27      Lewis  Hamilton    \n",
       "1018     United States  2019-11-03     Valtteri  Bottas    \n",
       "1019            Brazil  2019-11-17      Max  Verstappen    \n",
       "1020         Abu Dhabi  2019-12-01      Lewis  Hamilton    \n",
       "\n",
       "                           Car   Laps         Time Name Code  Year  Decade  \n",
       "0                   Alfa Romeo   70.0  2:13:23.600       FAR  1950    1950  \n",
       "1                   Alfa Romeo  100.0  3:13:18.700       FAN  1950    1950  \n",
       "2     Kurtis Kraft Offenhauser  138.0  2:46:55.970       PAR  1950    1950  \n",
       "3                   Alfa Romeo   42.0  2:02:53.700       FAR  1950    1950  \n",
       "4                   Alfa Romeo   35.0  2:47:26.000       FAN  1950    1950  \n",
       "...                        ...    ...          ...       ...   ...     ...  \n",
       "1016                  Mercedes   52.0  1:21:46.755       BOT  2019    2010  \n",
       "1017                  Mercedes   71.0  1:36:48.904       HAM  2019    2010  \n",
       "1018                  Mercedes   56.0  1:33:55.653       BOT  2019    2010  \n",
       "1019     Red Bull Racing Honda   71.0  1:33:14.678       VER  2019    2010  \n",
       "1020                  Mercedes   55.0  1:34:05.715       HAM  2019    2010  \n",
       "\n",
       "[1021 rows x 9 columns]"
      ]
     },
     "execution_count": 364,
     "metadata": {},
     "output_type": "execute_result"
    }
   ],
   "source": [
    "df_winners_lap_time"
   ]
  },
  {
   "cell_type": "code",
   "execution_count": 379,
   "metadata": {},
   "outputs": [
    {
     "data": {
      "text/plain": [
       "['Germany',\n",
       " 'Belgium',\n",
       " 'Great Britain',\n",
       " 'Italy',\n",
       " 'Monaco',\n",
       " 'United States',\n",
       " 'Spain',\n",
       " 'France']"
      ]
     },
     "execution_count": 379,
     "metadata": {},
     "output_type": "execute_result"
    }
   ],
   "source": [
    "# check which Grand Prix do exist in each Decade\n",
    "grand_prix_per_decade = df_winners_lap_time.groupby('Decade')['Grand Prix'].unique().reset_index()\n",
    "\n",
    "# Finden der Grand Prix, die in allen Jahrzehnten vorhanden sind\n",
    "common_grand_prix = set(grand_prix_per_decade.iloc[0]['Grand Prix'])\n",
    "for grand_prix_list in grand_prix_per_decade['Grand Prix']:\n",
    "    common_grand_prix.intersection_update(grand_prix_list)\n",
    "\n",
    "common_grand_prix_list = list(common_grand_prix)"
   ]
  },
  {
   "cell_type": "code",
   "execution_count": 389,
   "metadata": {},
   "outputs": [],
   "source": [
    "filtered_df = df_winners_lap_time[df_winners_lap_time['Grand Prix'].isin(common_grand_prix_list)]\n",
    "\n",
    "# Get the maximum laps per Grand Prix per Decade for the selected Grand Prix\n",
    "max_laps_per_gp_decade_filtered = filtered_df.loc[filtered_df.groupby(['Decade', 'Grand Prix'])['Laps'].idxmax()]"
   ]
  },
  {
   "cell_type": "code",
   "execution_count": 390,
   "metadata": {},
   "outputs": [
    {
     "data": {
      "text/html": [
       "<div>\n",
       "<style scoped>\n",
       "    .dataframe tbody tr th:only-of-type {\n",
       "        vertical-align: middle;\n",
       "    }\n",
       "\n",
       "    .dataframe tbody tr th {\n",
       "        vertical-align: top;\n",
       "    }\n",
       "\n",
       "    .dataframe thead th {\n",
       "        text-align: right;\n",
       "    }\n",
       "</style>\n",
       "<table border=\"1\" class=\"dataframe\">\n",
       "  <thead>\n",
       "    <tr style=\"text-align: right;\">\n",
       "      <th></th>\n",
       "      <th>Grand Prix</th>\n",
       "      <th>Date</th>\n",
       "      <th>Winner</th>\n",
       "      <th>Car</th>\n",
       "      <th>Laps</th>\n",
       "      <th>Time</th>\n",
       "      <th>Name Code</th>\n",
       "      <th>Year</th>\n",
       "      <th>Decade</th>\n",
       "    </tr>\n",
       "  </thead>\n",
       "  <tbody>\n",
       "    <tr>\n",
       "      <th>9</th>\n",
       "      <td>Belgium</td>\n",
       "      <td>1951-06-17</td>\n",
       "      <td>Nino  Farina</td>\n",
       "      <td>Alfa Romeo</td>\n",
       "      <td>36.0</td>\n",
       "      <td>2:45:46.200</td>\n",
       "      <td>FAR</td>\n",
       "      <td>1951</td>\n",
       "      <td>1950</td>\n",
       "    </tr>\n",
       "    <tr>\n",
       "      <th>10</th>\n",
       "      <td>France</td>\n",
       "      <td>1951-07-01</td>\n",
       "      <td>Juan Manuel  Fangio</td>\n",
       "      <td>Alfa Romeo</td>\n",
       "      <td>77.0</td>\n",
       "      <td>3:22:11.000</td>\n",
       "      <td>FAN</td>\n",
       "      <td>1951</td>\n",
       "      <td>1950</td>\n",
       "    </tr>\n",
       "    <tr>\n",
       "      <th>83</th>\n",
       "      <td>Germany</td>\n",
       "      <td>1959-08-02</td>\n",
       "      <td>Tony  Brooks</td>\n",
       "      <td>Ferrari</td>\n",
       "      <td>60.0</td>\n",
       "      <td>2:09:31.600</td>\n",
       "      <td>BRO</td>\n",
       "      <td>1959</td>\n",
       "      <td>1950</td>\n",
       "    </tr>\n",
       "    <tr>\n",
       "      <th>55</th>\n",
       "      <td>Great Britain</td>\n",
       "      <td>1956-07-14</td>\n",
       "      <td>Juan Manuel  Fangio</td>\n",
       "      <td>Ferrari</td>\n",
       "      <td>101.0</td>\n",
       "      <td>2:59:47.000</td>\n",
       "      <td>FAN</td>\n",
       "      <td>1956</td>\n",
       "      <td>1950</td>\n",
       "    </tr>\n",
       "    <tr>\n",
       "      <th>66</th>\n",
       "      <td>Italy</td>\n",
       "      <td>1957-09-08</td>\n",
       "      <td>Stirling  Moss</td>\n",
       "      <td>Vanwall</td>\n",
       "      <td>87.0</td>\n",
       "      <td>2:35:03.900</td>\n",
       "      <td>MOS</td>\n",
       "      <td>1957</td>\n",
       "      <td>1950</td>\n",
       "    </tr>\n",
       "  </tbody>\n",
       "</table>\n",
       "</div>"
      ],
      "text/plain": [
       "       Grand Prix        Date                Winner         Car   Laps  \\\n",
       "9         Belgium  1951-06-17         Nino  Farina   Alfa Romeo   36.0   \n",
       "10         France  1951-07-01  Juan Manuel  Fangio   Alfa Romeo   77.0   \n",
       "83        Germany  1959-08-02         Tony  Brooks      Ferrari   60.0   \n",
       "55  Great Britain  1956-07-14  Juan Manuel  Fangio      Ferrari  101.0   \n",
       "66          Italy  1957-09-08       Stirling  Moss      Vanwall   87.0   \n",
       "\n",
       "           Time Name Code  Year  Decade  \n",
       "9   2:45:46.200       FAR  1951    1950  \n",
       "10  3:22:11.000       FAN  1951    1950  \n",
       "83  2:09:31.600       BRO  1959    1950  \n",
       "55  2:59:47.000       FAN  1956    1950  \n",
       "66  2:35:03.900       MOS  1957    1950  "
      ]
     },
     "execution_count": 390,
     "metadata": {},
     "output_type": "execute_result"
    }
   ],
   "source": [
    "max_laps_per_gp_decade_filtered.head()"
   ]
  },
  {
   "cell_type": "code",
   "execution_count": 392,
   "metadata": {},
   "outputs": [
    {
     "name": "stderr",
     "output_type": "stream",
     "text": [
      "/var/folders/f0/pqy2clvx0nv38xm_npv8fklm0000gn/T/ipykernel_5798/3560112822.py:12: UserWarning:\n",
      "\n",
      "FixedFormatter should only be used together with FixedLocator\n",
      "\n"
     ]
    },
    {
     "data": {
      "image/png": "[encoded data removed]",
      "text/plain": [
       "<Figure size 1500x2000 with 8 Axes>"
      ]
     },
     "metadata": {},
     "output_type": "display_data"
    }
   ],
   "source": [
    "# Plot the barchart with subplots for each Grand Prix\n",
    "unique_grand_prix = max_laps_per_gp_decade_filtered['Grand Prix'].unique()\n",
    "fig, axes = plt.subplots(nrows=4, ncols=2, figsize=(15, 20), constrained_layout=True)\n",
    "\n",
    "for ax, grand_prix in zip(axes.flatten(), unique_grand_prix):\n",
    "    gp_data = max_laps_per_gp_decade_filtered[max_laps_per_gp_decade_filtered['Grand Prix'] == grand_prix]\n",
    "    ax.bar(gp_data['Decade'], gp_data['Laps'], label=grand_prix)\n",
    "    ax.set_title(grand_prix)\n",
    "    ax.set_xlabel('Decade')\n",
    "    ax.set_ylabel('Number of Laps')\n",
    "    ax.legend(title='Grand Prix')\n",
    "    ax.set_xticklabels(gp_data['Decade'], rotation=45)\n",
    "\n",
    "plt.suptitle('Maximum Number of Laps per Grand Prix by Decade', fontsize=16)\n",
    "plt.show()"
   ]
  },
  {
   "cell_type": "markdown",
   "metadata": {},
   "source": [
    "# Visualisierung Budget Entwicklung"
   ]
  },
  {
   "cell_type": "code",
   "execution_count": 28,
   "metadata": {},
   "outputs": [
    {
     "data": {
      "image/png": "[encoded data removed]",
      "text/plain": [
       "<Figure size 1200x800 with 1 Axes>"
      ]
     },
     "metadata": {},
     "output_type": "display_data"
    }
   ],
   "source": [
    "import pandas as pd\n",
    "import matplotlib.pyplot as plt\n",
    "\n",
    "# Fehler in der Team-Liste korrigieren und sicherstellen, dass alle Listen die gleiche Länge haben\n",
    "teams = [\"Jordan\"] * 13 + [\"Midland\"] + [\"Spyker\"] + [\"Force India\"] * 7\n",
    "\n",
    "# Füge die fehlenden Einträge in der Team-Liste hinzu\n",
    "teams.extend([\"Force India\"] * (24 - len(teams)))\n",
    "\n",
    "data = {\n",
    "    \"Jahr\": [1993, 1994, 1995, 1996, 1997, 1998, 1999, 2000, 2001, 2002, 2003, 2004, 2005, 2006, 2007, 2008, 2009, 2010, 2011, 2012, 2013, 2014, 2015, 2016],\n",
    "    \"Budget (Mio. £)\": [8.4, 9.8, 10.1, 13.1, 18.9, 34.1, 37.5, 44.0, 52.0, 44.3, 39.2, 37.2, 40.0, 35.8, 32.2, 60.1, 62.7, 61.5, 73.4, 62.4, 63.4, 57.7, 55.6, 61.1],\n",
    "    \"WM-Position\": [10, 5, 6, 5, 5, 4, 3, 6, 5, 6, 9, 9, 9, 10, 10, 10, 9, 7, 6, 7, 6, 6, 5, 4],\n",
    "    \"Team\": teams\n",
    "}\n",
    "\n",
    "df = pd.DataFrame(data)\n",
    "\n",
    "# Plot erstellen\n",
    "plt.figure(figsize=(12, 8))\n",
    "plt.bar(df[\"Jahr\"], df[\"Budget (Mio. £)\"], color='skyblue')\n",
    "plt.xlabel('Year')\n",
    "plt.ylabel('Budget (Mio. £)')\n",
    "plt.title('Veränderung des Budget (1993-2016) des heutigen Team Aston Martin F1')\n",
    "plt.xticks(rotation=45)\n",
    "plt.tight_layout()\n",
    "\n",
    "# Speichern des Diagramms als png\n",
    "plt.savefig('f1_team_budgets.png')"
   ]
  },
  {
   "cell_type": "markdown",
   "metadata": {},
   "source": [
    "<style>\n",
    "        body {{ font-family: Arial, sans-serif; line-height: 1.6; margin: 0; padding: 0; }}\n",
    "        .container {{ width: 80%; margin: auto; overflow: hidden; }}\n",
    "        header {{ background: #333; color: #fff; padding-top: 30px; min-height: 70px; border-bottom: #0779e4 3px solid; }}\n",
    "        header a {{ color: #fff; text-decoration: none; text-transform: uppercase; font-size: 16px; }}\n",
    "        header ul {{ padding: 0; list-style: none; }}\n",
    "        header li {{ float: left; display: inline; padding: 0 20px 0 20px; }}\n",
    "        header #branding {{ float: left; }}\n",
    "        header #branding h1 {{ margin: 0; }}\n",
    "        header nav {{ float: right; margin-top: 10px; }}\n",
    "        .showcase {{ min-height: 400px; background: url('showcase.jpg') no-repeat 0 -400px; text-align: center; color: #fff; }}\n",
    "        .showcase h1 {{ margin-top: 100px; font-size: 55px; margin-bottom: 10px; }}\n",
    "        .showcase p {{ font-size: 20px; }}\n",
    "        .content {{ padding: 20px; }}\n",
    "        .content h2 {{ color: #333; }}\n",
    "        .content img {{ display: block; margin: auto; width: 100%; max-width: 800px; }}\n",
    "        footer {{ background: #333; color: #fff; text-align: center; padding: 20px 0; }}\n",
    "        footer ul {{ list-style-type: none; padding: 0; }}\n",
    "        footer li {{ margin: 5px 0; }}\n",
    "        footer a {{ color: #fff; text-decoration: none; }}\n",
    "    </style>"
   ]
  },
  {
   "cell_type": "code",
   "execution_count": 26,
   "metadata": {},
   "outputs": [],
   "source": [
    "\"\"\"# Read the Plotly HTML file content\n",
    "plotly_file_path_map = 'plotly_races_per_decade.html'\n",
    "with open(plotly_file_path_map, 'r', encoding='utf-8') as file:\n",
    "    world_map = file.read()\n",
    "\n",
    "plotly_file_path_death = 'f1_driver_deaths_per_year.html'\n",
    "with open(plotly_file_path_death, 'r', encoding='utf-8') as file:\n",
    "    bar_security = file.read()\n",
    "\n",
    "# Wenn 'frames' nicht definiert ist, definieren Sie es als leeres Array\n",
    "frames = []\"\"\"\n",
    "\n",
    "# HTML Dokument erstellen\n",
    "html_content = f\"\"\"\n",
    "<!DOCTYPE html>\n",
    "<html lang=\"de\">\n",
    "<head>\n",
    "    <meta charset=\"UTF-8\">\n",
    "    <meta name=\"viewport\" content=\"width=device-width, initial-scale=1.0\">\n",
    "    <title>Die Evolution der Formel 1: Triumph und Technologie</title>\n",
    "    \n",
    "    <style>\n",
    "        body {{ \n",
    "            font-family: Arial, sans-serif; \n",
    "            line-height: 1.6; \n",
    "            margin: 0; \n",
    "            padding: 0; \n",
    "        }}\n",
    "        .container {{\n",
    "            width: 80%; \n",
    "            margin: auto; \n",
    "            overflow: hidden; \n",
    "            position: relative; \n",
    "            z-index: 2;\n",
    "        }}\n",
    "        .topic-section {{\n",
    "            padding: 50px 20px; \n",
    "            color: white;\n",
    "            background-size: cover;\n",
    "            background-position: center;\n",
    "        }}\n",
    "        .early-years {{\n",
    "            background-image: url('early_years.jpg'); /* Replace with the path to your image */\n",
    "        }}\n",
    "        .global-expansion {{\n",
    "            background-image: url('global_expansion.jpg'); /* Replace with the path to your image */\n",
    "        }}\n",
    "        .dominant-teams {{\n",
    "            background-image: url('dominant_teams.jpg'); /* Replace with the path to your image */\n",
    "        }}\n",
    "        .section-wrapper {{\n",
    "            position: relative;\n",
    "            min-height: 400px;\n",
    "            overflow: hidden;\n",
    "        }}\n",
    "        footer {{ \n",
    "            background: #333; \n",
    "            color: #fff; \n",
    "            text-align: center; \n",
    "            padding: 20px 0; \n",
    "        }}\n",
    "        footer ul {{ \n",
    "            list-style-type: none; \n",
    "            padding: 0; \n",
    "        }}\n",
    "        footer li {{ \n",
    "            margin: 5px 0; \n",
    "        }}\n",
    "        footer a {{ \n",
    "            color: #fff; \n",
    "            text-decoration: none; \n",
    "        }}\n",
    "    </style>\n",
    "    <script src=\"https://cdn.plot.ly/plotly-latest.min.js\"></script>\n",
    "    <script>\n",
    "        document.addEventListener('DOMContentLoaded', function() {{\n",
    "            var plotlyDiv = document.getElementById('plotly-div');\n",
    "            var frames = [];\n",
    "            function animatePlot() {{\n",
    "                Plotly.animate(plotlyDiv, frames.map(f => f.name), {{\n",
    "                    transition: {{duration: 500}},\n",
    "                    frame: {{duration: 2000, redraw: true}},\n",
    "                    mode: 'immediate'\n",
    "                }});\n",
    "            }}\n",
    "            plotlyDiv.on('plotly_animated', animatePlot);\n",
    "            plotlyDiv.on('plotly_sliderchange', function(e){{\n",
    "                console.log(e.step.label);\n",
    "            }});\n",
    "            animatePlot();\n",
    "        }});\n",
    "    </script>\n",
    "</head>\n",
    "<body>\n",
    "    <header>\n",
    "        <div class=\"container\">\n",
    "            <div id=\"branding\">\n",
    "                <h1>Die Evolution der Formel 1 – Von den 1950er Jahren bis heute</h1>\n",
    "            </div>\n",
    "        </div>\n",
    "    </header>\n",
    "    <div class=\"container\">\n",
    "        <h2>Wie alles begann</h2>\n",
    "        <p>Die Formel 1 ist seit ihrer Gründung im Jahr 1950 eine der aufregendsten und prestigeträchtigsten Motorsportarten der Welt. Sie vereint unglaubliche Geschwindigkeiten, technische Präzision und den unermüdlichen Kampfgeist der besten Fahrer. Jedes Rennen bietet Nervenkitzel und Spannung, wenn die besten Teams und Fahrer der Welt um die Spitze kämpfen. Dramatische Situationen, von atemberaubenden Überholmanövern bis hin zu haarsträubenden Unfällen, sind an der Tagesordnung und halten die Fans in Atem. Diese Mischung aus Geschwindigkeit, Risiko und technologischer Exzellenz macht die Formel 1 zu einem unvergleichlichen Spektakel.</p>\n",
    "\n",
    "        \n",
    "        <h3>Die frühen Jahre: Ein aufregender, aber unsicherer Sport</h3>\n",
    "        <p>In den Anfangsjahren der Formel 1 war die Spannung auf der Strecke unübertroffen, doch die Sicherheitsstandards ließen zu wünschen übrig. Die Fahrzeuge waren rudimentär und die Sicherheitsausrüstung beschränkte sich auf einfache Helme und Gurtzeuge. Rennstrecken hatten kaum Barrieren, was zu zahlreichen tödlichen Unfällen führte. Diese gefährlichen Bedingungen verdeutlichten die dringende Notwendigkeit für verbesserte Sicherheitsmaßnahmen.</p>\n",
    "        <div style=\"text-align: left;\">\n",
    "        <iframe src=\"f1_driver_deaths_per_year.html\" width=\"1300\" height=\"600\"></iframe>\n",
    "        </div>\n",
    "        <p>Wie in der Grafik \"Anzahl Todesfälle von F1-Fahrer pro Jahr\" ersichtlich ist, gab es in den 1950er und 1960er Jahren eine erhebliche Anzahl an Todesfällen. Wichtige Sicherheitsmaßnahmen wie die Einführung von Helmen (1952) und feuerfesten Rennoveralls (1975) wurden als Reaktion auf diese Unfälle eingeführt.</p>\n",
    "        <h3>1950er Jahre: Erste Sicherheitsmaßnahmen</h3>\n",
    "        <p>In den 1950er Jahren begann die Formel 1, erste Schritte zur Verbesserung der Sicherheit zu unternehmen. 1952 wurde das Tragen von Helmen zur Pflicht. Diese Maßnahme wurde als Reaktion auf die zahlreichen Kopfverletzungen eingeführt, die Fahrer bei Unfällen erlitten. 1959 wurden Überrollbügel vorgeschrieben, um die Fahrer bei Überschlägen zu schützen. Trotz dieser Maßnahmen blieb die Formel 1 ein gefährlicher Sport, bei dem viele Fahrer ihr Leben verloren.</p>\n",
    "        <h3>1960er und 1970er Jahre: Weiterführende Sicherheitsreformen</h3>\n",
    "        <p>Die 1960er Jahre sahen weitere Fortschritte in der Sicherheit, als sicherere Cockpits und feuerfeste Anzüge eingeführt wurden. Die Einführung feuerfester Anzüge im Jahr 1975 war eine direkte Reaktion auf mehrere Vorfälle, bei denen Fahrer bei Unfällen schwere Verbrennungen erlitten. Diese Maßnahmen waren entscheidend, um das Risiko schwerer Verletzungen und Todesfälle zu verringern.</p>\n",
    "        <h3>1980er Jahre: Technologische Innovationen und Sicherheitsstandards</h3>\n",
    "        <p>In den 1980er Jahren revolutionierte die Einführung des Kohlefaser-Monocoques die Sicherheitsstandards in der Formel 1. Dieses Material ist extrem stark und leicht, was dazu beiträgt, die Aufprallkräfte bei Unfällen zu absorbieren und die Überlebenschancen der Fahrer zu verbessern. Diese Entwicklung war eine Reaktion auf die hohen Geschwindigkeiten und die intensiveren Wettbewerbe, die höhere Sicherheitsanforderungen erforderten. Zudem wurden Crashtests für Formel-1-Fahrzeuge eingeführt, um sicherzustellen, dass die Autos den enormen Aufprallkräften standhalten können.</p>\n",
    "        <h3>1990er Jahre: Ein Jahrzehnt der Sicherheitsrevolution</h3>\n",
    "        <p>Ein Wendepunkt in der Sicherheitsgeschichte der Formel 1 war der tragische Tod von Ayrton Senna und Roland Ratzenberger während des Grand Prix von San Marino 1994. Diese Tragödien führten zur Einführung des HANS-Systems (Head and Neck Support), das Kopf- und Nackenverletzungen verhindern soll. Die FIA führte umfassende Änderungen an den Strecken und Fahrzeugen durch, um die Sicherheit weiter zu erhöhen. Dies umfasste unter anderem höhere Cockpitwände, bessere Crash-Strukturen und strengere Crashtest-Anforderungen.</p>\n",
    "        <h3>2000er Jahre: Weiterentwicklung der Sicherheitsstandards und technologische Innovationen</h3>\n",
    "        <p>In den 2000er Jahren wurden die Sicherheitsmaßnahmen weiter verfeinert. Das HANS-System wurde 2003 verpflichtend, und die Helme der Fahrer wurden weiter verbessert. Strenge Vorschriften für die Konstruktion der Autos, darunter die Verwendung von hochfesten Materialien wie Kohlefaser und Kevlar, trugen dazu bei, das Verletzungsrisiko zu minimieren. Die Einführung des Halo-Systems im Jahr 2018, einem Titanrahmen über dem Cockpit, war ein weiterer bedeutender Schritt zur Erhöhung der Sicherheit.</p>\n",
    "        <h3>2010er Jahre: Dominanz von Mercedes und die Rolle der Budgets</h3>\n",
    "        <p>In den 2010er Jahren begann Mercedes, die Formel 1 zu dominieren. Diese Dominanz war nicht nur auf technologische Überlegenheit zurückzuführen, sondern auch auf die enormen finanziellen Ressourcen des Teams. Dank ihrer finanziellen Stärke konnte Mercedes kontinuierlich in neue Technologien und Entwicklungen investieren, was ihnen einen klaren Wettbewerbsvorteil verschaffte.</p>\n",
    "        <p>Die Einführung der Budgetobergrenze im Jahr 2021 in der Formel 1 war ein notwendiger Schritt, um der Eskalation der Teambudgets entgegenzuwirken. In den letzten Jahrzehnten stiegen die Budgets erheblich an, was zur Dominanz von Teams wie Mercedes, Ferrari und Red Bull führte. Diese drei Teams konnten aufgrund ihrer enormen finanziellen Ressourcen kontinuierlich in neue Technologien und Entwicklungen investieren, was ihnen einen Wettbewerbsvorteil verschaffte.</p>\n",
    "        <p>Kleinere Teams, die nicht über ähnliche finanzielle Mittel verfügten, hatten Schwierigkeiten, mit den Top-Teams mitzuhalten. Dies führte zu einer wachsenden Kluft zwischen den reichen und den weniger gut ausgestatteten Teams. Selbst Teams mit effizienten Betriebsmodellen, wie Force India, konnten trotz guter Leistung und cleverem Management nicht mit der finanziellen Schlagkraft der großen Teams konkurrieren.</p>\n",
    "        <p>Die Einführung der Budgetobergrenze zielt darauf ab, die Kosten zu kontrollieren und den Wettbewerb in der Formel 1 zu verbessern. Es soll dafür sorgen, dass finanzielle Ressourcen nicht der einzige entscheidende Faktor für den Erfolg eines Teams sind, sondern dass auch technisches Können und strategisches Geschick eine größere Rolle spielen können.</p>\n",
    "        <p>Diese Maßnahme soll langfristig zu einem ausgeglicheneren und spannenderen Wettkampf führen, bei dem mehr Teams die Chance haben, um Siege und Titel zu kämpfen, was letztlich sowohl den Sport als auch die Fans profitieren lässt.</p>\n",
    "        <div style=\"text-align: center;\">\n",
    "            <img src=\"f1_team_budgets.png\" alt=\"Entwicklung der Teambudgets in der Formel 1\">\n",
    "        </div>\n",
    "        <p>Die Grafik zeigt die Veränderung der Budgets des Teams Jordan (später Midland, Spyker und Force India) in der Formel 1 von 1993 bis 2016. Der Chart verdeutlicht einen signifikanten Anstieg der Budgets über die Jahre hinweg.</p>\n",
    "\n",
    "        <h2>Kommerzialisierung und globale Expansion der Formel 1</h2>\n",
    "        <p>Parallel zu den finanziellen Entwicklungen hat sich die Formel 1 weltweit ausgebreitet. Anfangs war die Mehrheit der Rennen auf Europa beschränkt, doch mit zunehmender Popularität begannen die Rennen auch andere Kontinente zu erreichen. Heute finden Formel-1-Rennen auf der ganzen Welt statt, was die globale Beliebtheit und den Einfluss dieses Sports unterstreicht.</p>\n",
    "        \n",
    "        <p>Ein markantes Beispiel für diese Entwicklung ist die Expansion der Formel 1 in die USA, die in den letzten Jahren intensiv vorangetrieben wurde. Mit neuen Rennen wie dem Großen Preis von Miami und dem Großen Preis von Las Vegas wird deutlich, wie wichtig der nordamerikanische Markt für die Formel 1 geworden ist. Diese Globalisierung steht in direktem Zusammenhang mit den finanziellen Entwicklungen innerhalb des Sports.</p>\n",
    "    \n",
    "        <p>Die folgende Grafik zeigt die Anzahl der Rennen pro Dekade und illustriert den Anstieg der Rennanzahl, was auf die steigende Popularität und globale Expansion der Formel 1 hinweist:</p>\n",
    "        \n",
    "        <div style=\"text-align: left;\">\n",
    "        <iframe src=\"plotly_races_per_decade.html\" width=\"1300\" height=\"850\"></iframe>\n",
    "        </div>\n",
    "        \n",
    "        <p>Die Verteilung der Rennen auf verschiedenen Kontinenten zeigt, dass die Formel 1 eine internationale Sportart geworden ist. Rennstrecken in Nordamerika, Südamerika, Asien, Australien und dem Nahen Osten ergänzen die traditionellen europäischen Rennen und bieten Fans weltweit die Möglichkeit, die Rennen live zu verfolgen. Diese globale Präsenz hat nicht nur dazu beigetragen, die Fanbasis zu erweitern, sondern auch die wirtschaftlichen Möglichkeiten für den Sport zu vergrößern.</p>\n",
    "\n",
    "        <h2>Dominante Teams: Triumph und Technologie</h2>\n",
    "        <p>Ein weiteres faszinierendes Kapitel in der Geschichte der Formel 1 ist die Dominanz bestimmter Teams in verschiedenen Dekaden. Diese Dominanz wurde oft durch herausragende Fahrer und innovative Technik unterstützt. Die folgende Grafik illustriert die dominanten Teams pro Dekade und zeigt die Anzahl ihrer Siege in dieser Zeit:</p>\n",
    "        <div style=\"text-align: center;\">\n",
    "            <img src=\"dominante_teams.png\" alt=\"Dominante Teams pro Dekade in der Formel 1\">\n",
    "        </div>\n",
    "        <h3>Dominante Teams pro Dekade</h3>\n",
    "        <ul>\n",
    "            <li>\n",
    "                <h3>1960er Jahre: Lotus</h3>\n",
    "                <p>Lotus dominierte mit 36 Siegen. Fahrer wie Jim Clark und innovative Designs prägten diese Ära.</p>\n",
    "                <p>1963 setzte Lotus mit dem Lotus 25 neue Maßstäbe. Jim Clark gewann sieben von zehn Rennen und überrundete beim Großen Preis der Niederlande jeden Konkurrenten. Lotus' Erfolg basierte auf Colin Chapmans bahnbrechenden Designs, die oft risikoreich, aber revolutionär waren.</p>\n",
    "            </li>\n",
    "            <li>\n",
    "                <h3>1970er Jahre: Ferrari</h3>\n",
    "                <p>Ferrari gewann 37 Rennen, unterstützt von Fahrern wie Niki Lauda und technischer Exzellenz.</p>\n",
    "                <p>In den 70ern führte Ferrari mit Niki Lauda und Jody Scheckter. Laudas Rückkehr nach seinem beinahe tödlichen Unfall 1976 und sein darauf folgender Titelgewinn 1977 sind legendäre Geschichten dieser Ära.</p>\n",
    "            </li>\n",
    "            <li>\n",
    "                <h3>1980er Jahre: McLaren</h3>\n",
    "                <p>McLaren führte mit 56 Siegen. Fahrer wie Alain Prost und Ayrton Senna trugen zur Dominanz bei.</p>\n",
    "                <p>1984 dominierten Niki Lauda und Alain Prost in ihren McLaren-TAGs die Saison und gewannen zwölf von 16 Rennen. Das Duell zwischen Lauda und Prost war episch, und Lauda sicherte sich den Titel mit einem halben Punkt Vorsprung. 1988, mit Honda-Power, gewann McLaren 15 von 16 Rennen, eine beispiellose Leistung.</p>\n",
    "            </li>\n",
    "            <li>\n",
    "                <h3>1990er Jahre: Williams</h3>\n",
    "                <p>Williams dominierte mit 73 Siegen, unterstützt von technologischen Innovationen und starken Fahrern wie Nigel Mansell.</p>\n",
    "                <p>Williams setzte in den 90ern auf fortschrittliche Technologien wie die aktive Federung. Nigel Mansell gewann 1992 neun Rennen und sicherte sich den Titel fünf Rennen vor Saisonende. Auch Fahrer wie Damon Hill und Jacques Villeneuve trugen zur Dominanz von Williams bei.</p>\n",
    "            </li>\n",
    "            <li>\n",
    "                <h3>2000er Jahre: Ferrari</h3>\n",
    "                <p>Ferrari kehrte mit 86 Siegen zurück. Michael Schumacher und technische Fortschritte sicherten den Erfolg.</p>\n",
    "                <p>Unter der Leitung von Jean Todt und Ross Brawn sowie mit Michael Schumacher als Starfahrer erlebte Ferrari eine der erfolgreichsten Phasen in der Geschichte der Formel 1. Von 2000 bis 2004 gewann Schumacher fünf aufeinanderfolgende Weltmeisterschaften und setzte zahlreiche Rekorde. Besonders 2004 dominierte Schumacher mit 13 Siegen in 18 Rennen.</p>\n",
    "            </li>\n",
    "            <li>\n",
    "                <h3>2010er Jahre: Mercedes</h3>\n",
    "                <p>Mercedes dominierte mit 111 Siegen. Die Hybrid-Ära und Fahrer wie Lewis Hamilton prägten diese Dekade.</p>\n",
    "                <p>Mit der Einführung der Hybrid-Ära 2014 begann Mercedes, die Formel 1 zu dominieren. Die Kombination aus einer überlegenen Power Unit und herausragenden Fahrern führte dazu, dass Mercedes zahlreiche Weltmeisterschaften und Konstrukteurstitel gewann. Lewis Hamilton und Nico Rosberg waren die treibenden Kräfte hinter diesem Erfolg. Besonders bemerkenswert war die Saison 2016, als Hamilton und Rosberg bis zum letzten Rennen um den Titel kämpften.</p>\n",
    "            </li>\n",
    "        </ul>\n",
    "        <p>Insgesamt zeigt die Geschichte der Formel 1, dass verschiedene Teams über die Jahrzehnte hinweg ihre Dominanz ausüben konnten, oft unterstützt durch herausragende Fahrer und innovative Technik. Ständige Regeländerungen und technologische Fortschritte trugen dazu bei, dass keine Dekade der vorherigen glich, was die Formel 1 zu einem stets spannenden und dynamischen Sport macht.</p>\n",
    "\n",
    "        <h2>Fazit</h2>\n",
    "        <p>Die Geschichte der Formel 1 zeigt eine bemerkenswerte Evolution in verschiedenen Bereichen. Von den sicherheitsrelevanten Fortschritten über die finanzielle Entwicklung bis hin zur globalen Expansion und der Dominanz bestimmter Teams – jede dieser Facetten hat dazu beigetragen, die Formel 1 zu dem faszinierenden und dynamischen Sport zu machen, der er heute ist. Diese Entwicklungen haben nicht nur die Sicherheit der Fahrer erhöht, sondern auch die Attraktivität und den wirtschaftlichen Erfolg der Formel 1 gesteigert, was sie zu einem globalen Phänomen gemacht hat.</p>\n",
    "    </div>\n",
    "    <footer>\n",
    "        <p>© Die Evolution der Formel 1 – Von den 1950er Jahren bis heute.</p>\n",
    "        <h3>Quellenverzeichnis</h3>\n",
    "        <ul>\n",
    "            <li>Die Formel 1 und die Sicherheit: 1950 bis heute: <a href=\"https://www.motorsport-magazin.com/formel1/news-202835-die-formel-1-und-die-sicherheit-1950-bis-heute/\" target=\"_blank\">Link</a></li>\n",
    "            <li>Formel 1: Entwicklung der Teambudgets – Der Fluch des Geldes: <a href=\"https://www.motorsport-magazin.com/formel1/news-268629-formel-1-entwicklung-der-teambudgets-der-fluch-des-geldes/\" target=\"_blank\">Link</a></li>\n",
    "            <li>Die größten Dominanzen der Formel 1-Geschichte: <a href=\"https://www.motorsport-magazin.com/formel1/news-225064-die-groessten-dominanzen-der-formel-1-geschichte/\" target=\"_blank\">Link</a></li>\n",
    "            <li>Sicherheit in der F1: Verbesserungen und Datenbank der Unfälle: <a href=\"https://www.auto-motor-und-sport.de/formel-1/sicherheit-f1-verbesserungen-datenbank-unfaelle/\" target=\"_blank\">Link</a></li>\n",
    "            <li>Formel 1 Historisches: <a href=\"https://www.motorsport-magazin.com/formel1/historisches.html\" target=\"_blank\">Link</a></li>\n",
    "            <li>Formel 1 Datenbank: Strecken: <a href=\"https://www.formel1.de/formel-1-datenbank/object.php?subject=track\" target=\"_blank\">Link</a></li>\n",
    "        </ul>\n",
    "    </footer>\n",
    "</body>\n",
    "</html>\n",
    "\"\"\"\n",
    "\n",
    "# HTML Datei speichern\n",
    "with open(\"datenstory_formel1.html\", \"w\") as file:\n",
    "    file.write(html_content)\n",
    "\n",
    "\n",
    "# Optional: Anzeige der HTML-Datei in Jupyter Notebook\n",
    "#display(HTML(html_content))"
   ]
  }
 ],
 "metadata": {
  "kernelspec": {
   "display_name": "Python 3",
   "language": "python",
   "name": "python3"
  },
  "language_info": {
   "codemirror_mode": {
    "name": "ipython",
    "version": 3
   },
   "file_extension": ".py",
   "mimetype": "text/x-python",
   "name": "python",
   "nbconvert_exporter": "python",
   "pygments_lexer": "ipython3",
   "version": "3.10.6"
  }
 },
 "nbformat": 4,
 "nbformat_minor": 2
}
